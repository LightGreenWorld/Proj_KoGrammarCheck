{
  "cells": [
    {
      "cell_type": "markdown",
      "metadata": {
        "id": "view-in-github",
        "colab_type": "text"
      },
      "source": [
        "<a href=\"https://colab.research.google.com/github/LightGreenWorld/Proj_NLP_Kobert/blob/main/Grammatical_final.ipynb\" target=\"_parent\"><img src=\"https://colab.research.google.com/assets/colab-badge.svg\" alt=\"Open In Colab\"/></a>"
      ]
    },
    {
      "cell_type": "code",
      "execution_count": null,
      "metadata": {
        "scrolled": true,
        "id": "QejzaEXTcEbP",
        "outputId": "4850b592-95f8-4d32-e93a-0e8dc80e7270"
      },
      "outputs": [
        {
          "name": "stdout",
          "output_type": "stream",
          "text": [
            "Requirement already satisfied: torch in /opt/anaconda3/envs/LLM_gramKo/lib/python3.12/site-packages (2.3.1)\n",
            "Requirement already satisfied: filelock in /opt/anaconda3/envs/LLM_gramKo/lib/python3.12/site-packages (from torch) (3.14.0)\n",
            "Requirement already satisfied: typing-extensions>=4.8.0 in /opt/anaconda3/envs/LLM_gramKo/lib/python3.12/site-packages (from torch) (4.12.2)\n",
            "Requirement already satisfied: sympy in /opt/anaconda3/envs/LLM_gramKo/lib/python3.12/site-packages (from torch) (1.12.1)\n",
            "Requirement already satisfied: networkx in /opt/anaconda3/envs/LLM_gramKo/lib/python3.12/site-packages (from torch) (3.3)\n",
            "Requirement already satisfied: jinja2 in /opt/anaconda3/envs/LLM_gramKo/lib/python3.12/site-packages (from torch) (3.1.4)\n",
            "Requirement already satisfied: fsspec in /opt/anaconda3/envs/LLM_gramKo/lib/python3.12/site-packages (from torch) (2024.6.0)\n",
            "Requirement already satisfied: MarkupSafe>=2.0 in /opt/anaconda3/envs/LLM_gramKo/lib/python3.12/site-packages (from jinja2->torch) (2.1.5)\n",
            "Requirement already satisfied: mpmath<1.4.0,>=1.1.0 in /opt/anaconda3/envs/LLM_gramKo/lib/python3.12/site-packages (from sympy->torch) (1.3.0)\n",
            "Note: you may need to restart the kernel to use updated packages.\n"
          ]
        }
      ],
      "source": [
        "pip install torch"
      ]
    },
    {
      "cell_type": "code",
      "execution_count": null,
      "metadata": {
        "id": "JHpB2JqIcEbQ",
        "outputId": "5c69f373-3ba3-418a-f638-636eee827633"
      },
      "outputs": [
        {
          "name": "stdout",
          "output_type": "stream",
          "text": [
            "Requirement already satisfied: numpy in /opt/anaconda3/envs/LLM_gramKo/lib/python3.12/site-packages (1.26.4)\n",
            "Note: you may need to restart the kernel to use updated packages.\n"
          ]
        }
      ],
      "source": [
        "pip install numpy"
      ]
    },
    {
      "cell_type": "code",
      "execution_count": null,
      "metadata": {
        "id": "etbLstJ6cEbQ",
        "outputId": "e3a34f87-ad8c-4690-bd26-92f5d42b970c"
      },
      "outputs": [
        {
          "name": "stdout",
          "output_type": "stream",
          "text": [
            "Requirement already satisfied: pandas in /opt/anaconda3/envs/LLM_gramKo/lib/python3.12/site-packages (2.2.2)\n",
            "Requirement already satisfied: numpy>=1.26.0 in /opt/anaconda3/envs/LLM_gramKo/lib/python3.12/site-packages (from pandas) (1.26.4)\n",
            "Requirement already satisfied: python-dateutil>=2.8.2 in /opt/anaconda3/envs/LLM_gramKo/lib/python3.12/site-packages (from pandas) (2.9.0.post0)\n",
            "Requirement already satisfied: pytz>=2020.1 in /opt/anaconda3/envs/LLM_gramKo/lib/python3.12/site-packages (from pandas) (2024.1)\n",
            "Requirement already satisfied: tzdata>=2022.7 in /opt/anaconda3/envs/LLM_gramKo/lib/python3.12/site-packages (from pandas) (2024.1)\n",
            "Requirement already satisfied: six>=1.5 in /opt/anaconda3/envs/LLM_gramKo/lib/python3.12/site-packages (from python-dateutil>=2.8.2->pandas) (1.16.0)\n",
            "Note: you may need to restart the kernel to use updated packages.\n"
          ]
        }
      ],
      "source": [
        "pip install pandas"
      ]
    },
    {
      "cell_type": "code",
      "execution_count": null,
      "metadata": {
        "id": "aOLaRE_xcEbQ"
      },
      "outputs": [],
      "source": [
        "import numpy as np"
      ]
    },
    {
      "cell_type": "code",
      "execution_count": null,
      "metadata": {
        "colab": {
          "base_uri": "https://localhost:8080/"
        },
        "id": "8yxJzt9AyRuW",
        "outputId": "22abb4a3-9f44-4f17-8bef-2c6980c75542"
      },
      "outputs": [
        {
          "name": "stdout",
          "output_type": "stream",
          "text": [
            "MPS 장치를 지원하도록 build가 되었는가? True\n",
            "MPS 장치가 사용 가능한가? True\n"
          ]
        }
      ],
      "source": [
        "import torch\n",
        "from torch import nn\n",
        "import torch.nn.functional as F\n",
        "import torch.optim as optim\n",
        "from torch.utils.data import Dataset, DataLoader, TensorDataset, SequentialSampler, RandomSampler, random_split\n",
        "\n",
        "if torch.cuda.is_available(): # GPU 이용 가능하다면,\n",
        "  device = torch.device(\"cuda\")   # 파이토치에게 GPU(\"cuda\") 사용하라고 말해; CUDA(Computed Unified Device Architecture)\n",
        "  print(\"There are %d GPU(s) available.\" % torch.cuda.device_count())\n",
        "  print(\"We will use the GPU:\", torch.cuda.get_device_name(0))  # GPU 장치 이름 출력\n",
        "\n",
        "elif torch.backends.mps.is_built() & torch.backends.mps.is_available():\n",
        "  print(f\"MPS 장치를 지원하도록 build가 되었는가? {torch.backends.mps.is_built()}\")\n",
        "  print(f\"MPS 장치가 사용 가능한가? {torch.backends.mps.is_available()}\")\n",
        "  device = torch.device(\"mps\")\n",
        "\n",
        "else:\n",
        "  print(\"No GPU available, using the CPU instead\")\n",
        "  device = torch.device(\"cpu\")    # GPU가 없다면/GPU를 이용할 수 없다면 파이토치에게 CPU(\"cpu\") 사용하라고 말해줘"
      ]
    },
    {
      "cell_type": "code",
      "execution_count": null,
      "metadata": {
        "colab": {
          "base_uri": "https://localhost:8080/"
        },
        "id": "ukdoulEu2hoI",
        "outputId": "d368cb80-b2ae-4a08-c0cf-f7124067a2fc"
      },
      "outputs": [
        {
          "name": "stdout",
          "output_type": "stream",
          "text": [
            "Number of training sentence: 15,877\n",
            "\n",
            "Number of dev sentence: 2,033\n",
            "\n",
            "Number of test sentence: 1,061\n",
            "\n",
            " train:   sentence_source_train          label_train        label_notes  \\\n",
            "0                source  acceptability_label  source_annotation   \n",
            "1                T00001                    1                NaN   \n",
            "2                T00001                    0                  *   \n",
            "3                T00002                    1                NaN   \n",
            "4                T00003                    1                NaN   \n",
            "5                T00004                    1                NaN   \n",
            "6                T00004                    0                  *   \n",
            "7                T00005                    1                NaN   \n",
            "8                T00005                    0                  ?   \n",
            "9                T00006                    1                NaN   \n",
            "\n",
            "    sentence_train  \n",
            "0         sentence  \n",
            "1        높은 달이 떴다.  \n",
            "2       달이 뜸이 높았다.  \n",
            "3  실없는 사람이 까불까불한다.  \n",
            "4  나는 철수에게 공을 던졌다.  \n",
            "5  내가 순이와 둘이서 다툰다.  \n",
            "6  내가 순이와 우리가 다툰다.  \n",
            "7     나는 부지런히 뛰었다.  \n",
            "8    나는 부지런히 뛰어졌다.  \n",
            "9      사랑이 죄는 아니다.  \n",
            " test:    index              sentence_test\n",
            "0  index                   sentence\n",
            "1      0        나는 철수에게 공을 던져다 주었다.\n",
            "2      1          먹은 것을 다 소화시켜야 한다.\n",
            "3      2    그가 노래를 부르고는 내가 피아노를 쳤다.\n",
            "4      3  철수가 영수의 손을 잡아서 눈물을 글썽거렸다.\n",
            "5      4             그의 업적은 길이 빛난다.\n",
            "6      5                 별이 반짝반짝한다.\n",
            "7      6             영수와 철수가 같이하였다.\n",
            "8      7       화초가 시들었다. 꽃밭에 물을 줄까?\n",
            "9      8       철호가 성실하다고 나에 의해 보인다.\n"
          ]
        }
      ],
      "source": [
        "import pandas as pd # tsv파일 열기 위한 라이브러리\n",
        "\n",
        "# Train(훈련) / Dev(검증) / Test(테스트) dataset\n",
        "dataset_train = pd.read_csv(\"/opt/anaconda3/envs/LLM_gramKo/dataset/NIKL_CoLA_train.tsv\", delimiter = '\\t', header=None, names = ['sentence_source_train', 'label_train', 'label_notes', 'sentence_train'])\n",
        "dataset_dev = pd.read_csv(\"/opt/anaconda3/envs/LLM_gramKo/dataset/NIKL_CoLA_dev.tsv\", delimiter = '\\t', header = None, names = ['sentence_source_dev', 'label_dev', 'lable_notes_dev', 'sentence_dev'])\n",
        "dataset_test = pd.read_csv(\"/opt/anaconda3/envs/LLM_gramKo/dataset/NIKL_CoLA_test.tsv\", delimiter = '\\t', header = None, names = ['index', 'sentence_test'])\n",
        "\n",
        "# 문장 개수 확인\n",
        "print(\"Number of training sentence: {:,}\\n\".format(dataset_train.shape[0]))\n",
        "print(\"Number of dev sentence: {:,}\\n\".format(dataset_dev.shape[0]))\n",
        "print(\"Number of test sentence: {:,}\\n\".format(dataset_test.shape[0]))\n",
        "\n",
        "# To check the table frame\n",
        "print(f' train: {dataset_train.head(10)}')\n",
        "print(f' test: {dataset_test.head(10)}')\n",
        "\n",
        "# 랜덤으로 10개 문장 확인\n",
        "# dataset_train.sample(10)\n",
        "# dataset_dev.sample(10)\n",
        "# dataset_test.sample(10)"
      ]
    },
    {
      "cell_type": "markdown",
      "metadata": {
        "id": "l5myypA0cEbS"
      },
      "source": [
        "## Process to train Model"
      ]
    },
    {
      "cell_type": "markdown",
      "metadata": {
        "id": "psMCwl9epHfn"
      },
      "source": [
        "### Pre-processing of Dataset_train & _dev & _test 전처리"
      ]
    },
    {
      "cell_type": "code",
      "execution_count": null,
      "metadata": {
        "colab": {
          "base_uri": "https://localhost:8080/"
        },
        "id": "llCK3KmE2nR9",
        "outputId": "f3a50ddd-2d45-4612-94e8-e74ba1846ff3"
      },
      "outputs": [
        {
          "name": "stdout",
          "output_type": "stream",
          "text": [
            "--------------------------\n",
            "The whole train dataset: \n",
            " [['T00001' '1' nan '높은 달이 떴다.']\n",
            " ['T00001' '0' '*' '달이 뜸이 높았다.']\n",
            " ['T00002' '1' nan '실없는 사람이 까불까불한다.']\n",
            " ...\n",
            " ['T09999' '1' nan '선생님이 순희에게 책을 읽게 하시나 순희는 책을 읽지 않는다.']\n",
            " ['T09999' '0' '*' '선생님이 순희에게 책을 읽히시나 순희는 책을 읽지 않는다']\n",
            " ['T10000' '1' nan '그의 부주의로 말미암아 사건이 터졌다.']]\n",
            "The whole dev dataset: \n",
            " [['T00002' '0' '*' '실없는 사람이 까불한다.']\n",
            " ['T00029' '1' nan '순희에게는 아무리 좋은 옷도 어울리지 않는다.']\n",
            " ['T00033' '0' '*' '사람은 언제나 젊는 수는 없다.']\n",
            " ...\n",
            " ['T09994' '0' '*' '밤새 그 술을 다 먹었는 것이다.']\n",
            " ['T09997' '1' nan '학교에서 철수는 놀았고, 순이는 공부했다.']\n",
            " ['T10000' '0' '*' '그의 부주의에 말미암아 사건이 터졌다.']]\n",
            "The whole test dataset: \n",
            " [['0' '나는 철수에게 공을 던져다 주었다.']\n",
            " ['1' '먹은 것을 다 소화시켜야 한다.']\n",
            " ['2' '그가 노래를 부르고는 내가 피아노를 쳤다.']\n",
            " ...\n",
            " ['1057' '그는 나를 바보 여긴다.']\n",
            " ['1058' '수호는 모든 일에 전혀 무감각하다.']\n",
            " ['1059' '나는 할아버지가 제일 무서우시다.']]\n"
          ]
        }
      ],
      "source": [
        "# 데이터 전처리\n",
        "import numpy as np\n",
        "\n",
        "# to convert each column of train data to list excluding column's name and index\n",
        "sentences_train = dataset_train.sentence_train.values[1:]\n",
        "labels_train = dataset_train.label_train.values[1:].astype(np.int64)\n",
        "#print(\"Train_sentences: \", sentences_train)\n",
        "#print(\"Train_labels: \", labels_train)\n",
        "\n",
        "# to convert each column of dev data to list excluding column's name and index\n",
        "sentences_dev = dataset_dev.sentence_dev.values[1:]\n",
        "labels_dev = dataset_dev.label_dev.values[1:].astype(np.int64) # To change to integer\n",
        "#print(\"Dev_sentences: \", sentences_dev)\n",
        "#print(\"Dev_labels: \", labels_dev)\n",
        "\n",
        "# to convert each column of test data to list excluding column's name and index\n",
        "sentences_test = dataset_test.sentence_test.values[1:]\n",
        "index_test = dataset_test.index.values[1:].astype(np.int64) # To change to integer\n",
        "#print(\"Test_sentences: \", sentences_test)\n",
        "#print(\"Test_index: \", index_test)\n",
        "\n",
        "# to convert the whole columns of train/dev/test data to list excluding column's name and index\n",
        "dataset_train = dataset_train.values[1:]\n",
        "dataset_dev = dataset_dev.values[1:]\n",
        "dataset_test = dataset_test.values[1:]\n",
        "\n",
        "print(\"--------------------------\")\n",
        "print(f'The whole train dataset: \\n {dataset_train}')\n",
        "print(f'The whole dev dataset: \\n {dataset_dev}')\n",
        "print(f'The whole test dataset: \\n {dataset_test}')"
      ]
    },
    {
      "cell_type": "markdown",
      "metadata": {
        "id": "D6XU4Er400Fc"
      },
      "source": [
        "### SKT-Kobert 인스톨"
      ]
    },
    {
      "cell_type": "code",
      "execution_count": null,
      "metadata": {
        "colab": {
          "base_uri": "https://localhost:8080/",
          "height": 1000,
          "referenced_widgets": [
            "b16889af7490482f937d62c7bb1a8dc1",
            "c4e2ed038804421a8388d38c3f09ca0d",
            "b7802262fd3d4c40b6c4ab2ba23fe325",
            "eec978a1d682412b93be1bc8c3212307",
            "e981d6de3b0a481f8c9cdcd681615b75",
            "ce0234ebcdaf47b3bababf2d3c8c7cf6",
            "914d3e71ced64e34a1bb9c2171dff3dd",
            "1047bc68c0a64d9e80d8432cfda5f1f5",
            "92fc3abf2667454fb0fc97b5c14fca02",
            "f90ab133bf6444a1b9448472ac4f32c5",
            "e1e85c09be594fd9bc8b046affc04223",
            "d8d098d39b7040dfaa2e9168e842c25e",
            "491762f1bbf944b4a9d9a47634e81e35",
            "e44b5cdc0ed141cab04300e745b38905",
            "55f86abc02024991a396fe22c54b20e7",
            "e9331df2463e4e949c90758dc7bbf421",
            "5375ba7fe9f84f7483a39f6ae98df236",
            "c7c3c89973664906acdbf19ab1ef347e",
            "a82ecb19fa5b4d4895301e4bbbfa49a4",
            "e78c6a4c61b9409288d7d4a22a5abd55",
            "88da8733cb2646f4b8c2f4d45f78a4dd",
            "e6eb58fd023b4876b9cff3408a93b14c",
            "bd36dc05480e488f81f1567378f0a7f5",
            "588f2378386c4b2cbd6707f021054a68",
            "67b1436054ca472dabc989012a7a289e",
            "24715661b79147a590ecfd414b8a762a",
            "a89357411fc347699827b23e54e5c9a2",
            "75f1e3b8961b41bbb8ae2eb68c59d655",
            "5d9487d65d404ad6a8796f448e4cd9fe",
            "5bdaa19b85684e5390697e294cd9190a",
            "69c26f52927b44b691e87b9034ca8a9d",
            "2518889e828f4961bc144e37697e906d",
            "721010663e474bb98dd8a15352a37658"
          ]
        },
        "id": "_m8C1S64orDf",
        "outputId": "165f9369-87d5-4125-8eb3-cf9791aeb870"
      },
      "outputs": [
        {
          "name": "stdout",
          "output_type": "stream",
          "text": [
            "Requirement already satisfied: kobert-transformers in /opt/anaconda3/envs/LLM_gramKo/lib/python3.12/site-packages (0.5.1)\n",
            "Requirement already satisfied: torch>=1.1.0 in /opt/anaconda3/envs/LLM_gramKo/lib/python3.12/site-packages (from kobert-transformers) (2.3.1)\n",
            "Requirement already satisfied: transformers<5,>=3 in /opt/anaconda3/envs/LLM_gramKo/lib/python3.12/site-packages (from kobert-transformers) (4.41.2)\n",
            "Requirement already satisfied: sentencepiece>=0.1.91 in /opt/anaconda3/envs/LLM_gramKo/lib/python3.12/site-packages (from kobert-transformers) (0.2.0)\n",
            "Requirement already satisfied: filelock in /opt/anaconda3/envs/LLM_gramKo/lib/python3.12/site-packages (from torch>=1.1.0->kobert-transformers) (3.14.0)\n",
            "Requirement already satisfied: typing-extensions>=4.8.0 in /opt/anaconda3/envs/LLM_gramKo/lib/python3.12/site-packages (from torch>=1.1.0->kobert-transformers) (4.12.2)\n",
            "Requirement already satisfied: sympy in /opt/anaconda3/envs/LLM_gramKo/lib/python3.12/site-packages (from torch>=1.1.0->kobert-transformers) (1.12.1)\n",
            "Requirement already satisfied: networkx in /opt/anaconda3/envs/LLM_gramKo/lib/python3.12/site-packages (from torch>=1.1.0->kobert-transformers) (3.3)\n",
            "Requirement already satisfied: jinja2 in /opt/anaconda3/envs/LLM_gramKo/lib/python3.12/site-packages (from torch>=1.1.0->kobert-transformers) (3.1.4)\n",
            "Requirement already satisfied: fsspec in /opt/anaconda3/envs/LLM_gramKo/lib/python3.12/site-packages (from torch>=1.1.0->kobert-transformers) (2024.6.0)\n",
            "Requirement already satisfied: huggingface-hub<1.0,>=0.23.0 in /opt/anaconda3/envs/LLM_gramKo/lib/python3.12/site-packages (from transformers<5,>=3->kobert-transformers) (0.23.3)\n",
            "Requirement already satisfied: numpy>=1.17 in /opt/anaconda3/envs/LLM_gramKo/lib/python3.12/site-packages (from transformers<5,>=3->kobert-transformers) (1.26.4)\n",
            "Requirement already satisfied: packaging>=20.0 in /opt/anaconda3/envs/LLM_gramKo/lib/python3.12/site-packages (from transformers<5,>=3->kobert-transformers) (24.1)\n",
            "Requirement already satisfied: pyyaml>=5.1 in /opt/anaconda3/envs/LLM_gramKo/lib/python3.12/site-packages (from transformers<5,>=3->kobert-transformers) (6.0.1)\n",
            "Requirement already satisfied: regex!=2019.12.17 in /opt/anaconda3/envs/LLM_gramKo/lib/python3.12/site-packages (from transformers<5,>=3->kobert-transformers) (2024.5.15)\n",
            "Requirement already satisfied: requests in /opt/anaconda3/envs/LLM_gramKo/lib/python3.12/site-packages (from transformers<5,>=3->kobert-transformers) (2.32.3)\n",
            "Requirement already satisfied: tokenizers<0.20,>=0.19 in /opt/anaconda3/envs/LLM_gramKo/lib/python3.12/site-packages (from transformers<5,>=3->kobert-transformers) (0.19.1)\n",
            "Requirement already satisfied: safetensors>=0.4.1 in /opt/anaconda3/envs/LLM_gramKo/lib/python3.12/site-packages (from transformers<5,>=3->kobert-transformers) (0.4.3)\n",
            "Requirement already satisfied: tqdm>=4.27 in /opt/anaconda3/envs/LLM_gramKo/lib/python3.12/site-packages (from transformers<5,>=3->kobert-transformers) (4.66.4)\n",
            "Requirement already satisfied: MarkupSafe>=2.0 in /opt/anaconda3/envs/LLM_gramKo/lib/python3.12/site-packages (from jinja2->torch>=1.1.0->kobert-transformers) (2.1.5)\n",
            "Requirement already satisfied: charset-normalizer<4,>=2 in /opt/anaconda3/envs/LLM_gramKo/lib/python3.12/site-packages (from requests->transformers<5,>=3->kobert-transformers) (3.3.2)\n",
            "Requirement already satisfied: idna<4,>=2.5 in /opt/anaconda3/envs/LLM_gramKo/lib/python3.12/site-packages (from requests->transformers<5,>=3->kobert-transformers) (3.7)\n",
            "Requirement already satisfied: urllib3<3,>=1.21.1 in /opt/anaconda3/envs/LLM_gramKo/lib/python3.12/site-packages (from requests->transformers<5,>=3->kobert-transformers) (2.2.1)\n",
            "Requirement already satisfied: certifi>=2017.4.17 in /opt/anaconda3/envs/LLM_gramKo/lib/python3.12/site-packages (from requests->transformers<5,>=3->kobert-transformers) (2024.6.2)\n",
            "Requirement already satisfied: mpmath<1.4.0,>=1.1.0 in /opt/anaconda3/envs/LLM_gramKo/lib/python3.12/site-packages (from sympy->torch>=1.1.0->kobert-transformers) (1.3.0)\n",
            "Collecting kobert_tokenizer\n",
            "  Cloning https://github.com/SKTBrain/KoBERT.git to /private/var/folders/b2/zwc3jd5d6wn09h5jtpfzqcqc0000gn/T/pip-install-a464q4dm/kobert-tokenizer_74ad72768b824450a895fc4561d3c458\n",
            "  Running command git clone --filter=blob:none --quiet https://github.com/SKTBrain/KoBERT.git /private/var/folders/b2/zwc3jd5d6wn09h5jtpfzqcqc0000gn/T/pip-install-a464q4dm/kobert-tokenizer_74ad72768b824450a895fc4561d3c458\n",
            "  Resolved https://github.com/SKTBrain/KoBERT.git to commit 47a69af87928fc24e20f571fe10c3cc9dd9af9a3\n",
            "  Preparing metadata (setup.py) ... \u001b[?25ldone\n",
            "\u001b[?25h"
          ]
        },
        {
          "name": "stderr",
          "output_type": "stream",
          "text": [
            "The tokenizer class you load from this checkpoint is not the same type as the class this function is called from. It may result in unexpected tokenization. \n",
            "The tokenizer class you load from this checkpoint is 'XLNetTokenizer'. \n",
            "The class this function is called from is 'KoBERTTokenizer'.\n"
          ]
        }
      ],
      "source": [
        "!pip install kobert-transformers\n",
        "!pip install 'git+https://github.com/SKTBrain/KoBERT.git#egg=kobert_tokenizer&subdirectory=kobert_hf'\n",
        "\n",
        "from transformers import BertTokenizer\n",
        "\n",
        "#KoBert\n",
        "from kobert_tokenizer import KoBERTTokenizer\n",
        "tokenizer = KoBERTTokenizer.from_pretrained('skt/kobert-base-v1')"
      ]
    },
    {
      "cell_type": "markdown",
      "metadata": {
        "id": "5u4a3A5q1DMP"
      },
      "source": [
        "### 데이터 토크나이저"
      ]
    },
    {
      "cell_type": "code",
      "execution_count": null,
      "metadata": {
        "colab": {
          "base_uri": "https://localhost:8080/"
        },
        "id": "SYb3wKMF2p2y",
        "outputId": "a1268fc1-7f22-41f3-d259-97392a83fab5"
      },
      "outputs": [
        {
          "name": "stdout",
          "output_type": "stream",
          "text": [
            "Train_Original:  높은 달이 떴다.\n",
            "Train_Tokenized:  ['▁높은', '▁달', '이', '▁', '떴', '다', '.']\n",
            "Train_Token IDs:  [1520, 1597, 7096, 517, 5974, 5782, 54]\n",
            "Dev_Original:  실없는 사람이 까불한다.\n",
            "Dev_Tokenized:  ['▁실', '없는', '▁사람이', '▁', '까', '불', '한다', '.']\n",
            "Dev_Token IDs:  [3036, 6882, 2589, 517, 5591, 6424, 7831, 54]\n"
          ]
        }
      ],
      "source": [
        "# 샘플 데이터로 토크나이저 잘 되나 확인\n",
        "print(\"Train_Original: \", sentences_train[0])\n",
        "print(\"Train_Tokenized: \", tokenizer.tokenize(sentences_train[0]))\n",
        "print(\"Train_Token IDs: \", tokenizer.convert_tokens_to_ids(tokenizer.tokenize(sentences_train[0])))\n",
        "\n",
        "print(\"Dev_Original: \", sentences_dev[0])\n",
        "print(\"Dev_Tokenized: \", tokenizer.tokenize(sentences_dev[0]))\n",
        "print(\"Dev_Token IDs: \", tokenizer.convert_tokens_to_ids(tokenizer.tokenize(sentences_dev[0])))"
      ]
    },
    {
      "cell_type": "code",
      "execution_count": null,
      "metadata": {
        "colab": {
          "base_uri": "https://localhost:8080/"
        },
        "id": "maDQxeSVuhRa",
        "outputId": "d01a1987-598d-4d76-f410-b2dfb0dd50e1"
      },
      "outputs": [
        {
          "name": "stdout",
          "output_type": "stream",
          "text": [
            "Train - Max Tokens: 36, Corresponding sentence: 이 기간 중 투자율은 25.2퍼센트에 달하여 계획치를 크게 상회하였으나, 국내 저축률은 계획치를 약간 상회하였다.\n",
            "Dev - Max Tokens: 33, Corresponding sentence: 철수는 영희가 몇 명의 학생을 가르쳤다고 예은이에게 말했니, 세 명 가르쳤다고 예은이에게 말했니?\n",
            "Test - Max Tokens: 28, Corresponding sentence: 마르고 유약해 보이는 용모를 가진 한 남자 가수가 분장실 바닥에 쭈그리면서 앉아 있다.\n"
          ]
        }
      ],
      "source": [
        "# To check max length of tokenized sentences\n",
        "\n",
        "def find_sentence_with_most_tokens(sentences):\n",
        "    # Initialize the sentence with the most tokens and the maximum token count\n",
        "    resultsentence = \"\"\n",
        "    maxtokens = 0\n",
        "\n",
        "    for singlesent in sentences:\n",
        "        tokens = tokenizer.tokenize(singlesent)\n",
        "        numtokens = len(tokens)\n",
        "\n",
        "        # Update if the current sentence has more tokens\n",
        "        if numtokens > maxtokens:\n",
        "            resultsentence = singlesent\n",
        "            maxtokens = numtokens\n",
        "\n",
        "    return resultsentence, maxtokens\n",
        "\n",
        "result_sentence_train, max_tokens_train = find_sentence_with_most_tokens(sentences_train)\n",
        "result_sentence_dev, max_tokens_dev = find_sentence_with_most_tokens(sentences_dev)\n",
        "result_sentence_test, max_tokens_test = find_sentence_with_most_tokens(sentences_test)\n",
        "\n",
        "print(f'Train - Max Tokens: {max_tokens_train}, Corresponding sentence: {result_sentence_train}')\n",
        "print(f'Dev - Max Tokens: {max_tokens_dev}, Corresponding sentence: {result_sentence_dev}')\n",
        "print(f'Test - Max Tokens: {max_tokens_test}, Corresponding sentence: {result_sentence_test}')"
      ]
    },
    {
      "cell_type": "markdown",
      "metadata": {
        "id": "Z2smwi0Roh1h"
      },
      "source": [
        "### Dataset_train & _Dev 의 encoded_dict"
      ]
    },
    {
      "cell_type": "code",
      "execution_count": null,
      "metadata": {
        "colab": {
          "base_uri": "https://localhost:8080/"
        },
        "id": "dd-Hd7GEt4Dp",
        "outputId": "e3d4430d-7694-4fd6-cd6e-ef1f92c42837"
      },
      "outputs": [
        {
          "name": "stdout",
          "output_type": "stream",
          "text": [
            "Train_Original: 높은 달이 떴다.\n",
            "Train_Token IDs: tensor([[   2, 1520, 1597,  ...,    1,    1,    1],\n",
            "        [   2, 1597, 7096,  ...,    1,    1,    1],\n",
            "        [   2, 3036, 6882,  ...,    1,    1,    1],\n",
            "        ...,\n",
            "        [   2, 2752, 7096,  ...,    1,    1,    1],\n",
            "        [   2, 2752, 7096,  ...,    1,    1,    1],\n",
            "        [   2, 1214, 2423,  ...,    1,    1,    1]]),\n",
            "Train_input_ids_shape: torch.Size([15876, 40]), \n",
            "Train_input_ids_dim: 2\n",
            "Train_labels: tensor([1, 0, 1,  ..., 1, 0, 1]), \n",
            "Train_labels_shape: torch.Size([15876]), \n",
            "Train_labels_dim: 1\n"
          ]
        }
      ],
      "source": [
        "# Training dataset\n",
        "# 모든 문장을 토크나이즈 한 후 토큰들을 그것들의 단어 ID에 대응·매치시키는 작업\n",
        "\n",
        "input_ids_train = []\n",
        "attention_masks_train = []\n",
        "\n",
        "# 모든 문장에 대하여\n",
        "for sent in sentences_train:\n",
        "    # `encode_plus`는:\n",
        "    #   (1) 문장을 토크나이저.\n",
        "    #   (2) [CLS]를 모든 문장의 가장 앞에 삽입.\n",
        "    #   (3) [SEP]을 모든 문장의 가장 뒤에 삽입.\n",
        "    #       CLS, SEP는 토큰 임베딩 분야의 특수 토큰으로,\n",
        "    #       CLS는 special CLaSsification token, SEP은 sepcial SEParator token을 의미\n",
        "    #   (4) 토큰들을 그들의 단어 아이디와 매치시킴.\n",
        "    #   (5) 문장의 길이는 'max_length' 수치에 맞게 늘려주거나 줄여줌.\n",
        "    #       Pad: 특정 형상의 배열로 변형할 때 빈자리를 0으로 채워준다는 의미\n",
        "    #   (6) [PAD] 토큰을 위한 attention mask 생성\n",
        "    encoded_dict = tokenizer.encode_plus(\n",
        "                        sent,                         # 인코딩할 문장 자리 / 문장을 인코딩\n",
        "                        add_special_tokens = True,    # 특수 토큰 [CLS]와 [SEP] 추가\n",
        "                        max_length = 40,              # max_length에 맞게 모든 문장 패딩 & 축소\n",
        "                        padding = 'max_length',\n",
        "                        truncation = True,\n",
        "                        return_attention_mask = True, # Attention Mask 구축 / 자료 구조는 tensor 형태\n",
        "                                                      # Attention Mask는 단어 배치와 동일하게 \"1\" 생성\n",
        "                        return_tensors = 'pt',        # 인코딩된 문장을 pytorch 텐서 형태로 변경\n",
        "                                                      # tensorflow를 사용하고 있다면 return_tensors = 'tf'라고 씀\n",
        "                   )\n",
        "\n",
        "    # 인코딩된 문장들을 글로벌 선언한 List [input_ids_train]에 넣기\n",
        "    input_ids_train.append(encoded_dict['input_ids'])\n",
        "\n",
        "    # Attention mask 인자들 List[attention_masks_train]에 넣기 (simply differentiates padding from non-padding).\n",
        "    attention_masks_train.append(encoded_dict['attention_mask'])\n",
        "\n",
        "# 리스트를 텐서 형태로 변경\n",
        "input_ids_train = torch.cat(input_ids_train, dim=0) # dim은 축·차원의 수 axis0부터 시작, dim=0는 축 1개 or 1차원\n",
        "attention_masks_train = torch.cat(attention_masks_train, dim=0)\n",
        "labels_train = torch.tensor(labels_train)\n",
        "\n",
        "# 0번째 문장, 토큰, 라벨 아이디 출력 (인코딩이 잘 됐는지 확인하는 작업)\n",
        "print(f'Train_Original: {sentences_train[0]}') # 1차원\n",
        "print(f'Train_Token IDs: {input_ids_train},\\nTrain_input_ids_shape: {input_ids_train.shape}, \\nTrain_input_ids_dim: {input_ids_train.ndim}')\n",
        "print(f'Train_labels: {labels_train}, \\nTrain_labels_shape: {labels_train.shape}, \\nTrain_labels_dim: {labels_train.ndim}')"
      ]
    },
    {
      "cell_type": "code",
      "execution_count": null,
      "metadata": {
        "colab": {
          "base_uri": "https://localhost:8080/"
        },
        "id": "btCSYeEtnox3",
        "outputId": "2cf85583-0b45-488c-c8c9-6d9cecf15659"
      },
      "outputs": [
        {
          "name": "stdout",
          "output_type": "stream",
          "text": [
            "Dev_Original: 실없는 사람이 까불한다.\n",
            "Dev_Token IDs: tensor([[   2, 3036, 6882,  ...,    1,    1,    1],\n",
            "        [   2, 2912, 7993,  ...,    1,    1,    1],\n",
            "        [   2, 2587, 3245,  ...,    1,    1,    1],\n",
            "        ...,\n",
            "        [   2, 2265, 6536,  ...,    1,    1,    1],\n",
            "        [   2, 4949, 6903,  ...,    1,    1,    1],\n",
            "        [   2, 1214, 2423,  ...,    1,    1,    1]]),\n",
            "Dev_input_ids_shape: torch.Size([2032, 40]), \n",
            "Dev_input_ids_dim: 2\n",
            "Dev_labels: tensor([0, 1, 0,  ..., 0, 1, 0]), \n",
            "Dev_labels_shape: torch.Size([2032]), \n",
            "Dev_labels_dim: 1\n"
          ]
        }
      ],
      "source": [
        "# Development_dataset\n",
        "input_ids_dev = []\n",
        "attention_masks_dev = []\n",
        "\n",
        "for sent in sentences_dev:\n",
        "    encoded_dict = tokenizer.encode_plus(\n",
        "                        sent,\n",
        "                        add_special_tokens = True,\n",
        "                        max_length = 40,\n",
        "                        padding = 'max_length',\n",
        "                        truncation = True,\n",
        "                        return_attention_mask = True,\n",
        "                        return_tensors = 'pt',\n",
        "                        )\n",
        "\n",
        "    input_ids_dev.append(encoded_dict['input_ids'])\n",
        "\n",
        "    attention_masks_dev.append(encoded_dict['attention_mask'])\n",
        "\n",
        "input_ids_dev = torch.cat(input_ids_dev, dim=0)\n",
        "attention_masks_dev = torch.cat(attention_masks_dev, dim=0)\n",
        "labels_dev = torch.tensor(labels_dev)\n",
        "\n",
        "print(f'Dev_Original: {sentences_dev[0]}') # 1차원\n",
        "print(f'Dev_Token IDs: {input_ids_dev},\\nDev_input_ids_shape: {input_ids_dev.shape}, \\nDev_input_ids_dim: {input_ids_dev.ndim}')\n",
        "print(f'Dev_labels: {labels_dev}, \\nDev_labels_shape: {labels_dev.shape}, \\nDev_labels_dim: {labels_dev.ndim}')"
      ]
    },
    {
      "cell_type": "code",
      "execution_count": null,
      "metadata": {
        "id": "kawmum1YcEbU"
      },
      "outputs": [],
      "source": []
    },
    {
      "cell_type": "markdown",
      "metadata": {
        "id": "hAN46yX4cEbU"
      },
      "source": [
        "***TensorDataset()은 텐서를 감싸는 (wrapping) Dataset으로, 길이와 인덱싱 방식을 정의<br>\n",
        "Dataset을 상속한 클래스로, 학습데이터·독립변수X(input_ids_train, attention_mask_train)와 레이블·종속변수Y(labels_train)를 묶어 놓는 컨테이너<br>\n",
        "TensorDataset()을 DataLoader에 전달하면, 반복문(for문)에서 데이터의 일부분만 간단히 추출할 수 있다.<br>\n",
        "TensorDataset()은 텐서만 전달 가능하며, Variable은 전달 불가.<br>***"
      ]
    },
    {
      "cell_type": "code",
      "execution_count": null,
      "metadata": {
        "colab": {
          "base_uri": "https://localhost:8080/"
        },
        "id": "MqOjz3cc3XBn",
        "outputId": "345b69a3-da80-43e4-96fc-264ff538e07a"
      },
      "outputs": [
        {
          "name": "stdout",
          "output_type": "stream",
          "text": [
            "Number of train sentence: 15876\n",
            "Number of dev sentence: 2032\n"
          ]
        }
      ],
      "source": [
        "train_dataset = TensorDataset(input_ids_train, attention_masks_train, labels_train)\n",
        "dev_dataset = TensorDataset(input_ids_dev, attention_masks_dev, labels_dev)\n",
        "\n",
        "# 트레이닝 데이터 & 검증 데이터 크기 다시 한 번 확인\n",
        "print(f'Number of train sentence: {int(len(train_dataset))}')\n",
        "print(f'Number of dev sentence: {int(len(dev_dataset))}')"
      ]
    },
    {
      "cell_type": "code",
      "execution_count": null,
      "metadata": {
        "colab": {
          "base_uri": "https://localhost:8080/"
        },
        "id": "jCuzp4sc7VV7",
        "outputId": "2f883a16-a24a-4ff4-884a-b51e95aa077f"
      },
      "outputs": [
        {
          "name": "stdout",
          "output_type": "stream",
          "text": [
            "497\n",
            "64\n"
          ]
        }
      ],
      "source": [
        "batch_size = 32\n",
        "\n",
        "# Train Dataloader 생성\n",
        "train_dataloader = DataLoader(\n",
        "                              train_dataset, # Train samples.\n",
        "                              sampler = RandomSampler(train_dataset),\n",
        "                              batch_size = batch_size)\n",
        "\n",
        "# Dev Dataloader 생성\n",
        "dev_dataloader = DataLoader(\n",
        "                            dev_dataset, # Dev samples.\n",
        "                            sampler = RandomSampler(dev_dataset),\n",
        "                            batch_size = batch_size)\n",
        "\n",
        "print(len(train_dataloader))\n",
        "print(len(dev_dataloader))"
      ]
    },
    {
      "cell_type": "code",
      "execution_count": null,
      "metadata": {
        "colab": {
          "base_uri": "https://localhost:8080/",
          "height": 960,
          "referenced_widgets": [
            "8ca87fd3b49b4321ac8131a847027c59",
            "b315c23d5cf347738515d65bca666b3a",
            "7fa6d08c73ab4087b24881a457c3ad02",
            "b322954fb4f348ce993e7dd18f297a55",
            "ce3b6917fa99489488c56efaeb01f5a7",
            "e09b40c556d5411e8d757685124b184c",
            "f97f548963ba4bf8a39da3e7847c7843",
            "fcba43b635ed43d199806c911f360a8f",
            "54b7b87faa534a9d813d1fba7085e845",
            "35f0018a9209431babd53176ff2291fc",
            "69f77a4c4c894d7fbbfdf5f186950459",
            "fc47d842670049a5affeffbbf6f8629f",
            "412246406f844bca9f3769c59af50ac4",
            "c874fd15911f492ab8507d6abcca3252",
            "5dba152fe157488bb0d59bea43c1d4f3",
            "8782fb3c22c148778731aab0c7ec8a6f",
            "05ad143ff1524cb7b1d3915a9b166c80",
            "c0fa8544d60d486b9d01667a1c4607a3",
            "52e5b406cdc64d07a3c29c7d7c1b639b",
            "97a3ba1cb7124a37836a19ac5ec6b5fd",
            "3d8a017813674ca5a98eb48fb7ab3302",
            "40e3b9d01ec34c0e948c4b53462aa434"
          ]
        },
        "id": "8tn1Vd0N7nHZ",
        "outputId": "49167e3c-9144-46ce-c2b4-385449a6fdff"
      },
      "outputs": [
        {
          "name": "stderr",
          "output_type": "stream",
          "text": [
            "Some weights of BertForSequenceClassification were not initialized from the model checkpoint at skt/kobert-base-v1 and are newly initialized: ['classifier.bias', 'classifier.weight']\n",
            "You should probably TRAIN this model on a down-stream task to be able to use it for predictions and inference.\n"
          ]
        },
        {
          "data": {
            "text/plain": [
              "BertForSequenceClassification(\n",
              "  (bert): BertModel(\n",
              "    (embeddings): BertEmbeddings(\n",
              "      (word_embeddings): Embedding(8002, 768, padding_idx=1)\n",
              "      (position_embeddings): Embedding(512, 768)\n",
              "      (token_type_embeddings): Embedding(2, 768)\n",
              "      (LayerNorm): LayerNorm((768,), eps=1e-12, elementwise_affine=True)\n",
              "      (dropout): Dropout(p=0.1, inplace=False)\n",
              "    )\n",
              "    (encoder): BertEncoder(\n",
              "      (layer): ModuleList(\n",
              "        (0-11): 12 x BertLayer(\n",
              "          (attention): BertAttention(\n",
              "            (self): BertSdpaSelfAttention(\n",
              "              (query): Linear(in_features=768, out_features=768, bias=True)\n",
              "              (key): Linear(in_features=768, out_features=768, bias=True)\n",
              "              (value): Linear(in_features=768, out_features=768, bias=True)\n",
              "              (dropout): Dropout(p=0.1, inplace=False)\n",
              "            )\n",
              "            (output): BertSelfOutput(\n",
              "              (dense): Linear(in_features=768, out_features=768, bias=True)\n",
              "              (LayerNorm): LayerNorm((768,), eps=1e-12, elementwise_affine=True)\n",
              "              (dropout): Dropout(p=0.1, inplace=False)\n",
              "            )\n",
              "          )\n",
              "          (intermediate): BertIntermediate(\n",
              "            (dense): Linear(in_features=768, out_features=3072, bias=True)\n",
              "            (intermediate_act_fn): GELUActivation()\n",
              "          )\n",
              "          (output): BertOutput(\n",
              "            (dense): Linear(in_features=3072, out_features=768, bias=True)\n",
              "            (LayerNorm): LayerNorm((768,), eps=1e-12, elementwise_affine=True)\n",
              "            (dropout): Dropout(p=0.1, inplace=False)\n",
              "          )\n",
              "        )\n",
              "      )\n",
              "    )\n",
              "    (pooler): BertPooler(\n",
              "      (dense): Linear(in_features=768, out_features=768, bias=True)\n",
              "      (activation): Tanh()\n",
              "    )\n",
              "  )\n",
              "  (dropout): Dropout(p=0.1, inplace=False)\n",
              "  (classifier): Linear(in_features=768, out_features=2, bias=True)\n",
              ")"
            ]
          },
          "execution_count": 15,
          "metadata": {},
          "output_type": "execute_result"
        }
      ],
      "source": [
        "from transformers import BertForSequenceClassification, AdamW, BertConfig\n",
        "\n",
        "# BertForSequenceClassification 설치\n",
        "# 가장 위 레이어에 단일 linear classification 레이어를 가진, 사전 학습된 BERT 모델\n",
        "model = BertForSequenceClassification.from_pretrained(\n",
        "    'skt/kobert-base-v1',\n",
        "    num_labels = 2, # 레이블의 개수는 2진분류가 디폴트.\n",
        "                    # 하지만 멀티 클래스 태스크를 증가시킬 수 있다(?)\n",
        "    output_attentions = False,\n",
        "    output_hidden_states = False,\n",
        ")\n",
        "\n",
        "# Pytorch에게 이 모델을 GPU/MPS에서 사용하라고 요청\n",
        "model.to(device)"
      ]
    },
    {
      "cell_type": "code",
      "execution_count": null,
      "metadata": {
        "colab": {
          "base_uri": "https://localhost:8080/"
        },
        "id": "exUI-o-b_XRO",
        "outputId": "f615d78b-28f6-4799-f6a0-30b2cefbf029",
        "scrolled": true
      },
      "outputs": [
        {
          "name": "stdout",
          "output_type": "stream",
          "text": [
            "The BERT model has 201 different named paraeters.\n",
            "\n",
            "===== Embedding Layer =====\n",
            "\n",
            "bert.embeddings.word_embeddings.weight                   (8002, 768)\n",
            "bert.embeddings.position_embeddings.weight                (512, 768)\n",
            "bert.embeddings.token_type_embeddings.weight                (2, 768)\n",
            "bert.embeddings.LayerNorm.weight                              (768,)\n",
            "bert.embeddings.LayerNorm.bias                                (768,)\n",
            "\n",
            "==== First Transformer ====\n",
            "\n",
            "bert.encoder.layer.0.attention.self.query.weight          (768, 768)\n",
            "bert.encoder.layer.0.attention.self.query.bias                (768,)\n",
            "bert.encoder.layer.0.attention.self.key.weight            (768, 768)\n",
            "bert.encoder.layer.0.attention.self.key.bias                  (768,)\n",
            "bert.encoder.layer.0.attention.self.value.weight          (768, 768)\n",
            "bert.encoder.layer.0.attention.self.value.bias                (768,)\n",
            "bert.encoder.layer.0.attention.output.dense.weight        (768, 768)\n",
            "bert.encoder.layer.0.attention.output.dense.bias              (768,)\n",
            "bert.encoder.layer.0.attention.output.LayerNorm.weight        (768,)\n",
            "bert.encoder.layer.0.attention.output.LayerNorm.bias          (768,)\n",
            "bert.encoder.layer.0.intermediate.dense.weight           (3072, 768)\n",
            "bert.encoder.layer.0.intermediate.dense.bias                 (3072,)\n",
            "bert.encoder.layer.0.output.dense.weight                 (768, 3072)\n",
            "bert.encoder.layer.0.output.dense.bias                        (768,)\n",
            "bert.encoder.layer.0.output.LayerNorm.weight                  (768,)\n",
            "bert.encoder.layer.0.output.LayerNorm.bias                    (768,)\n",
            "\n",
            "==== Output Layer ====\n",
            "\n",
            "bert.pooler.dense.weight                                  (768, 768)\n",
            "bert.pooler.dense.bias                                        (768,)\n",
            "classifier.weight                                           (2, 768)\n",
            "classifier.bias                                                 (2,)\n"
          ]
        }
      ],
      "source": [
        "# 튜플들의 리스트 형태로 모델의 모든 파라미터들 추출\n",
        "\n",
        "params = list(model.named_parameters())\n",
        "print(f'The BERT model has {len(params):} different named paraeters.\\n')\n",
        "\n",
        "print('===== Embedding Layer =====\\n')\n",
        "for p in params [0:5]:\n",
        "  print(f'{p[0]:<55} {str(tuple(p[1].size())):>12}')\n",
        "\n",
        "print('\\n==== First Transformer ====\\n')\n",
        "for p in params [5:21]:\n",
        "  print(f'{p[0]:<55} {str(tuple(p[1].size())):>12}')\n",
        "\n",
        "print('\\n==== Output Layer ====\\n')\n",
        "for p in params [-4:]:\n",
        "  print(f'{p[0]:<55} {str(tuple(p[1].size())):>12}')"
      ]
    },
    {
      "cell_type": "code",
      "execution_count": null,
      "metadata": {
        "id": "B7Ct1jMS8vJw",
        "outputId": "20435c40-ef2d-48fe-a2ad-5955cc181bcf"
      },
      "outputs": [
        {
          "name": "stderr",
          "output_type": "stream",
          "text": [
            "/opt/anaconda3/envs/LLM_gramKo/lib/python3.12/site-packages/transformers/optimization.py:588: FutureWarning: This implementation of AdamW is deprecated and will be removed in a future version. Use the PyTorch implementation torch.optim.AdamW instead, or set `no_deprecation_warning=True` to disable this warning\n",
            "  warnings.warn(\n"
          ]
        }
      ],
      "source": [
        "optimizer = AdamW(model.parameters(),\n",
        "                  lr=2e-5,   # args.learning_rate - default is 5e-5\n",
        "                  eps=1e-8 # args.adam_epsilon  - default is 1e-8\n",
        "                  )"
      ]
    },
    {
      "cell_type": "code",
      "execution_count": null,
      "metadata": {
        "id": "gyItV69M9qPl"
      },
      "outputs": [],
      "source": [
        "from transformers import get_linear_schedule_with_warmup\n",
        "\n",
        "# 일단 epochs 4로 해보고, 오버 피팅되면 조절\n",
        "epochs = 1\n",
        "\n",
        "# 학습 횟수·단계 설정: [batch의 개수] x [epochs의 개수]. (batch size ≠ batch의 개수)\n",
        "# 학습 샘플 수와 같지 않음\n",
        "total_steps = len(train_dataloader) * epochs\n",
        "\n",
        "# Learning Rate 스케줄러 생성\n",
        "scheduler = get_linear_schedule_with_warmup(optimizer,\n",
        "                                            num_warmup_steps = 0, # Default value in run_glue.py\n",
        "                                            num_training_steps = total_steps)"
      ]
    },
    {
      "cell_type": "code",
      "execution_count": null,
      "metadata": {
        "id": "ipaOG-MP-jM3"
      },
      "outputs": [],
      "source": [
        "# 예측 대비 레이블의 정확성 계산을 위한 함수\n",
        "def flat_accuracy(preds, labels):\n",
        "  pred_flat = np.argmax(preds, axis=1).flatten() # flatten(): to convert # dimension data form to 1 dimension data form\n",
        "                                                 # argmax: to return index of maximum value; axis=0: each column, axis=1: each row\n",
        "  labels_flat = labels.flatten()\n",
        "  return np.sum(pred_flat == labels_flat) / len(labels_flat)"
      ]
    },
    {
      "cell_type": "code",
      "execution_count": null,
      "metadata": {
        "id": "D6u-AXG__dcc"
      },
      "outputs": [],
      "source": [
        "import time\n",
        "import datetime\n",
        "\n",
        "def format_time(elapsed):\n",
        "  '''\n",
        "  Takes a time in seconds and returns a string hh:mm:ss\n",
        "  '''\n",
        "  # 1초 단위로 반올림\n",
        "  elapsed_rounded = int(round((elapsed)))\n",
        "\n",
        "  # 시간형태: hh:mm:ss\n",
        "  return str(datetime.timedelta(seconds=elapsed_rounded))"
      ]
    },
    {
      "cell_type": "markdown",
      "metadata": {
        "id": "l-H8_H4ST4J_"
      },
      "source": [
        "### To Train Model\n"
      ]
    },
    {
      "cell_type": "code",
      "execution_count": null,
      "metadata": {
        "colab": {
          "base_uri": "https://localhost:8080/"
        },
        "id": "avQZ28klAM2K",
        "outputId": "5da421d3-a099-4b6d-b68d-6bdff206527c",
        "scrolled": true
      },
      "outputs": [
        {
          "name": "stdout",
          "output_type": "stream",
          "text": [
            "\n",
            "======== Epoch 1 / 1 ======== \n",
            "Training...\n",
            "current time:  19888 days, 20:12:27\n",
            "  Batch    40  of    497.    Elapsed: 0:00:19.\n",
            "current time:  19888 days, 20:12:45\n",
            "  Batch    80  of    497.    Elapsed: 0:00:37.\n",
            "current time:  19888 days, 20:13:04\n",
            "  Batch   120  of    497.    Elapsed: 0:00:56.\n",
            "current time:  19888 days, 20:13:22\n",
            "  Batch   160  of    497.    Elapsed: 0:01:14.\n",
            "current time:  19888 days, 20:13:40\n",
            "  Batch   200  of    497.    Elapsed: 0:01:33.\n",
            "current time:  19888 days, 20:13:59\n",
            "  Batch   240  of    497.    Elapsed: 0:01:51.\n",
            "current time:  19888 days, 20:14:17\n",
            "  Batch   280  of    497.    Elapsed: 0:02:09.\n",
            "current time:  19888 days, 20:14:36\n",
            "  Batch   320  of    497.    Elapsed: 0:02:28.\n",
            "current time:  19888 days, 20:14:54\n",
            "  Batch   360  of    497.    Elapsed: 0:02:46.\n",
            "current time:  19888 days, 20:15:13\n",
            "  Batch   400  of    497.    Elapsed: 0:03:05.\n",
            "current time:  19888 days, 20:15:31\n",
            "  Batch   440  of    497.    Elapsed: 0:03:23.\n",
            "current time:  19888 days, 20:15:49\n",
            "  Batch   480  of    497.    Elapsed: 0:03:42.\n",
            "\n",
            "  Average training loss: 0.68\n",
            "  Training epoch took: 0:03:49\n",
            "\n",
            "Running Development...\n",
            "  Accuracy: 0.62\n",
            "  Development Loss: 0.64\n",
            "  Development took: 0:00:08\n",
            "Training Complete!\n",
            "Total training took 0:03:57 (h:mm:ss)\n"
          ]
        }
      ],
      "source": [
        "# This training code is based on the `run_glue.py` script here:\n",
        "# https://github.com/huggingface/transformers/blob/5bfcd0485ece086ebcbed2d008813037968a9e58/examples/run_glue.py#L128\n",
        "\n",
        "import random\n",
        "\n",
        "# Set the seed value all over the place to make this reproducible. 하지만 42는 큰 의미 없는 수\n",
        "seed_val = 42\n",
        "\n",
        "random.seed(seed_val) # 생성된 난수 중 씨드값 42의 수 출력(고정)\n",
        "np.random.seed(seed_val)\n",
        "torch.manual_seed(seed_val)\n",
        "torch.mps.manual_seed(seed_val)\n",
        "\n",
        "# 학습값 손실, 검증값 손실, 검증데이터 정확성, 시간 등 여러 측정 상태 저장 및 출력\n",
        "training_stats = []\n",
        "\n",
        "# 전체 학습 시간 측정\n",
        "total_t0 = time.time()\n",
        "\n",
        "# each epoch에 대해서...\n",
        "for epoch_i in range(0, epochs): # epochs = 4\n",
        "\n",
        "    '''\n",
        "    ========================================\n",
        "                    Training\n",
        "    ========================================\n",
        "    '''\n",
        "\n",
        "    print(f'\\n======== Epoch {epoch_i + 1:} / {epochs:} ======== \\nTraining...')\n",
        "\n",
        "    # epoch 도는데 걸리는 시간 측정\n",
        "    t0 = time.time()\n",
        "\n",
        "    # each epoch에 대한 총 학습값 손실 0으로 리셋\n",
        "    total_train_loss = 0\n",
        "\n",
        "    model.train()\n",
        "\n",
        "    # For each batch of training data...\n",
        "    for step, batch in enumerate(train_dataloader):\n",
        "\n",
        "        # print(\"step: {}, batch: {}\".format(step, batch))\n",
        "\n",
        "        # 40 배치씩 결과 출력\n",
        "        ctime= time.time()\n",
        "        if step % 40 == 0 and not step == 0:\n",
        "            # Calculate elapsed time in minutes.\n",
        "\n",
        "            # elapsed = format_time(time.time() - t0)\n",
        "            elapsed = format_time(ctime - t0)\n",
        "            print(\"current time: \", format_time(ctime))\n",
        "\n",
        "            # Report progress.\n",
        "            print('  Batch {:>5,}  of  {:>5,}.    Elapsed: {:}.'.format(step, len(train_dataloader), elapsed))\n",
        "\n",
        "        # Train_dataloader의 트레이닝 batch 해체 분석.\n",
        "        # batch를 해체시킬 때, 각 tensor를 'to' 메소드를 사용하는 GPU(device = torch.device(\"mps\"))에 복사\n",
        "        # `batch` contains three pytorch tensors\n",
        "        # [0]: input ids, [1]: attention masks, [2]: labels\n",
        "\n",
        "        b_input_ids = batch[0].to(device)  # 2차원\n",
        "        b_input_mask = batch[1].to(device)\n",
        "        b_labels = batch[2].to(device)     # 1차원\n",
        "\n",
        "        # 항상 이전에 계산된 gradients들은, backward pass를 수행하기 전에 초기화하여 0으로 만들어 줘야함\n",
        "        # PyTorch는 이것을 자동으로 해주지 않음.\n",
        "        # 왜냐하면 RNNs을 학습시키는 동안에 gradients를 계산하는 것이 편리하기 때문에\n",
        "        # (source: https://stackoverflow.com/questions/48001598/why-do-we-need-to-call-zero-grad-in-pytorch)\n",
        "        model.zero_grad()\n",
        "\n",
        "        # 전방 전달(forward pass) 수행 (evaluate the model on this training batch).\n",
        "        # The documentation for this `model` function is here:\n",
        "        # https://huggingface.co/transformers/v2.2.0/model_doc/bert.html#transformers.BertForSequenceClassification\n",
        "        # It returns different numbers of parameters depending on what arguments\n",
        "        # arge given and what flags are set. For our useage here, it returns\n",
        "        # the loss (because we provided labels) and the \"logits\"--the model\n",
        "        # outputs prior to activation.\n",
        "\n",
        "        '''\n",
        "        전방 전달(forward pass)은 입력부터 출력까지 값을 계산한다.\n",
        "        그리고 나서 후방 전달(backward pass)은 역전파(back propagation)을 수행하는데,\n",
        "        이는 끝에서 시작해서 반복적으로 연쇄 법칙을 적용해 회로 입력에 대한 모든 길에서\n",
        "        그라디언트 값을 계산한다. 그라디언트 값은 회로를 통해 거꾸로 흐르는 것으로 볼 수 있다.\n",
        "\n",
        "        순전파(forwards propagation)은 뉴럴 네트워크의 그래프를 계산하기 위해서\n",
        "        중간 변수들을 순서대로 계산하고 저장한다. 즉, 입력층부터 시작해서 출력층까지 처리한다.\n",
        "        역전파(back propagation)은 중간 변수와 파라미터에 대한 그래디언트(gradient)를\n",
        "        반대 방향으로 계산하고 저장한다.\n",
        "        '''\n",
        "\n",
        "        outputs = model(b_input_ids,\n",
        "                        token_type_ids=None,\n",
        "                        attention_mask=b_input_mask,\n",
        "                        labels=b_labels)\n",
        "\n",
        "        loss = outputs[0]\n",
        "        loss = loss.float()\n",
        "        # print(\"loss:\", loss) # loss값 확인\n",
        "\n",
        "        # 모든 batch에 대한 학습 손실값을 축적\n",
        "        # 그래서 우리는 마지막에 평균 손실값을 구할 수 있다.\n",
        "\n",
        "        # 'loss'는 단일 값을 포함한 Tensor.\n",
        "        # '.item()'함수는 tensor로부터 Python 값을 리턴.\n",
        "        total_train_loss += loss.item()\n",
        "\n",
        "        # gradients를 계산하기 위해 loss에 대해 후방 전달(backward pass) 수행\n",
        "        loss.backward()\n",
        "\n",
        "        # Clip the norm of the gradients to 1.0.\n",
        "        # This is to help prevent the \"exploding gradients\" problem.\n",
        "        torch.nn.utils.clip_grad_norm_(model.parameters(), 1.0)\n",
        "\n",
        "        # Update parameters and take a step using the computed gradient.\n",
        "        # The optimizer dictates the \"update rule\"--how the parameters are\n",
        "        # modified based on their gradients, the learning rate, etc.\n",
        "        optimizer.step()\n",
        "\n",
        "        # Update the learning rate.\n",
        "        scheduler.step()\n",
        "\n",
        "    # Calculate the average loss over all of the batches.\n",
        "    avg_train_loss = total_train_loss / len(train_dataloader)\n",
        "\n",
        "    # Measure how long this epoch took.\n",
        "    training_time = format_time(time.time() - t0)\n",
        "\n",
        "    print(\"\")\n",
        "    print(\"  Average training loss: {0:.2f}\".format(avg_train_loss))\n",
        "    print(\"  Training epoch took: {:}\".format(training_time))\n",
        "\n",
        "    # ========================================\n",
        "    #               Development\n",
        "    # ========================================\n",
        "    # After the completion of each training epoch, measure our performance on\n",
        "    # our validation set.\n",
        "\n",
        "    print(\"\")\n",
        "    print(\"Running Development...\")\n",
        "\n",
        "    t0 = time.time()\n",
        "\n",
        "    # Put the model in evaluation mode--the dropout layers behave differently\n",
        "    # during evaluation.\n",
        "    model.eval()\n",
        "\n",
        "    # Tracking variables\n",
        "    total_eval_accuracy = 0\n",
        "    total_eval_loss = 0\n",
        "    nb_eval_steps = 0\n",
        "\n",
        "    predictions , true_labels = [], []\n",
        "\n",
        "    # Evaluate data for one epoch\n",
        "    for batch in dev_dataloader:\n",
        "\n",
        "        # Unpack this training batch from our dataloader.\n",
        "        # As we unpack the batch, we'll also copy each tensor to the GPU using\n",
        "        # the `to` method.\n",
        "\n",
        "        # `batch` contains three pytorch tensors:\n",
        "        #  [0]: input ids, [1]: attention masks, [2]: labels\n",
        "        b_input_ids = batch[0].to(device)\n",
        "        b_input_mask = batch[1].to(device)\n",
        "        b_labels = batch[2].to(device)\n",
        "\n",
        "        # Tell pytorch not to bother with constructing the compute graph during\n",
        "        # the forward pass, since this is only needed for backprop (training).\n",
        "        with torch.no_grad():\n",
        "\n",
        "            # Forward pass, calculate logit predictions.\n",
        "            # token_type_ids is the same as the \"segment ids\", which\n",
        "            # differentiates sentence 1 and 2 in 2-sentence tasks.\n",
        "            # The documentation for this `model` function is here:\n",
        "            # https://huggingface.co/transformers/v2.2.0/model_doc/bert.html#transformers.BertForSequenceClassification\n",
        "            # Get the \"logits\" output by the model. The \"logits\" are the output\n",
        "            # values prior to applying an activation function like the softmax.\n",
        "            outputs = model(b_input_ids,\n",
        "                            token_type_ids=None,\n",
        "                            attention_mask=b_input_mask,\n",
        "                            labels=b_labels)\n",
        "            logits = outputs[0]\n",
        "            logits = logits.float()\n",
        "\n",
        "        # Accumulate the development loss.\n",
        "        total_eval_loss += logits.item()\n",
        "\n",
        "        dev_logits = outputs[1]\n",
        "        # print(\"dev_logits: \", dev_logits) - dev_logits: 2차원, b_labels: 1차원\n",
        "\n",
        "        # (log_)softmax 함수는 tensor 형태로 들어가야함\n",
        "        # dev_logits = F.log_softmax(dev_logits, dim=1)\n",
        "        # print(\"DIM_dev_logits: {}, dev_logits: {}\".format(dev_logits.ndim, dev_logits))\n",
        "\n",
        "        # Move logits and labels to CPU\n",
        "        # argmax 함수는 numpy 형태로 들어가야함\n",
        "        dev_logits = dev_logits.detach().cpu().numpy()\n",
        "        label_ids = b_labels.to('cpu').numpy()\n",
        "\n",
        "        # Calculate the accuracy for this batch of test sentences, and\n",
        "        # accumulate it over all batches.\n",
        "        total_eval_accuracy += flat_accuracy(dev_logits, label_ids)\n",
        "\n",
        "    # Report the final accuracy for this development run.\n",
        "    avg_dev_accuracy = total_eval_accuracy / len(dev_dataloader)\n",
        "    print(\"  Accuracy: {0:.2f}\".format(avg_dev_accuracy))\n",
        "\n",
        "    # Calculate the average loss over all of the batches.\n",
        "    avg_dev_loss = total_eval_loss / len(dev_dataloader)\n",
        "\n",
        "    # Measure how long the validation run took.\n",
        "    development_time = format_time(time.time() - t0)\n",
        "\n",
        "    print(\"  Development Loss: {0:.2f}\".format(avg_dev_loss))\n",
        "    print(\"  Development took: {:}\".format(development_time))\n",
        "\n",
        "    # Record all statistics from this epoch.\n",
        "    training_stats.append(\n",
        "        {\n",
        "            'epoch': epoch_i + 1,\n",
        "            'Train Loss': avg_train_loss,\n",
        "            'Dev Loss': avg_dev_loss,\n",
        "            'Dev Accur.': avg_dev_accuracy,\n",
        "            'Train Time': training_time,\n",
        "            'Dev Time': development_time\n",
        "        }\n",
        "    )\n",
        "\n",
        "print(f'Training Complete!\\nTotal training took {format_time(time.time()-total_t0):} (h:mm:ss)')\n",
        "\n",
        "# Create the DataLoader.\n",
        "prediction_data = TensorDataset(input_ids_dev, attention_masks_dev, labels_dev)\n",
        "prediction_sampler = SequentialSampler(prediction_data)\n",
        "prediction_dataloader = DataLoader(prediction_data, sampler=prediction_sampler, batch_size=batch_size)\n"
      ]
    },
    {
      "cell_type": "code",
      "execution_count": null,
      "metadata": {
        "colab": {
          "base_uri": "https://localhost:8080/",
          "height": 206
        },
        "id": "ybJX8-lt-88x",
        "outputId": "a0dbab37-62df-49b7-b9e3-2577939e55a4"
      },
      "outputs": [
        {
          "data": {
            "text/html": [
              "<div>\n",
              "<style scoped>\n",
              "    .dataframe tbody tr th:only-of-type {\n",
              "        vertical-align: middle;\n",
              "    }\n",
              "\n",
              "    .dataframe tbody tr th {\n",
              "        vertical-align: top;\n",
              "    }\n",
              "\n",
              "    .dataframe thead th {\n",
              "        text-align: right;\n",
              "    }\n",
              "</style>\n",
              "<table border=\"1\" class=\"dataframe\">\n",
              "  <thead>\n",
              "    <tr style=\"text-align: right;\">\n",
              "      <th></th>\n",
              "      <th>Train Loss</th>\n",
              "      <th>Dev Loss</th>\n",
              "      <th>Dev Accur.</th>\n",
              "      <th>Train Time</th>\n",
              "      <th>Dev Time</th>\n",
              "    </tr>\n",
              "    <tr>\n",
              "      <th>epoch</th>\n",
              "      <th></th>\n",
              "      <th></th>\n",
              "      <th></th>\n",
              "      <th></th>\n",
              "      <th></th>\n",
              "    </tr>\n",
              "  </thead>\n",
              "  <tbody>\n",
              "    <tr>\n",
              "      <th>1</th>\n",
              "      <td>0.675</td>\n",
              "      <td>0.643</td>\n",
              "      <td>0.624</td>\n",
              "      <td>0:03:49</td>\n",
              "      <td>0:00:08</td>\n",
              "    </tr>\n",
              "  </tbody>\n",
              "</table>\n",
              "</div>"
            ],
            "text/plain": [
              "       Train Loss  Dev Loss  Dev Accur. Train Time Dev Time\n",
              "epoch                                                      \n",
              "1           0.675     0.643       0.624    0:03:49  0:00:08"
            ]
          },
          "execution_count": 22,
          "metadata": {},
          "output_type": "execute_result"
        }
      ],
      "source": [
        "import pandas as pd\n",
        "\n",
        "# Create a DataFrame from our training statistics.\n",
        "df_stats = pd.DataFrame(training_stats)\n",
        "\n",
        "# Use the 'epoch' as the row index.\n",
        "df_stats = df_stats.set_index('epoch')\n",
        "\n",
        "# Display floats with two decimal places (regardless of the above codes)\n",
        "pd.set_option('display.precision', 3)\n",
        "\n",
        "# Display the table.\n",
        "df_stats"
      ]
    },
    {
      "cell_type": "code",
      "execution_count": null,
      "metadata": {
        "colab": {
          "base_uri": "https://localhost:8080/"
        },
        "id": "GUof_9NIIvQy",
        "outputId": "e1e50e46-113a-43fa-b869-be5f9b886e45"
      },
      "outputs": [
        {
          "name": "stdout",
          "output_type": "stream",
          "text": [
            "Training Complete!\n",
            "Total training took 0:03:57 (h:mm:ss)\n"
          ]
        }
      ],
      "source": [
        "print(f'Training Complete!\\nTotal training took {format_time(time.time()-total_t0):} (h:mm:ss)')"
      ]
    },
    {
      "cell_type": "markdown",
      "metadata": {
        "id": "ahxGU9lJcEbW"
      },
      "source": [
        "## Visualization for Training process"
      ]
    },
    {
      "cell_type": "code",
      "execution_count": null,
      "metadata": {
        "id": "6la3S9XocEbW",
        "outputId": "10e7617a-0871-489e-fa33-e38bc6a0fad6"
      },
      "outputs": [
        {
          "name": "stdout",
          "output_type": "stream",
          "text": [
            "Requirement already satisfied: matplotlib in /opt/anaconda3/envs/LLM_gramKo/lib/python3.12/site-packages (3.9.0)\n",
            "Requirement already satisfied: contourpy>=1.0.1 in /opt/anaconda3/envs/LLM_gramKo/lib/python3.12/site-packages (from matplotlib) (1.2.1)\n",
            "Requirement already satisfied: cycler>=0.10 in /opt/anaconda3/envs/LLM_gramKo/lib/python3.12/site-packages (from matplotlib) (0.12.1)\n",
            "Requirement already satisfied: fonttools>=4.22.0 in /opt/anaconda3/envs/LLM_gramKo/lib/python3.12/site-packages (from matplotlib) (4.53.0)\n",
            "Requirement already satisfied: kiwisolver>=1.3.1 in /opt/anaconda3/envs/LLM_gramKo/lib/python3.12/site-packages (from matplotlib) (1.4.5)\n",
            "Requirement already satisfied: numpy>=1.23 in /opt/anaconda3/envs/LLM_gramKo/lib/python3.12/site-packages (from matplotlib) (1.26.4)\n",
            "Requirement already satisfied: packaging>=20.0 in /opt/anaconda3/envs/LLM_gramKo/lib/python3.12/site-packages (from matplotlib) (24.1)\n",
            "Requirement already satisfied: pillow>=8 in /opt/anaconda3/envs/LLM_gramKo/lib/python3.12/site-packages (from matplotlib) (10.3.0)\n",
            "Requirement already satisfied: pyparsing>=2.3.1 in /opt/anaconda3/envs/LLM_gramKo/lib/python3.12/site-packages (from matplotlib) (3.1.2)\n",
            "Requirement already satisfied: python-dateutil>=2.7 in /opt/anaconda3/envs/LLM_gramKo/lib/python3.12/site-packages (from matplotlib) (2.9.0.post0)\n",
            "Requirement already satisfied: six>=1.5 in /opt/anaconda3/envs/LLM_gramKo/lib/python3.12/site-packages (from python-dateutil>=2.7->matplotlib) (1.16.0)\n",
            "Note: you may need to restart the kernel to use updated packages.\n"
          ]
        }
      ],
      "source": [
        "pip install matplotlib"
      ]
    },
    {
      "cell_type": "code",
      "execution_count": null,
      "metadata": {
        "scrolled": true,
        "id": "rHbJpj3BcEbW",
        "outputId": "e23c1816-3b58-4cbb-b3fc-72485da26fd2"
      },
      "outputs": [
        {
          "name": "stdout",
          "output_type": "stream",
          "text": [
            "Requirement already satisfied: seaborn in /opt/anaconda3/envs/LLM_gramKo/lib/python3.12/site-packages (0.13.2)\n",
            "Requirement already satisfied: numpy!=1.24.0,>=1.20 in /opt/anaconda3/envs/LLM_gramKo/lib/python3.12/site-packages (from seaborn) (1.26.4)\n",
            "Requirement already satisfied: pandas>=1.2 in /opt/anaconda3/envs/LLM_gramKo/lib/python3.12/site-packages (from seaborn) (2.2.2)\n",
            "Requirement already satisfied: matplotlib!=3.6.1,>=3.4 in /opt/anaconda3/envs/LLM_gramKo/lib/python3.12/site-packages (from seaborn) (3.9.0)\n",
            "Requirement already satisfied: contourpy>=1.0.1 in /opt/anaconda3/envs/LLM_gramKo/lib/python3.12/site-packages (from matplotlib!=3.6.1,>=3.4->seaborn) (1.2.1)\n",
            "Requirement already satisfied: cycler>=0.10 in /opt/anaconda3/envs/LLM_gramKo/lib/python3.12/site-packages (from matplotlib!=3.6.1,>=3.4->seaborn) (0.12.1)\n",
            "Requirement already satisfied: fonttools>=4.22.0 in /opt/anaconda3/envs/LLM_gramKo/lib/python3.12/site-packages (from matplotlib!=3.6.1,>=3.4->seaborn) (4.53.0)\n",
            "Requirement already satisfied: kiwisolver>=1.3.1 in /opt/anaconda3/envs/LLM_gramKo/lib/python3.12/site-packages (from matplotlib!=3.6.1,>=3.4->seaborn) (1.4.5)\n",
            "Requirement already satisfied: packaging>=20.0 in /opt/anaconda3/envs/LLM_gramKo/lib/python3.12/site-packages (from matplotlib!=3.6.1,>=3.4->seaborn) (24.1)\n",
            "Requirement already satisfied: pillow>=8 in /opt/anaconda3/envs/LLM_gramKo/lib/python3.12/site-packages (from matplotlib!=3.6.1,>=3.4->seaborn) (10.3.0)\n",
            "Requirement already satisfied: pyparsing>=2.3.1 in /opt/anaconda3/envs/LLM_gramKo/lib/python3.12/site-packages (from matplotlib!=3.6.1,>=3.4->seaborn) (3.1.2)\n",
            "Requirement already satisfied: python-dateutil>=2.7 in /opt/anaconda3/envs/LLM_gramKo/lib/python3.12/site-packages (from matplotlib!=3.6.1,>=3.4->seaborn) (2.9.0.post0)\n",
            "Requirement already satisfied: pytz>=2020.1 in /opt/anaconda3/envs/LLM_gramKo/lib/python3.12/site-packages (from pandas>=1.2->seaborn) (2024.1)\n",
            "Requirement already satisfied: tzdata>=2022.7 in /opt/anaconda3/envs/LLM_gramKo/lib/python3.12/site-packages (from pandas>=1.2->seaborn) (2024.1)\n",
            "Requirement already satisfied: six>=1.5 in /opt/anaconda3/envs/LLM_gramKo/lib/python3.12/site-packages (from python-dateutil>=2.7->matplotlib!=3.6.1,>=3.4->seaborn) (1.16.0)\n",
            "Note: you may need to restart the kernel to use updated packages.\n"
          ]
        }
      ],
      "source": [
        "pip install seaborn"
      ]
    },
    {
      "cell_type": "code",
      "execution_count": null,
      "metadata": {
        "id": "1xOM0-NCcEbW",
        "outputId": "3bc52497-042f-49d2-9ef6-900ace43737d"
      },
      "outputs": [
        {
          "name": "stdout",
          "output_type": "stream",
          "text": [
            "epoch\n",
            "1    0.675\n",
            "Name: Train Loss, dtype: float64\n"
          ]
        }
      ],
      "source": [
        "print(df_stats['Train Loss'])"
      ]
    },
    {
      "cell_type": "code",
      "execution_count": null,
      "metadata": {
        "colab": {
          "base_uri": "https://localhost:8080/",
          "height": 592
        },
        "id": "fdhAzaKIA2Rd",
        "outputId": "675ab3ac-1e54-4510-e569-a38cbc14b9c1"
      },
      "outputs": [
        {
          "data": {
            "image/png": "[encoded data removed]",
            "text/plain": [
              "<Figure size 1200x600 with 1 Axes>"
            ]
          },
          "metadata": {},
          "output_type": "display_data"
        }
      ],
      "source": [
        "import matplotlib.pyplot as plt\n",
        "import seaborn as sns\n",
        "\n",
        "# seaborn 사용하여 plot 생성\n",
        "sns.set(style='darkgrid')\n",
        "\n",
        "# plot 사이즈 & 폰트 사이즈 지정\n",
        "sns.set(font_scale=1.5)\n",
        "plt.rcParams[\"figure.figsize\"] = (12,6)\n",
        "\n",
        "# Plot the learning curve.\n",
        "plt.plot(df_stats['Train Loss'], 'b-o', label=\"Training\")\n",
        "plt.plot(df_stats['Dev Loss'], 'g-o', label=\"Development\")\n",
        "\n",
        "# Label the plot.\n",
        "plt.title(\"Training & Development Loss\")\n",
        "plt.xlabel(\"Epoch\")\n",
        "plt.ylabel(\"Loss\")\n",
        "plt.legend()\n",
        "plt.xticks([1, 2, 3, 4])\n",
        "\n",
        "plt.show()"
      ]
    },
    {
      "cell_type": "markdown",
      "metadata": {
        "id": "pKP-Nb6yD9GV"
      },
      "source": [
        "### Development 데이터 검증\n"
      ]
    },
    {
      "cell_type": "code",
      "execution_count": null,
      "metadata": {
        "colab": {
          "base_uri": "https://localhost:8080/"
        },
        "id": "xeRLralHkqOu",
        "outputId": "de8ae7d9-da5b-4d0e-e636-3d6b5f755f1a",
        "scrolled": true
      },
      "outputs": [
        {
          "name": "stdout",
          "output_type": "stream",
          "text": [
            "Predicting labels for 2,032 dev sentences...\n",
            "Predictions:  [[[-0.316694051027298, 0.08650478720664978], [-0.5229814648628235, 0.4206664264202118], [0.377425879240036, -0.27868881821632385], [-0.530193030834198, 0.2990741729736328], [-0.6302367448806763, 0.39459511637687683], [-0.03511101007461548, -0.13629265129566193], [0.1133509948849678, -0.17944012582302094], [-0.16294093430042267, -0.024090778082609177], [-0.4827418923377991, 0.29817911982536316], [0.2943946123123169, -0.4805684983730316], [-0.6021129488945007, 0.43896061182022095], [-0.7743023037910461, 0.5124249458312988], [-0.5261939167976379, 0.35836976766586304], [-0.39190390706062317, 0.19787168502807617], [-0.39357107877731323, 0.1718222051858902], [-0.0055586774833500385, -0.240733340382576], [-0.2902618944644928, 0.09920898079872131], [-0.13675130903720856, -0.060628920793533325], [-0.2030838578939438, 0.04014681652188301], [0.01188200619071722, -0.28184518218040466], [-0.2228313535451889, 0.19302381575107574], [0.09939775615930557, -0.19378899037837982], [-0.4385972321033478, 0.2826419472694397], [-0.4479852616786957, 0.2339598685503006], [0.01019176747649908, -0.111692875623703], [-0.14562225341796875, -0.007321259938180447], [-0.37123894691467285, 0.3021208345890045], [-0.22149811685085297, 0.063203826546669], [-0.02057754248380661, -0.21725617349147797], [-0.47652775049209595, 0.1560550183057785], [-0.6763903498649597, 0.45384982228279114], [0.3013335168361664, -0.3578955829143524]], [[0.43148836493492126, -0.39092347025871277], [-0.4363674223423004, 0.3941056430339813], [-0.6420114040374756, 0.41571104526519775], [-0.5925309062004089, 0.40912172198295593], [-0.6791969537734985, 0.4126754105091095], [-0.2912633717060089, 0.13412033021450043], [-0.21342304348945618, 0.048903677612543106], [-0.21607878804206848, -0.0016273959772661328], [-0.33946678042411804, 0.10731273889541626], [0.42401501536369324, -0.3882715404033661], [-0.20373061299324036, 0.08624701201915741], [-0.2802702784538269, 0.2003166824579239], [-0.42396095395088196, 0.27405840158462524], [-0.051281921565532684, -0.06498593091964722], [0.36125147342681885, -0.38682112097740173], [0.12166237086057663, -0.3314298093318939], [-0.2756001651287079, 0.04894036427140236], [-0.06204798072576523, -0.029734719544649124], [0.12557236850261688, -0.2185138761997223], [-0.63800048828125, 0.4471913278102875], [0.06132002919912338, -0.2920946180820465], [0.02495414763689041, -0.2605734169483185], [-0.6348778009414673, 0.534518301486969], [0.1702011078596115, -0.27684804797172546], [-0.6733794808387756, 0.3799474835395813], [-0.6281353831291199, 0.46545636653900146], [-0.6780253052711487, 0.4493308365345001], [-0.09693989157676697, -0.08737611025571823], [-0.4559701383113861, 0.2697436511516571], [-0.29383352398872375, 0.15209828317165375], [-0.6196141839027405, 0.38431933522224426], [-0.4158380925655365, 0.25973308086395264]], [[0.13538141548633575, -0.3203398287296295], [-0.2637283504009247, -0.011809649877250195], [-0.46253499388694763, 0.29170385003089905], [-0.39193084836006165, 0.2630310356616974], [-0.5102980732917786, 0.371692955493927], [0.13900212943553925, -0.3619045913219452], [-0.002893508179113269, -0.2700332701206207], [-0.32574135065078735, 0.15083040297031403], [-0.6266816854476929, 0.4118027091026306], [-0.6050224304199219, 0.26603782176971436], [-0.44688111543655396, 0.27796292304992676], [-0.6229326128959656, 0.3817199766635895], [-0.028345629572868347, -0.1883440464735031], [-0.42518576979637146, 0.23770961165428162], [-0.12239080667495728, 0.0020095529034733772], [-0.279325395822525, 0.1213846504688263], [-0.36635881662368774, 0.1928991824388504], [-0.6063045859336853, 0.47573235630989075], [0.039687201380729675, -0.03329188749194145], [0.1470411717891693, -0.3112538158893585], [0.1476239114999771, -0.32323285937309265], [-0.28259482979774475, 0.17103265225887299], [-0.7118297219276428, 0.43211695551872253], [0.269426167011261, -0.4249100387096405], [-0.09044455736875534, -0.15384875237941742], [-0.4043462574481964, 0.27897903323173523], [0.22946979105472565, -0.3426860272884369], [-0.6615846157073975, 0.4903562366962433], [-0.4852880537509918, 0.1947585642337799], [0.3024729788303375, -0.3957827687263489], [-0.01972852647304535, -0.10968376696109772], [0.514030396938324, -0.4159005582332611]], [[0.3833658695220947, -0.46212074160575867], [-0.5965677499771118, 0.4254424273967743], [0.15904507040977478, -0.28365328907966614], [-0.2673243582248688, 0.05123983696103096], [-0.3415868282318115, 0.17259062826633453], [-0.6834028363227844, 0.4379240572452545], [-0.09741326421499252, -0.06311149895191193], [0.06351170688867569, -0.29628410935401917], [-0.6198741793632507, 0.28052446246147156], [-0.34874656796455383, 0.1646428108215332], [-0.2461252063512802, 0.06602263450622559], [0.06984413415193558, -0.28954777121543884], [-0.35863643884658813, 0.19101209938526154], [0.21535928547382355, -0.30228981375694275], [-0.38440200686454773, 0.24560168385505676], [-0.2119816690683365, 0.003725198097527027], [-0.5197824835777283, 0.26564842462539673], [-0.72065669298172, 0.483975350856781], [0.28105995059013367, -0.3312271237373352], [-0.6304481625556946, 0.3521865904331207], [-0.025584295392036438, -0.12144627422094345], [-0.3117203116416931, 0.1386268585920334], [-0.5966319441795349, 0.30952519178390503], [-0.1218762993812561, 0.07334312051534653], [-0.435941606760025, 0.2702465355396271], [0.4216630756855011, -0.39200279116630554], [0.17005735635757446, -0.2671327590942383], [-0.03772641718387604, -0.07452132552862167], [0.12801054120063782, -0.323285847902298], [-0.6004310250282288, 0.4154776334762573], [-0.16629651188850403, 0.0185975544154644], [-0.39856016635894775, 0.2387850433588028]], [[-0.4475049078464508, 0.3217758238315582], [-0.733559250831604, 0.37633249163627625], [-0.6920052766799927, 0.3614386022090912], [0.013878232799470425, -0.133822962641716], [0.35647231340408325, -0.4604429304599762], [-0.8416638970375061, 0.5710284113883972], [0.09583988040685654, -0.15311425924301147], [-0.7466974854469299, 0.4801706075668335], [-0.4434938132762909, 0.3005888760089874], [0.02999833971261978, -0.21519027650356293], [-0.028572089970111847, -0.12378564476966858], [0.33673349022865295, -0.28269854187965393], [-0.512336015701294, 0.3314184546470642], [-0.4071623980998993, 0.22178980708122253], [-0.22787737846374512, 0.08409235626459122], [-0.7314238548278809, 0.49962785840034485], [-0.5372442007064819, 0.31786873936653137], [-0.6341175436973572, 0.29750320315361023], [-0.4364095628261566, 0.23734013736248016], [-0.09644629806280136, -0.08285439759492874], [-0.1086166724562645, -0.07047121226787567], [0.1964907944202423, -0.268088698387146], [0.0397309884428978, -0.1488638073205948], [0.4364694654941559, -0.41149911284446716], [-0.6691673994064331, 0.441290944814682], [-0.39183732867240906, 0.18092240393161774], [0.26019880175590515, -0.14754019677639008], [-0.5747235417366028, 0.327189177274704], [0.19914770126342773, -0.26143762469291687], [-0.5732731223106384, 0.3253840208053589], [-0.7194332480430603, 0.5935995578765869], [-0.5908114314079285, 0.4850376844406128]], [[0.17778414487838745, -0.3221144676208496], [-0.034691862761974335, -0.05541094020009041], [-0.3754342496395111, 0.3677428662776947], [-0.46272730827331543, 0.2947154641151428], [-0.3219330608844757, 0.12647521495819092], [-0.18112194538116455, 0.009092879481613636], [-0.0708470344543457, -0.04226888343691826], [0.4268287122249603, -0.4403700530529022], [-0.5413176417350769, 0.34005528688430786], [0.13227318227291107, -0.3081277310848236], [-0.796666145324707, 0.5533668994903564], [0.1922091245651245, -0.26904797554016113], [0.06194296479225159, -0.23544330894947052], [-0.24871985614299774, 0.03128565475344658], [-0.5609145164489746, 0.39566752314567566], [-0.2621716558933258, 0.0997149720788002], [0.229936882853508, -0.2909584939479828], [-0.30550703406333923, 0.2302813082933426], [0.2066793292760849, -0.32453447580337524], [-0.2247111052274704, 0.02102108672261238], [-0.2400541454553604, 0.049248430877923965], [-0.5103994011878967, 0.34127381443977356], [-0.6032343506813049, 0.40972089767456055], [-0.6439381241798401, 0.4281657338142395], [-0.28720077872276306, 0.12230290472507477], [-0.7854269742965698, 0.4794659912586212], [0.23620842397212982, -0.24486611783504486], [0.22710317373275757, -0.16655360162258148], [-0.47485023736953735, 0.29770925641059875], [-0.6141003370285034, 0.3814260959625244], [-0.4439241588115692, 0.16716237366199493], [-0.2732791304588318, 0.052955422550439835]], [[-0.03436950594186783, -0.15251250565052032], [-0.5951706767082214, 0.381499707698822], [-0.5853379964828491, 0.38541388511657715], [-0.6385763883590698, 0.4498026669025421], [-0.557853102684021, 0.3590400516986847], [-0.4300501346588135, 0.2826315462589264], [-0.20404046773910522, 0.05396854504942894], [-0.19741474092006683, 0.0686083436012268], [-0.20514445006847382, 0.07808364927768707], [-0.6051532030105591, 0.36256101727485657], [-0.7128044366836548, 0.5013183355331421], [-0.5372908711433411, 0.3523557484149933], [-0.5270078182220459, 0.3412633240222931], [-0.18033351004123688, 0.2596208155155182], [0.12642790377140045, -0.21439819037914276], [-0.590387225151062, 0.3368895947933197], [0.3394567668437958, -0.45589062571525574], [-0.23463784158229828, -0.06176493689417839], [-0.6214733719825745, 0.3752076327800751], [-0.5494946837425232, 0.2774638831615448], [-0.2503682076931, 0.07148975878953934], [0.5033075213432312, -0.44096729159355164], [-0.33195140957832336, 0.23255178332328796], [0.3079696595668793, -0.3547905683517456], [-0.8152672648429871, 0.5271077752113342], [-0.5805734992027283, 0.2677486836910248], [-0.7561999559402466, 0.3945521414279938], [0.24271734058856964, -0.37079936265945435], [-0.39017388224601746, 0.2562510371208191], [-0.33076247572898865, 0.13494493067264557], [-0.2666519284248352, 0.0074896300211548805], [0.18075551092624664, -0.27338656783103943]], [[-0.5401756763458252, 0.3730180561542511], [-0.6759366393089294, 0.4100668430328369], [-0.6581299901008606, 0.4009876549243927], [0.2145012766122818, -0.3532788157463074], [0.1872873306274414, -0.34560665488243103], [0.38441362977027893, -0.4467467665672302], [0.10662896931171417, -0.20932704210281372], [0.1532934457063675, -0.23572321236133575], [-0.43135225772857666, 0.20764638483524323], [-0.5146992802619934, 0.330025851726532], [-0.2748912572860718, 0.11337444931268692], [-0.4234977662563324, 0.37838876247406006], [0.019833624362945557, -0.20152881741523743], [-0.00693625258281827, -0.19214104115962982], [-0.20791204273700714, -0.024817541241645813], [-0.5059860944747925, 0.42498669028282166], [-0.7113125920295715, 0.5096164345741272], [-0.02283061295747757, -0.11808119714260101], [-0.5868862271308899, 0.3818804919719696], [-0.6381515860557556, 0.4879392087459564], [-0.5297184586524963, 0.3310379087924957], [0.11910643428564072, -0.2398669272661209], [-0.3482224643230438, 0.1365731805562973], [-0.36591294407844543, 0.22515574097633362], [-0.6443449854850769, 0.43008655309677124], [-0.5459682941436768, 0.2783595323562622], [0.12957005202770233, -0.08709914982318878], [-0.058100514113903046, -0.07050880044698715], [-0.42458871006965637, 0.24618427455425262], [0.08608656376600266, -0.004091587848961353], [-0.30370262265205383, 0.09476885199546814], [-0.20737873017787933, 0.03266448900103569]], [[-0.6014817953109741, 0.3790017068386078], [-0.016371287405490875, -0.011943927966058254], [-0.6226662993431091, 0.4260845184326172], [-0.12309583276510239, -0.04903625324368477], [-0.2725173532962799, 0.029503989964723587], [-0.8258659243583679, 0.49001213908195496], [0.13481539487838745, -0.260815292596817], [-0.1832612305879593, 0.061698105186223984], [-0.11338672041893005, -0.026915665715932846], [-0.6962406635284424, 0.4069587290287018], [-0.7697598338127136, 0.5355892777442932], [-0.7289233207702637, 0.5472412109375], [-0.2272106111049652, 0.07749776542186737], [0.0793645828962326, -0.28958606719970703], [-0.11431162059307098, -0.04022125527262688], [-0.1646367311477661, 0.13315361738204956], [-0.1135353371500969, -0.050347957760095596], [-0.27678582072257996, 0.14350643754005432], [-0.543448269367218, 0.44555729627609253], [-0.07339150458574295, -0.11231785267591476], [-0.32126137614250183, 0.05279703810811043], [-0.746213972568512, 0.44633540511131287], [-0.44315773248672485, 0.3132692873477936], [-0.43576470017433167, 0.28424251079559326], [-0.7441794276237488, 0.5324142575263977], [-0.7281621098518372, 0.5224250555038452], [0.29505032300949097, -0.30156609416007996], [-0.6623548269271851, 0.4722330868244171], [-0.09765568375587463, -0.16220895946025848], [0.05600042641162872, -0.24982275068759918], [-0.21025897562503815, 0.1171458512544632], [0.5053965449333191, -0.4213935434818268]], [[-0.5415818095207214, 0.33026939630508423], [-0.6163970828056335, 0.3476887047290802], [-0.2631796598434448, 0.09333330392837524], [0.29419809579849243, -0.2666391432285309], [-0.39752069115638733, 0.20272476971149445], [-0.16801808774471283, -0.02646571770310402], [-0.2734144628047943, 0.11911706626415253], [-0.7459395527839661, 0.5424202084541321], [-0.28898146748542786, 0.06947434693574905], [-0.1990087479352951, 0.12328648567199707], [-0.2927965223789215, 0.03267733380198479], [0.10444715619087219, -0.3165840804576874], [-0.6013593673706055, 0.45665308833122253], [0.0017280944157391787, -0.075709268450737], [0.04721095412969589, -0.06926468014717102], [-0.14670957624912262, 0.00838776770979166], [0.03457067906856537, -0.1352059692144394], [0.18351304531097412, -0.34660401940345764], [-0.582990288734436, 0.44464462995529175], [-0.5612189173698425, 0.33028489351272583], [-0.6077890992164612, 0.39852407574653625], [-0.5211487412452698, 0.265674352645874], [-0.36996614933013916, 0.24437180161476135], [-0.5601469278335571, 0.3527829051017761], [-0.517570436000824, 0.3897992968559265], [0.4468822181224823, -0.4292028248310089], [-0.17814968526363373, 0.06288804113864899], [0.17142342031002045, -0.24341951310634613], [-0.11886290460824966, -0.0586257167160511], [0.1627119928598404, -0.2637215554714203], [0.12327835708856583, -0.16767767071723938], [-0.08267298340797424, -0.07828950136899948]], [[-0.4576016962528229, 0.19162294268608093], [-0.47848907113075256, 0.20815201103687286], [-0.3348475992679596, 0.2622537314891815], [-0.3629167377948761, 0.13892658054828644], [-0.3613732159137726, 0.14522315561771393], [0.4150545001029968, -0.440054714679718], [-0.6179372668266296, 0.45390239357948303], [-0.5576967597007751, 0.32051005959510803], [-0.6219915747642517, 0.3592517375946045], [-0.48388081789016724, 0.3650921583175659], [-0.28601378202438354, 0.06578229367733002], [-0.5413365960121155, 0.4142117202281952], [-0.32975491881370544, 0.15281812846660614], [-0.5162305235862732, 0.35963377356529236], [0.09742235392332077, -0.2678981125354767], [-0.6833617687225342, 0.4254804849624634], [-0.5911356806755066, 0.34267714619636536], [-0.29739949107170105, 0.20857904851436615], [-0.6017495393753052, 0.27548086643218994], [-0.40657272934913635, 0.13587813079357147], [-0.12429416179656982, -0.08221571147441864], [-0.08076508343219757, -0.09038034081459045], [-0.6662692427635193, 0.4812828004360199], [-0.6276786923408508, 0.4403216242790222], [-0.09004079550504684, 0.09221074730157852], [-0.18657360970973969, 0.2767985165119171], [-0.6666585803031921, 0.406838595867157], [0.34237828850746155, -0.3186330199241638], [0.011443152092397213, -0.15923860669136047], [0.2173946052789688, -0.3333646357059479], [-0.7199239134788513, 0.4731099307537079], [-0.5263249278068542, 0.45941635966300964]], [[-0.793633759021759, 0.45607778429985046], [0.31387248635292053, -0.3923353850841522], [-0.5124115943908691, 0.4441201686859131], [-0.1434030681848526, 0.07290816307067871], [-0.40631717443466187, 0.11207464337348938], [0.10617288202047348, -0.19543525576591492], [-0.10092759877443314, 0.04771943762898445], [-0.2515164315700531, 0.10475984960794449], [-0.5585005879402161, 0.4857334494590759], [-0.1556154191493988, -0.04204456880688667], [-0.5254256129264832, 0.2993498146533966], [-0.4108937084674835, 0.1957097202539444], [-0.6166688203811646, 0.4049345552921295], [-0.4461105167865753, 0.2627418041229248], [0.2605245113372803, -0.2830217182636261], [0.020877070724964142, -0.17681002616882324], [-0.3765614330768585, 0.23986323177814484], [-0.24247096478939056, 0.013322264887392521], [0.09227771311998367, -0.27752912044525146], [-0.3294835686683655, 0.1592441201210022], [0.3134148418903351, -0.3473050892353058], [-0.3739444315433502, 0.1955452710390091], [-0.47669994831085205, 0.18674792349338531], [0.19929584860801697, -0.37829306721687317], [-0.36090293526649475, 0.1908334642648697], [-0.4785268008708954, 0.37284553050994873], [-0.42044922709465027, 0.2534868121147156], [-0.5355594754219055, 0.31204238533973694], [-0.5798659324645996, 0.3919016122817993], [-0.08482122421264648, 0.012329955585300922], [-0.721048891544342, 0.5288209319114685], [0.4869420528411865, -0.3966985046863556]], [[-0.20731787383556366, 0.054850250482559204], [-0.20307627320289612, -0.01580866053700447], [-0.6954326033592224, 0.4355875253677368], [0.5422139763832092, -0.39746591448783875], [-0.6404696702957153, 0.5225455164909363], [0.3139066994190216, -0.3420313000679016], [-0.5880631804466248, 0.4853859841823578], [-0.4478001594543457, 0.29247498512268066], [-0.35455772280693054, 0.1853126585483551], [-0.8071812391281128, 0.5463855266571045], [-0.4381384551525116, 0.22781001031398773], [0.01987241953611374, -0.18330655992031097], [-0.6542263031005859, 0.5136561989784241], [-0.7192623019218445, 0.381550669670105], [-0.6851564049720764, 0.5265855193138123], [-0.18454822897911072, -0.028102751821279526], [-0.578881025314331, 0.2798088788986206], [0.22054007649421692, -0.2973106801509857], [-0.4765864312648773, 0.37720680236816406], [0.22297491133213043, -0.3592686355113983], [-0.2362421154975891, -0.059127602726221085], [0.15903045237064362, -0.19860632717609406], [-0.23061814904212952, 0.02605128288269043], [-0.637912392616272, 0.4548339545726776], [-0.017917774617671967, -0.1114189550280571], [-0.0953032523393631, -0.0321616567671299], [-0.26474711298942566, 0.023439262062311172], [-0.47925350069999695, 0.35123351216316223], [-0.2531065046787262, 0.027095582336187363], [-0.14692915976047516, -0.051135431975126266], [0.00209362362511456, -0.1270570605993271], [0.5172837376594543, -0.35741665959358215]], [[0.05386006087064743, -0.23626099526882172], [-0.7951878905296326, 0.5522415637969971], [-0.5426701903343201, 0.3094828724861145], [-0.6510486006736755, 0.4837605655193329], [-0.5454317927360535, 0.3688182532787323], [-0.5691642165184021, 0.3726792633533478], [-0.15941070020198822, 0.13465481996536255], [-0.38041338324546814, 0.10839027911424637], [-0.07174389809370041, -0.10389190912246704], [-0.7416778206825256, 0.575257420539856], [-0.20288591086864471, 0.03109118714928627], [-0.4886137545108795, 0.24055053293704987], [-0.5196240544319153, 0.26399484276771545], [-0.6961755156517029, 0.46628478169441223], [-0.6198417544364929, 0.39020267128944397], [0.08347555994987488, -0.18912065029144287], [-0.6011285185813904, 0.40314826369285583], [0.10646142810583115, -0.28132709860801697], [-0.5192273259162903, 0.4392238259315491], [0.07136228680610657, -0.1351974606513977], [-0.07314004749059677, -0.1210559606552124], [-0.2709520161151886, 0.04821380600333214], [0.13505500555038452, -0.14042769372463226], [-0.4281710386276245, 0.22337260842323303], [0.3507533371448517, -0.264880895614624], [-0.1982213407754898, 0.03600257262587547], [-0.0032493702601641417, -0.08264301717281342], [-0.5769216418266296, 0.3581595718860626], [-0.4022403955459595, 0.13237862288951874], [-0.5305655598640442, 0.30450254678726196], [0.40243610739707947, -0.4651746153831482], [-0.3076338469982147, 0.02208997681736946]], [[0.5332414507865906, -0.4158920347690582], [0.29252251982688904, -0.3755793869495392], [-0.21932029724121094, 0.047135256230831146], [-0.2652859687805176, 0.0780186802148819], [-0.43791818618774414, 0.19712521135807037], [-0.5569820404052734, 0.343512624502182], [-0.5994174480438232, 0.31431278586387634], [-0.3965427279472351, 0.1523716002702713], [-0.0508924275636673, -0.1460408717393875], [-0.705276370048523, 0.5204761624336243], [0.041315995156764984, -0.13046284019947052], [-0.6598606705665588, 0.430985689163208], [-0.5842882394790649, 0.3248530924320221], [-0.34577634930610657, 0.19093655049800873], [-0.3685323894023895, 0.1886828988790512], [-0.20352160930633545, 0.040592845529317856], [-0.3200742304325104, 0.10593405365943909], [0.060494571924209595, -0.275994211435318], [-0.5996790528297424, 0.3816719949245453], [-0.35459569096565247, 0.11751247942447662], [0.1449478417634964, -0.30459001660346985], [-0.48707470297813416, 0.2787914574146271], [-0.6680773496627808, 0.41639119386672974], [0.20405708253383636, -0.3198630213737488], [0.46099361777305603, -0.42054101824760437], [-0.8428083062171936, 0.5778462886810303], [-0.0761103555560112, -0.20041953027248383], [-0.6435227990150452, 0.4069649875164032], [-0.10839734226465225, -0.15328478813171387], [-0.5520887970924377, 0.540057361125946], [-0.6376659274101257, 0.4228949248790741], [-0.12388481199741364, 0.009204578585922718]], [[-0.03580823540687561, -0.18095102906227112], [-0.0858309343457222, -0.033321820199489594], [-0.11267826706171036, 0.04550045728683472], [-0.5651231408119202, 0.38257482647895813], [-0.15104492008686066, -0.055823128670454025], [-0.21986256539821625, 0.058198992162942886], [-0.6721495985984802, 0.4381408393383026], [-0.29072147607803345, 0.24146629869937897], [-0.734319269657135, 0.5440958142280579], [0.3710505962371826, -0.3925855755805969], [-0.43504399061203003, 0.2881694734096527], [-0.4489684998989105, 0.2555154860019684], [-0.3755643665790558, 0.1474790722131729], [0.21497544646263123, -0.43476298451423645], [-0.5965983867645264, 0.4017700254917145], [-0.654478132724762, 0.4688628315925598], [0.0575885996222496, -0.24288718402385712], [0.4216877222061157, -0.41254809498786926], [-0.043236374855041504, -0.01679474115371704], [-0.5865455269813538, 0.39098691940307617], [0.0029884420800954103, -0.20013722777366638], [-0.6449937224388123, 0.4353578984737396], [-0.7641206979751587, 0.5274053812026978], [-0.5834141969680786, 0.39188578724861145], [0.007233000826090574, -0.21103371679782867], [-0.04228287190198898, -0.010455059818923473], [-0.25423023104667664, 0.14939968287944794], [-0.4006219804286957, 0.1094169095158577], [0.34413406252861023, -0.3972057104110718], [-0.3561035990715027, 0.18841171264648438], [0.26497629284858704, -0.26181599497795105], [-0.4032541811466217, 0.21305513381958008]], [[-0.6247885823249817, 0.5097372531890869], [-0.09420445561408997, -0.1540396362543106], [-0.6372730135917664, 0.3763708770275116], [-0.4146133363246918, 0.19197119772434235], [-0.5538277626037598, 0.4201064109802246], [0.324069619178772, -0.4569457471370697], [-0.5392152070999146, 0.28864598274230957], [-0.18014414608478546, 0.11226365715265274], [0.4021970331668854, -0.46158719062805176], [-0.1359531134366989, -0.032227687537670135], [-0.7194722294807434, 0.5530518889427185], [-0.5991010069847107, 0.32461297512054443], [-0.6130496859550476, 0.5340585708618164], [0.19101561605930328, -0.2939381003379822], [-0.3819679021835327, 0.12557795643806458], [-0.5081393122673035, 0.2460424154996872], [-0.22246824204921722, -0.004473167471587658], [-0.1568736582994461, -0.10673362016677856], [-0.08367782086133957, -0.06357726454734802], [-0.5315229296684265, 0.3533237874507904], [-0.31085261702537537, 0.07349207997322083], [-0.3568561375141144, 0.17321716248989105], [-0.6134234070777893, 0.38267216086387634], [-0.15140484273433685, -0.06635536253452301], [-0.2601414620876312, 0.07739440351724625], [-0.45143401622772217, 0.3213672339916229], [-0.5724969506263733, 0.3396337926387787], [-0.5139824748039246, 0.33477047085762024], [0.4387666583061218, -0.4145497977733612], [-0.2708948254585266, 0.19982953369617462], [-0.15904133021831512, 0.0849454253911972], [0.0166374109685421, -0.2086116224527359]], [[-0.1984005868434906, 0.23330239951610565], [-0.5671674609184265, 0.36268576979637146], [-0.24841056764125824, -0.0049640340730547905], [0.08996044099330902, -0.20261231064796448], [0.02504708617925644, -0.1479889452457428], [-0.5487237572669983, 0.31316131353378296], [-0.4724474847316742, 0.342142254114151], [-0.2483103722333908, 0.07864660769701004], [-0.5825653672218323, 0.3358254134654999], [-0.4808560311794281, 0.22452910244464874], [-0.5871868133544922, 0.32395461201667786], [-0.8228440284729004, 0.6536151766777039], [-0.7439489364624023, 0.47239911556243896], [0.12710325419902802, -0.3101586401462555], [-0.688896894454956, 0.48876574635505676], [-0.019515328109264374, -0.0890728160738945], [-0.15866144001483917, 0.07930231094360352], [-0.25510895252227783, 0.03663021698594093], [-0.2199302762746811, 0.045728739351034164], [-0.16540487110614777, -0.03298249468207359], [-0.14820466935634613, 0.09314970672130585], [-0.18162812292575836, -0.025554247200489044], [-0.7271066308021545, 0.5096470713615417], [0.3177451491355896, -0.3808556795120239], [-0.4891636371612549, 0.39786866307258606], [-0.5333895087242126, 0.21198056638240814], [-0.6096162796020508, 0.4552934169769287], [-0.6159728169441223, 0.4090009331703186], [-0.22019390761852264, 0.1249043419957161], [-0.2956990897655487, 0.08889425545930862], [-0.2997826337814331, 0.16044144332408905], [0.4335212707519531, -0.4446604251861572]], [[-0.03565050661563873, -0.040030304342508316], [-0.39166611433029175, 0.16167043149471283], [-0.2555078864097595, 0.13245581090450287], [-0.08267301321029663, -0.014230581931769848], [0.28183847665786743, -0.37466320395469666], [-0.6467970013618469, 0.4856516420841217], [-0.7217891216278076, 0.5571009516716003], [-0.6294695734977722, 0.5095580220222473], [-0.6326088309288025, 0.4076767861843109], [-0.6407431364059448, 0.46147421002388], [-0.21637998521327972, 0.13818608224391937], [-0.4443066418170929, 0.16819976270198822], [-0.5732234120368958, 0.28206127882003784], [0.18874354660511017, -0.34585562348365784], [-0.17774488031864166, -0.02682356908917427], [-0.29733675718307495, 0.1327364146709442], [-0.4410924017429352, 0.23771166801452637], [0.21028360724449158, -0.297316312789917], [-0.43777021765708923, 0.2764565050601959], [-0.4682856500148773, 0.2873118817806244], [-0.15858830511569977, 0.05009261891245842], [0.33138132095336914, -0.41027751564979553], [-0.6305235624313354, 0.41446635127067566], [-0.17296701669692993, -0.00017093413043767214], [-0.24425676465034485, 0.07609383016824722], [-0.6409910321235657, 0.44902920722961426], [-0.007462248671799898, -0.28848084807395935], [-0.5523950457572937, 0.34884917736053467], [-0.18085496127605438, 0.09268784523010254], [-0.5697587132453918, 0.38537856936454773], [0.08244100213050842, -0.11981536448001862], [-0.5614896416664124, 0.5373876094818115]], [[-0.15632851421833038, -0.06934138387441635], [-0.41611894965171814, 0.2521412670612335], [-0.7140262126922607, 0.4556475579738617], [0.4598660469055176, -0.40676990151405334], [0.2933555841445923, -0.3048042953014374], [-0.18708398938179016, 0.08462643623352051], [-0.48897886276245117, 0.39400848746299744], [-0.5434831380844116, 0.39115333557128906], [0.02761567011475563, -0.20831017196178436], [-0.21313197910785675, 0.015327227301895618], [-0.4426341950893402, 0.21102824807167053], [-0.1381082534790039, -0.025046203285455704], [-0.5133804678916931, 0.3174697756767273], [-0.427499383687973, 0.26152750849723816], [-0.47505125403404236, 0.28781628608703613], [-0.6607927680015564, 0.42106494307518005], [-0.6173540353775024, 0.4976840913295746], [-0.6875772476196289, 0.5716346502304077], [-0.6442660093307495, 0.48404690623283386], [-0.6822517514228821, 0.5483046770095825], [-0.29224535822868347, -0.04739560931921005], [-0.45559754967689514, 0.2831202745437622], [-0.4592079818248749, 0.22383014857769012], [0.35347265005111694, -0.35288456082344055], [-0.33686885237693787, 0.10851502418518066], [-0.31488704681396484, 0.10198549926280975], [-0.7552328705787659, 0.4493437111377716], [-0.20343910157680511, 0.02728937938809395], [-0.5399782061576843, 0.2185903638601303], [0.46632418036460876, -0.4627590477466583], [-0.7611386179924011, 0.49562427401542664], [-0.19909913837909698, 0.0011223823530599475]], [[0.0027384154964238405, -0.22046281397342682], [-0.10324092954397202, -0.05590616911649704], [-0.49462366104125977, 0.3293028175830841], [-0.05489129573106766, -0.07906898856163025], [-0.07509913295507431, -0.04585879668593407], [-0.46103766560554504, 0.3283177614212036], [-0.4344019591808319, 0.28518471121788025], [-0.18649862706661224, 0.03664705157279968], [-0.7783177495002747, 0.5231483578681946], [-0.30030545592308044, 0.15627311170101166], [-0.6849876046180725, 0.4454391896724701], [-0.4400794804096222, 0.33254310488700867], [-0.13252373039722443, 0.08135359734296799], [-0.67021244764328, 0.4417543113231659], [0.08061767369508743, -0.05403348430991173], [-0.7107612490653992, 0.3994261622428894], [-0.5130324363708496, 0.3832568824291229], [-0.22177669405937195, 0.017028946429491043], [-0.3923618495464325, 0.16154326498508453], [-0.7115222215652466, 0.48825499415397644], [-0.24573945999145508, 0.09441171586513519], [-0.4585595428943634, 0.3318336606025696], [-0.18167978525161743, 0.06937073171138763], [-0.651193380355835, 0.42602503299713135], [-0.24389530718326569, 0.17076265811920166], [-0.5342462658882141, 0.4083555042743683], [-0.06335841119289398, -0.167536661028862], [0.03592069447040558, -0.25494304299354553], [-0.2302108258008957, 0.012570601888000965], [-0.662036120891571, 0.43291884660720825], [-0.01570216566324234, -0.05354144051671028], [0.06848327070474625, -0.28517410159111023]], [[-0.5387862920761108, 0.4814366400241852], [-0.19328421354293823, -0.019893597811460495], [-0.010899842716753483, -0.07791055738925934], [0.4583803117275238, -0.44539371132850647], [-0.6172048449516296, 0.3737388253211975], [-0.6081704497337341, 0.34875181317329407], [-0.59859699010849, 0.39325135946273804], [0.1501656025648117, -0.26883426308631897], [-0.21990759670734406, -0.040318477898836136], [0.2539055347442627, -0.3286503851413727], [-0.24627864360809326, 0.04723004996776581], [-0.46072426438331604, 0.2481825053691864], [-0.1281926929950714, -0.07243871688842773], [-0.42986419796943665, 0.20894020795822144], [-0.13265389204025269, -0.05330919101834297], [0.2070251852273941, -0.34269893169403076], [-0.4421251118183136, 0.19705109298229218], [0.19654278457164764, -0.26636406779289246], [-0.3817000687122345, 0.25993189215660095], [0.2696588337421417, -0.48714178800582886], [-0.4051048159599304, 0.1396896094083786], [-0.5557178258895874, 0.32893550395965576], [0.20694780349731445, -0.3655542731285095], [-0.64703768491745, 0.41915014386177063], [0.042268551886081696, -0.1513081043958664], [-0.3560205399990082, 0.18287290632724762], [-0.3012806475162506, 0.08785047382116318], [-0.5132589936256409, 0.29832398891448975], [0.1231267973780632, -0.25023990869522095], [0.504820704460144, -0.3980684280395508], [-0.39976766705513, 0.32177260518074036], [-0.5798583626747131, 0.27394184470176697]], [[-0.34780046343803406, 0.22011692821979523], [-0.3677468001842499, 0.20412491261959076], [0.19883602857589722, -0.23654913902282715], [-0.541995644569397, 0.22592365741729736], [-0.39112624526023865, 0.34319257736206055], [-0.4167957007884979, 0.22820405662059784], [-0.6934555172920227, 0.5112320184707642], [-0.7154509425163269, 0.4821893572807312], [-0.34445884823799133, 0.12788064777851105], [-0.33620646595954895, 0.2522200047969818], [-0.5624051690101624, 0.24196526408195496], [-0.5196371078491211, 0.22988632321357727], [0.1964302659034729, -0.3399827182292938], [-0.20085568726062775, -0.03296703100204468], [-0.5314952731132507, 0.33692666888237], [-0.3442056477069855, 0.09769956022500992], [-0.05908796191215515, -0.052663981914520264], [-0.39527201652526855, 0.12414173781871796], [-0.6875233054161072, 0.5038239359855652], [-0.5719642043113708, 0.37412500381469727], [-0.10825612396001816, -0.06101995334029198], [-0.33487066626548767, 0.2233552783727646], [-0.3659513294696808, 0.17226703464984894], [-0.3646889626979828, 0.20489230751991272], [-0.5338032841682434, 0.32582417130470276], [-0.6714426279067993, 0.49199366569519043], [0.3402979075908661, -0.300855815410614], [-0.39826762676239014, 0.25339552760124207], [-0.7688368558883667, 0.5053046345710754], [-0.2571439743041992, 0.08589590340852737], [-0.14499466121196747, -0.013178522698581219], [-0.48395201563835144, 0.3018660247325897]], [[-0.2655007243156433, 0.13638947904109955], [-0.3200298845767975, 0.1952204555273056], [0.41472312808036804, -0.37393060326576233], [-0.22790972888469696, 0.1700838953256607], [-0.0009563646162860096, -0.13321000337600708], [0.2882924973964691, -0.278338760137558], [0.2854395806789398, -0.18338222801685333], [-0.08524789661169052, 0.05468880012631416], [-0.5656090974807739, 0.3588098883628845], [-0.5163461565971375, 0.3700081408023834], [-0.8220831751823425, 0.5014761090278625], [-0.20122909545898438, 0.020920146256685257], [0.10398732870817184, -0.20864082872867584], [-0.5167438983917236, 0.3566391170024872], [0.08790688961744308, -0.27003970742225647], [-0.5004926323890686, 0.36131900548934937], [-0.4136769473552704, 0.2700253427028656], [0.2094884067773819, -0.40217337012290955], [0.0637512281537056, -0.16882091760635376], [-0.14457257091999054, 0.0011784814996644855], [0.1373537927865982, -0.17663948237895966], [-0.5109503269195557, 0.3113615810871124], [0.3256644010543823, -0.36762821674346924], [0.4536636471748352, -0.39414098858833313], [0.07917582988739014, -0.17099927365779877], [-0.5710139870643616, 0.34240880608558655], [-0.054353028535842896, -0.11980634927749634], [-0.3799377381801605, 0.1911725103855133], [0.26262807846069336, -0.39826613664627075], [-0.743487536907196, 0.5012943744659424], [-0.6963196396827698, 0.4606342613697052], [0.3064129054546356, -0.3394303321838379]], [[-0.41881904006004333, 0.25880640745162964], [-0.44478046894073486, 0.2493545264005661], [0.46995359659194946, -0.42660781741142273], [-0.2966115176677704, 0.27187877893447876], [-0.5235739350318909, 0.40069180727005005], [-0.19360926747322083, -0.06156836822628975], [-0.6293935179710388, 0.44210001826286316], [0.19389817118644714, -0.34944215416908264], [-0.7585474252700806, 0.4467415511608124], [-0.1441396176815033, -0.034495022147893906], [-0.3649306297302246, 0.2091621607542038], [0.10902472585439682, -0.23584142327308655], [-0.41324737668037415, 0.2867327332496643], [0.22892487049102783, -0.4039895534515381], [-0.5286704897880554, 0.2781095504760742], [-0.7309175729751587, 0.5206655859947205], [0.19390027225017548, -0.15240319073200226], [-0.4872083067893982, 0.33711686730384827], [0.1755618304014206, -0.281015008687973], [-0.4607924520969391, 0.2901948094367981], [-0.13317300379276276, -0.07045115530490875], [-0.347145140171051, 0.10554641485214233], [0.2518712282180786, -0.27353841066360474], [0.020429741591215134, -0.13158094882965088], [-0.28768399357795715, 0.22130219638347626], [-0.20596370100975037, 0.10331690311431885], [-0.14836876094341278, -0.09463965892791748], [-0.43722161650657654, 0.2363101691007614], [-0.21950016915798187, 0.1786917746067047], [0.17734278738498688, -0.36189427971839905], [-0.07167597115039825, -0.12853741645812988], [-0.43537187576293945, 0.18617762625217438]], [[-0.6780670285224915, 0.4724561870098114], [-0.6099480986595154, 0.39807403087615967], [-0.24705813825130463, 0.12246762961149216], [-0.35398492217063904, 0.18509171903133392], [-0.5293447375297546, 0.37556710839271545], [-0.3971865475177765, 0.2208966314792633], [0.27879565954208374, -0.2602989971637726], [-0.36112532019615173, 0.3397041857242584], [-0.11814191192388535, 0.02086557075381279], [0.25652116537094116, -0.29528266191482544], [-0.3045530617237091, 0.2354813665151596], [-0.46726250648498535, 0.3089456558227539], [-0.44601523876190186, 0.3997463285923004], [-0.37689030170440674, 0.26004284620285034], [-0.31370407342910767, 0.20908963680267334], [-0.5169476866722107, 0.3034469485282898], [-0.244166299700737, -0.01264213677495718], [-0.3399858772754669, 0.23734150826931], [-0.4497382938861847, 0.2675272226333618], [-0.3929049074649811, 0.17435956001281738], [-0.27342671155929565, 0.05912454053759575], [-0.5013416409492493, 0.258366197347641], [0.4953234791755676, -0.46360692381858826], [0.19346041977405548, -0.3180104196071625], [0.3464186489582062, -0.3293079435825348], [-0.1258314996957779, -0.14158570766448975], [-0.35229256749153137, 0.22625257074832916], [0.06232643872499466, -0.1482446938753128], [-0.004959248472005129, -0.10256725549697876], [0.023779816925525665, -0.18761400878429413], [-0.05606956034898758, -0.09739106893539429], [0.004469550680369139, -0.12435691058635712]], [[0.1679675579071045, -0.2629108726978302], [-0.10330033302307129, -0.0592094324529171], [-0.08453269302845001, -0.12102263420820236], [-0.5881814360618591, 0.3153165876865387], [-0.0421634167432785, -0.1378290355205536], [-0.29155734181404114, 0.1330329030752182], [-0.07529408484697342, -0.11691083759069443], [-0.29626956582069397, 0.12313497811555862], [0.06887669861316681, -0.1426856964826584], [-0.2438456267118454, 0.11238949000835419], [-0.1384633630514145, -0.11269271373748779], [-0.4884661138057709, 0.3037794530391693], [-0.30333489179611206, 0.14621607959270477], [-0.3025453984737396, 0.11048094928264618], [-0.3048858642578125, 0.15314419567584991], [-0.061176612973213196, -0.05611618235707283], [-0.38390910625457764, 0.17947956919670105], [-0.042128533124923706, -0.10890024155378342], [-0.5784721970558167, 0.33551886677742004], [-0.2023305892944336, 0.0809047520160675], [0.17764030396938324, -0.36124879121780396], [-0.5911183953285217, 0.48082345724105835], [0.27401676774024963, -0.36705830693244934], [-0.030094929039478302, -0.11549340188503265], [0.32274940609931946, -0.4194759428501129], [-0.31236904859542847, 0.1557598114013672], [-0.22623443603515625, 0.11455924808979034], [0.35728317499160767, -0.38952088356018066], [-0.06324078142642975, -0.0783277302980423], [-0.08033312857151031, -0.0213148295879364], [-0.08557295054197311, 0.0057380469515919685], [-0.37045231461524963, 0.16749507188796997]], [[-0.5722806453704834, 0.3923036754131317], [0.11766951531171799, -0.26937803626060486], [-0.18630361557006836, 0.03359926864504814], [-0.6129876375198364, 0.46359583735466003], [0.1414075642824173, -0.14684508740901947], [-0.12947994470596313, -0.10797005891799927], [-0.10013563930988312, -0.15527239441871643], [-0.2030194252729416, 0.029686693102121353], [-0.12867771089076996, -0.04490276426076889], [-0.21137619018554688, 0.02628285065293312], [-0.6158831715583801, 0.374416321516037], [-0.37444379925727844, 0.2653839886188507], [-0.027675949037075043, -0.16826744377613068], [0.17925599217414856, -0.3315678536891937], [-0.6893150210380554, 0.4516674876213074], [-0.26089954376220703, 0.12354964017868042], [0.2964664697647095, -0.3944760859012604], [-0.6051685810089111, 0.4002952575683594], [0.15514744818210602, -0.2962970435619354], [-0.6525469422340393, 0.4518047571182251], [-0.26310816407203674, 0.06585150957107544], [-0.47483301162719727, 0.3749849498271942], [0.005032412242144346, -0.17860476672649384], [-0.4546169340610504, 0.34556788206100464], [0.1757233440876007, -0.3179134428501129], [0.3064752519130707, -0.38549482822418213], [-0.5305335521697998, 0.3033994436264038], [-0.0632191076874733, -0.1434701830148697], [-0.4111182391643524, 0.16474208235740662], [-0.24197755753993988, 0.0033799977973103523], [-0.4236659109592438, 0.2955560088157654], [-0.5335972905158997, 0.4714186489582062]], [[0.25726792216300964, -0.3186197876930237], [-0.2589513957500458, 0.1188732385635376], [-0.21909750998020172, 0.08241783082485199], [0.10662130266427994, -0.2576006352901459], [-0.17153529822826385, -0.006599227897822857], [-0.5214059948921204, 0.42130589485168457], [-0.307760089635849, 0.19130410254001617], [-0.472383588552475, 0.34479257464408875], [-0.32537463307380676, 0.10804703086614609], [-0.6144677400588989, 0.37647175788879395], [0.07936585694551468, -0.21193073689937592], [-0.6105509400367737, 0.4034493565559387], [0.3507494032382965, -0.37199848890304565], [-0.4672565460205078, 0.21755729615688324], [-0.1487261801958084, -0.06111570820212364], [-0.5242202281951904, 0.2705710530281067], [-0.1432327926158905, 0.028806675225496292], [-0.39227285981178284, 0.21757318079471588], [-0.22654567658901215, 0.045721929520368576], [-0.4851652681827545, 0.23344101011753082], [-0.37816017866134644, 0.2213904708623886], [-0.5273074507713318, 0.326526015996933], [-0.042031049728393555, -0.07245393097400665], [0.507554292678833, -0.3859866261482239], [-0.1410789042711258, 0.06066276505589485], [0.47540467977523804, -0.44525346159935], [-0.1483464241027832, -0.05628368631005287], [-0.07327970117330551, -0.10590521991252899], [-0.5039408802986145, 0.43176499009132385], [-0.25022992491722107, 0.04274968430399895], [0.21589259803295135, -0.34326669573783875], [-0.33602175116539, 0.08058656007051468]], [[-0.17560748755931854, 0.003615652211010456], [-0.4095841348171234, 0.3334830105304718], [-0.44772276282310486, 0.2326822131872177], [-0.03058001399040222, -0.08692526817321777], [-0.17453639209270477, 0.06074880436062813], [0.5099937915802002, -0.4186301529407501], [0.452568918466568, -0.4325573444366455], [0.2604263722896576, -0.3374300003051758], [0.04610781371593475, -0.18622447550296783], [-0.24151311814785004, 0.23751959204673767], [-0.4643717408180237, 0.35101208090782166], [-0.6414645910263062, 0.4774338901042938], [-0.6012840867042542, 0.421842098236084], [-0.32471200823783875, 0.09417383372783661], [-0.43988820910453796, 0.23896630108356476], [-0.07079204171895981, -0.08270455151796341], [-0.3379570543766022, 0.14120614528656006], [-0.6159400343894958, 0.37108027935028076], [-0.49414896965026855, 0.29973259568214417], [-0.45949670672416687, 0.25811508297920227], [-0.6564043760299683, 0.550596296787262], [0.06507281213998795, -0.12479952722787857], [-0.5575445890426636, 0.34907883405685425], [-0.6372429132461548, 0.42373132705688477], [-0.7167168259620667, 0.46732932329177856], [-0.4322299659252167, 0.27668508887290955], [0.2516276240348816, -0.306349515914917], [-0.2320217341184616, 0.08612584322690964], [-0.5877269506454468, 0.396282434463501], [-0.6158451437950134, 0.4118642508983612], [-0.3420009911060333, 0.17684955894947052], [-0.48350390791893005, 0.2934006452560425]], [[-0.3337479829788208, 0.15188898146152496], [-0.39853546023368835, 0.18392664194107056], [-0.32232117652893066, 0.1749463677406311], [-0.3661647140979767, 0.17158450186252594], [-0.27616602182388306, 0.1554216891527176], [-0.48328396677970886, 0.3393799066543579], [-0.013371923007071018, -0.18444453179836273], [-0.34831640124320984, 0.173344686627388], [-0.4521509110927582, 0.19577737152576447], [-0.7145559191703796, 0.5034723281860352], [-0.511868417263031, 0.365223228931427], [-0.731530487537384, 0.5401327013969421], [-0.5220921635627747, 0.31500259041786194], [0.05293910950422287, -0.27650222182273865], [-0.16226327419281006, -0.1317572146654129], [-0.34217581152915955, 0.14139284193515778], [-0.1648441106081009, 0.018073346465826035], [-0.5012143850326538, 0.30650049448013306], [0.061203598976135254, -0.1567123383283615], [-0.2920970022678375, 0.10076311230659485], [-0.4939593970775604, 0.4000171720981598], [-0.19591249525547028, -0.011656775139272213], [-0.2027459740638733, 0.12443907558917999], [-0.2986755967140198, 0.20206251740455627], [0.006603762041777372, -0.19123564660549164], [-0.037760429084300995, -0.12360839545726776], [-0.2105225920677185, 0.018725264817476273], [-0.7170360684394836, 0.488089919090271], [-0.3386024534702301, 0.2339295893907547], [-0.4505053460597992, 0.32044145464897156], [-0.5241310000419617, 0.3972215950489044], [-0.22551919519901276, -0.0036348579451441765]], [[-0.011781991459429264, -0.21995909512043], [-0.24824140965938568, 0.07375378161668777], [-0.252079576253891, 0.08789880573749542], [-0.7235984802246094, 0.5287808775901794], [-0.33925822377204895, 0.23224686086177826], [0.0035225071478635073, -0.10601675510406494], [-0.0834491029381752, 0.02336888015270233], [0.2533565163612366, -0.341496080160141], [0.31595027446746826, -0.36044633388519287], [-0.057420410215854645, -0.12478433549404144], [-0.23619870841503143, 0.18031103909015656], [-0.3135915696620941, 0.09028288722038269], [-0.7142474055290222, 0.5121028423309326], [-0.5820677280426025, 0.42351657152175903], [-0.4392242133617401, 0.19541437923908234], [-0.03186018764972687, -0.11127526313066483], [-0.4477809965610504, 0.2944839298725128], [0.18209998309612274, -0.21538163721561432], [-0.13546223938465118, -0.054860152304172516], [0.1961122304201126, -0.3194253444671631], [-0.5075265765190125, 0.2873349189758301], [0.027166247367858887, -0.1604885309934616], [-0.13176767528057098, -0.028563950210809708], [-0.2889305055141449, 0.16340211033821106], [0.08712431788444519, -0.05681149289011955], [-0.3743084967136383, 0.2850463390350342], [-0.33807966113090515, 0.26524728536605835], [0.08193529397249222, -0.2852019965648651], [-0.046843044459819794, -0.010631713084876537], [-0.03652326017618179, -0.04213422164320946], [-0.1806446611881256, -0.013242515735328197], [-0.4528129994869232, 0.22911374270915985]], [[0.0580255463719368, -0.21053284406661987], [-0.08506011962890625, -0.11128376424312592], [0.20325873792171478, -0.2708967328071594], [-0.35067906975746155, 0.15447501838207245], [-0.44977056980133057, 0.27952075004577637], [-0.3668402433395386, 0.20208358764648438], [-0.24220994114875793, 0.0526142455637455], [-0.4525739848613739, 0.24933530390262604], [-0.5911020636558533, 0.35935962200164795], [-0.33358636498451233, 0.21419976651668549], [-0.08941274881362915, -0.01776723563671112], [-0.26894843578338623, 0.1449584811925888], [0.20425185561180115, -0.267518013715744], [-0.5511220097541809, 0.47821101546287537], [-0.5339104533195496, 0.470660001039505], [-0.22820138931274414, 0.2023189663887024], [-0.6724217534065247, 0.43070539832115173], [-0.0004898614133708179, -0.25382199883461], [-0.41465839743614197, 0.1257309764623642], [-0.3130171597003937, 0.22167976200580597], [-0.26792821288108826, 0.16567575931549072], [-0.41965222358703613, 0.22854028642177582], [-0.09401890635490417, -0.09398072212934494], [-0.5397928357124329, 0.39554086327552795], [-0.4146326780319214, 0.2570207715034485], [0.4158187508583069, -0.47722679376602173], [-0.34952956438064575, 0.1664627194404602], [0.3016932010650635, -0.3143000602722168], [-0.6600024700164795, 0.5501375794410706], [-0.6625500321388245, 0.5277036428451538], [0.27692392468452454, -0.38784897327423096], [-0.6204413771629333, 0.38159239292144775]], [[-0.4549282491207123, 0.3020365536212921], [-0.14327208697795868, -0.08172166347503662], [-0.563685953617096, 0.33128637075424194], [-0.33524489402770996, 0.25346919894218445], [-0.5312853455543518, 0.36576950550079346], [-0.12469940632581711, -0.11578824371099472], [-0.1353895515203476, -0.07388599216938019], [-0.546756386756897, 0.39812812209129333], [-0.6154026389122009, 0.41158774495124817], [-0.12064488232135773, 0.11157514899969101], [-0.3977547585964203, 0.2906235456466675], [0.17810998857021332, -0.2620684802532196], [0.41414716839790344, -0.32952848076820374], [-0.013730728067457676, -0.08132045716047287], [-0.09544882923364639, -0.07282966375350952], [-0.6672244668006897, 0.43388575315475464], [-0.4501722753047943, 0.3052721321582794], [-0.0885150283575058, -0.02313002571463585], [-0.5083639621734619, 0.2832131087779999], [0.0420086607336998, -0.1443486213684082], [-0.5476295351982117, 0.44878557324409485], [-0.10708770155906677, -0.09927063435316086], [-0.25622567534446716, 0.05749388039112091], [-0.2545958161354065, 0.09428000450134277], [-0.24079476296901703, 0.03199481591582298], [-0.01886884868144989, -0.13803690671920776], [0.0373268723487854, -0.1919788420200348], [-0.15635491907596588, 0.09803687781095505], [-0.5211084485054016, 0.3239165246486664], [0.08654007315635681, -0.2599293887615204], [-0.20259086787700653, 0.052254967391490936], [-0.6443096399307251, 0.4532555341720581]], [[-0.17985813319683075, 0.025528132915496826], [0.47031375765800476, -0.4300209581851959], [-0.18263132870197296, 0.09177321940660477], [-0.5076379179954529, 0.3824325501918793], [0.021200042217969894, -0.1142345517873764], [-0.3136223256587982, 0.12230389565229416], [-0.43263378739356995, 0.3645939528942108], [0.23815524578094482, -0.36353206634521484], [-0.47724807262420654, 0.2963462471961975], [-0.16868877410888672, 0.08774754405021667], [-0.39217445254325867, 0.2873191833496094], [-0.006885096896439791, -0.06953981518745422], [-0.08868484944105148, 0.030020345002412796], [0.04358449578285217, -0.13898144662380219], [-0.13822174072265625, -0.09792627394199371], [-0.4531334936618805, 0.16189055144786835], [-0.45720627903938293, 0.2733113169670105], [-0.5337688326835632, 0.4122960567474365], [-0.45427703857421875, 0.18711444735527039], [0.012974104844033718, -0.12255591154098511], [-0.47664907574653625, 0.2749556601047516], [-0.5826972126960754, 0.4022959768772125], [-0.00469052093103528, -0.1202869787812233], [-0.2300557792186737, 0.09156613796949387], [-0.13513250648975372, 0.04223644360899925], [-0.5598697066307068, 0.39890632033348083], [0.17926619946956635, -0.2366700917482376], [-0.4089498221874237, 0.33576449751853943], [0.33174967765808105, -0.35798391699790955], [-0.042008176445961, -0.1294335126876831], [0.36433443427085876, -0.385077565908432], [-0.06735623627901077, -0.14367470145225525]], [[-0.0061631579883396626, -0.22459504008293152], [-0.4562157094478607, 0.2823418080806732], [-0.2070695459842682, -0.04026736319065094], [-0.30636438727378845, 0.1666877269744873], [-0.515984833240509, 0.41939666867256165], [-0.4272148907184601, 0.2739133834838867], [-0.6820512413978577, 0.5090982913970947], [0.008705771528184414, -0.24075108766555786], [0.1078016459941864, -0.267848938703537], [-0.5878519415855408, 0.3452822268009186], [-0.6335790753364563, 0.46762576699256897], [-0.7531039118766785, 0.5147705674171448], [-0.4411952793598175, 0.20967623591423035], [-0.49061477184295654, 0.2493308037519455], [-0.06202230602502823, -0.09497888386249542], [0.3390522301197052, -0.4526927173137665], [0.48200106620788574, -0.40994420647621155], [-0.040091805160045624, -0.049809545278549194], [0.05131186172366142, -0.1586618423461914], [-0.017357520759105682, -0.21545062959194183], [-0.045829370617866516, -0.11492124199867249], [0.23943141102790833, -0.2549233138561249], [-0.2550864517688751, 0.09520472586154938], [-0.5231369733810425, 0.35587385296821594], [-0.7902866005897522, 0.5876472592353821], [-0.5051404237747192, 0.3264954388141632], [-0.0917331650853157, -0.04949631914496422], [-0.747053325176239, 0.5207797884941101], [0.3984823524951935, -0.4218195974826813], [-0.787214457988739, 0.6079846620559692], [-0.4970252215862274, 0.2649138867855072], [0.4041287302970886, -0.4233543872833252]], [[-0.13986517488956451, 0.054748550057411194], [-0.30539101362228394, 0.2227710336446762], [-0.14784382283687592, -0.05685267969965935], [0.3446600139141083, -0.37043729424476624], [-0.564670979976654, 0.33731287717819214], [-0.014859327115118504, -0.053115323185920715], [-0.33367910981178284, 0.10673712939023972], [-0.45923641324043274, 0.36386796832084656], [-0.5208696126937866, 0.32959771156311035], [-0.7389816641807556, 0.5604792833328247], [-0.4114510715007782, 0.2720837891101837], [0.5333951115608215, -0.39513376355171204], [-0.6375768780708313, 0.3763096034526825], [-0.7479769587516785, 0.49678894877433777], [0.2861384153366089, -0.26517224311828613], [0.4127330482006073, -0.44523152709007263], [0.12007226794958115, -0.19852672517299652], [-0.7832469344139099, 0.4033529460430145], [-0.28846848011016846, 0.16829229891300201], [-0.6407142281532288, 0.4129992425441742], [-0.01718880981206894, -0.16847576200962067], [-0.7284610867500305, 0.4546203911304474], [-0.6139948964118958, 0.39187321066856384], [0.14329497516155243, -0.286144882440567], [-0.7619543075561523, 0.5003083348274231], [0.19019480049610138, -0.3239618241786957], [0.43469536304473877, -0.3366391956806183], [-0.07072028517723083, -0.09532726556062698], [-0.7336700558662415, 0.6356223225593567], [-0.015813447535037994, -0.12003784626722336], [-0.4510853588581085, 0.23871979117393494], [-0.47527047991752625, 0.31180858612060547]], [[-0.17588087916374207, -0.07067691534757614], [-0.351616770029068, 0.13932892680168152], [-0.11847614496946335, 0.0028118612244725227], [0.38354066014289856, -0.3985083997249603], [0.38529086112976074, -0.4026435315608978], [0.16182683408260345, -0.3012528717517853], [-0.2816566526889801, 0.04172857478260994], [-0.23303335905075073, 0.0029612230136990547], [-0.16653726994991302, -0.06579625606536865], [0.21454358100891113, -0.31633520126342773], [0.24680577218532562, -0.35116103291511536], [0.22921204566955566, -0.2740611732006073], [0.09161639958620071, -0.21124251186847687], [0.12495247274637222, -0.16586704552173615], [-0.016945362091064453, -0.1739719659090042], [0.39829325675964355, -0.26718559861183167], [-0.3620053231716156, 0.1645422726869583], [-0.7303927540779114, 0.5183965563774109], [-0.7380128502845764, 0.5541841983795166], [-0.6499156355857849, 0.4442311227321625], [0.4134220480918884, -0.34463369846343994], [-0.22449065744876862, -0.03104439750313759], [-0.03134451061487198, 0.012074959464371204], [0.3226383626461029, -0.35808202624320984], [0.11272002011537552, -0.146026149392128], [-0.5121873617172241, 0.2926502823829651], [-0.8162307739257812, 0.5320218205451965], [-0.3732132315635681, 0.28358161449432373], [-0.5399042963981628, 0.357072651386261], [0.48354944586753845, -0.4224967062473297], [0.42655614018440247, -0.3805238604545593], [-0.6501304507255554, 0.36280715465545654]], [[-0.32601168751716614, 0.0985327735543251], [-0.5699130892753601, 0.29673996567726135], [-0.3566229045391083, 0.16020314395427704], [0.2212718427181244, -0.2694651186466217], [0.4515831768512726, -0.4378678500652313], [-0.6899542808532715, 0.43416517972946167], [-0.4925810992717743, 0.34150972962379456], [-0.6704033017158508, 0.4801248610019684], [-0.7059366106987, 0.4354081451892853], [-0.5667021870613098, 0.355851948261261], [0.4637790620326996, -0.3880791962146759], [-0.5268071889877319, 0.24366511404514313], [-0.6412344574928284, 0.3896157443523407], [-0.06903885304927826, -0.07944245636463165], [-0.43897339701652527, 0.2951888144016266], [-0.07354862987995148, -0.16093353927135468], [-0.37080976366996765, 0.274101197719574], [-0.2215530127286911, 0.011752963997423649], [-0.41810667514801025, 0.16870486736297607], [-0.7849486470222473, 0.601933479309082], [-0.01387785468250513, -0.159277081489563], [0.19375760853290558, -0.3332977890968323], [-0.5492938160896301, 0.3754424750804901], [-0.6391550302505493, 0.4501657485961914], [-0.3393709361553192, 0.20360194146633148], [-0.3164334297180176, 0.12348455935716629], [-0.34852591156959534, 0.1717306226491928], [-0.42766961455345154, 0.2871454656124115], [-0.7274593114852905, 0.43667036294937134], [0.39744919538497925, -0.40691235661506653], [-0.331074982881546, 0.17316114902496338], [0.04063233360648155, -0.15221962332725525]], [[0.28746873140335083, -0.3552285134792328], [-0.2567574977874756, 0.031972724944353104], [-0.4128548800945282, 0.23944906890392303], [0.02082456648349762, -0.18577086925506592], [0.2915988266468048, -0.38216206431388855], [-0.6763275861740112, 0.375288724899292], [-0.41651418805122375, 0.10875151306390762], [-0.7764318585395813, 0.5070613026618958], [-0.15183566510677338, 0.038846198469400406], [-0.4503494203090668, 0.2588248550891876], [0.4328216016292572, -0.22088289260864258], [-0.17055940628051758, 0.15664584934711456], [0.1435033679008484, -0.16770616173744202], [-0.5284633040428162, 0.31905457377433777], [-0.020022332668304443, -0.25516456365585327], [-0.5167663097381592, 0.18739600479602814], [-0.19963841140270233, 0.0371672697365284], [0.22192247211933136, -0.2980942726135254], [-0.1705733686685562, 0.1510770171880722], [0.3887431025505066, -0.3438597321510315], [-0.06844273209571838, -0.07774070650339127], [-0.7588481307029724, 0.4631577432155609], [0.27948158979415894, -0.3082750141620636], [0.15222544968128204, -0.22232043743133545], [-0.1183544173836708, 0.02586408331990242], [-0.43281078338623047, 0.19586437940597534], [-0.013500065542757511, -0.1302097886800766], [-0.16630275547504425, 0.008835536427795887], [0.019842296838760376, -0.17370553314685822], [-0.20962698757648468, -0.040990281850099564], [-0.33345869183540344, 0.22003847360610962], [0.33847472071647644, -0.3650609850883484]], [[-0.31004786491394043, 0.23492839932441711], [-0.08541613072156906, 0.06712964177131653], [-0.5587145686149597, 0.3290776312351227], [-0.5853317379951477, 0.3752497136592865], [-0.7773585915565491, 0.553230881690979], [-0.05839896202087402, -0.18579107522964478], [0.08912786096334457, -0.21759672462940216], [-0.07023049890995026, -0.054592814296483994], [-0.3257768750190735, 0.1856544017791748], [0.3093738853931427, -0.4377686083316803], [-0.5034889578819275, 0.32257142663002014], [0.19753555953502655, -0.33102455735206604], [0.21556074917316437, -0.2824566066265106], [0.22170667350292206, -0.26987800002098083], [-0.3511008322238922, 0.21142072975635529], [-0.4279305636882782, 0.2171207070350647], [-0.5549418330192566, 0.34682467579841614], [-0.07017455250024796, -0.11932915449142456], [-0.3468826115131378, 0.1713189333677292], [-0.3773021697998047, 0.3083685040473938], [0.07026220113039017, -0.26521220803260803], [0.3764495849609375, -0.29416823387145996], [-0.5421915650367737, 0.2819932699203491], [-0.2375672161579132, 0.08176072686910629], [-0.27546536922454834, 0.12489911913871765], [-0.6392887830734253, 0.4332870543003082], [-0.3061871826648712, 0.16578848659992218], [-0.7083204388618469, 0.45384398102760315], [-0.37117430567741394, 0.22125190496444702], [-0.6345106363296509, 0.4379449188709259], [0.1470741480588913, -0.3675530254840851], [-0.6496394276618958, 0.36590173840522766]], [[-0.06053994596004486, -0.08324740827083588], [0.04306108504533768, -0.18312160670757294], [0.24250997602939606, -0.24352888762950897], [-0.5226144194602966, 0.365479439496994], [-0.5621935725212097, 0.3586927652359009], [-0.41033801436424255, 0.25274279713630676], [-0.3294288218021393, 0.18066035211086273], [-0.48307374119758606, 0.2756371796131134], [0.23789887130260468, -0.4052387773990631], [0.20050941407680511, -0.2129639834165573], [0.23847635090351105, -0.25762948393821716], [-0.7596120238304138, 0.5449233055114746], [-0.624672532081604, 0.4096737802028656], [-0.1736261248588562, 0.11005345731973648], [-0.4460304379463196, 0.261920303106308], [-0.4704305827617645, 0.4157940447330475], [-0.5519059896469116, 0.3455583155155182], [0.48878803849220276, -0.45786553621292114], [-0.12588870525360107, -0.03941281512379646], [-0.6941421627998352, 0.4863802492618561], [-0.06059496849775314, 0.0019361794693395495], [-0.6171371340751648, 0.4472847282886505], [0.3200629651546478, -0.38624417781829834], [-0.7570840716362, 0.48841583728790283], [-0.03316422551870346, -0.09855099767446518], [-0.4702288508415222, 0.3728107810020447], [-0.6042339205741882, 0.4132993221282959], [-0.4176328480243683, 0.3751067817211151], [-0.29698818922042847, 0.1460597813129425], [-0.24326550960540771, 0.03485169634222984], [0.23270036280155182, -0.21266837418079376], [-0.8256049752235413, 0.6618382334709167]], [[-0.0069298823364079, -0.1601870208978653], [0.1095806285738945, -0.16737860441207886], [-0.7671384215354919, 0.42219844460487366], [0.3246106803417206, -0.2914920747280121], [-0.35432693362236023, 0.18481560051441193], [-0.2290603369474411, 0.06792975962162018], [-0.4216337502002716, 0.2548290491104126], [-0.16249634325504303, -0.017051048576831818], [-0.5501304268836975, 0.3211537003517151], [-0.6585400104522705, 0.481114000082016], [-0.06190001219511032, -0.08708512783050537], [0.10157623887062073, -0.25427693128585815], [0.029119588434696198, -0.2399781048297882], [0.11005080491304398, -0.18524296581745148], [0.31000006198883057, -0.35389745235443115], [-0.8009670972824097, 0.5381495356559753], [0.06880407780408859, -0.16423197090625763], [-0.7717346549034119, 0.5524753928184509], [-0.3209705650806427, 0.115167036652565], [0.2119186669588089, -0.21117664873600006], [0.4207150638103485, -0.4204999506473541], [-0.2945224940776825, 0.12632443010807037], [-0.6568372845649719, 0.4631689786911011], [-0.7575340270996094, 0.5664095878601074], [0.17333941161632538, -0.25884515047073364], [-0.04800476133823395, -0.037142250686883926], [-0.7115640044212341, 0.5569118857383728], [0.3715464174747467, -0.33694905042648315], [0.16012457013130188, -0.2319052368402481], [0.4578993618488312, -0.39791998267173767], [0.4483889043331146, -0.4475351870059967], [0.05930061638355255, -0.16143828630447388]], [[-0.20127011835575104, 0.04781530424952507], [-0.3214290738105774, 0.0744924545288086], [-0.15607918798923492, 0.0018982411129400134], [-0.30957451462745667, 0.09185504168272018], [0.049187399446964264, -0.07375455647706985], [-0.5863886475563049, 0.4506804645061493], [-0.42281195521354675, 0.17911352217197418], [-0.2255222052335739, 0.12321419268846512], [-0.6931819915771484, 0.431867390871048], [-0.41403928399086, 0.22846321761608124], [-0.042416416108608246, -0.11864268779754639], [0.16879525780677795, -0.307274729013443], [-0.350479394197464, 0.1885392814874649], [0.48666268587112427, -0.4881236255168915], [0.13714511692523956, -0.29789838194847107], [-0.16607145965099335, -0.005852553062140942], [0.44738683104515076, -0.4360441565513611], [-0.8095605373382568, 0.5667171478271484], [0.3135262131690979, -0.3082519471645355], [0.22508947551250458, -0.3790779709815979], [0.22368551790714264, -0.3070542514324188], [0.18607796728610992, -0.2812706530094147], [-0.2829313576221466, 0.08552124351263046], [-0.4575141966342926, 0.3003307282924652], [-0.32630935311317444, 0.15196533501148224], [0.02485586330294609, -0.06771409511566162], [0.34352943301200867, -0.37787359952926636], [-0.3235618770122528, 0.1566074937582016], [0.1291155368089676, -0.2968171536922455], [-0.7579066157341003, 0.5271683931350708], [-0.02600117027759552, -0.058199893683195114], [-0.4309147298336029, 0.22619614005088806]], [[-0.5290011763572693, 0.4108426570892334], [0.4564161002635956, -0.4197472631931305], [-0.33815625309944153, 0.14623995125293732], [0.15069465339183807, -0.22254233062267303], [-0.27295365929603577, 0.046279530972242355], [-0.39524608850479126, 0.18373332917690277], [0.19099760055541992, -0.2510983645915985], [0.43159255385398865, -0.3273189961910248], [0.1563846915960312, -0.23964305222034454], [0.09282230585813522, -0.30504339933395386], [-0.47305721044540405, 0.23227621614933014], [-0.21731925010681152, -0.0048022521659731865], [-0.07079944759607315, -0.16839848458766937], [0.2246735841035843, -0.31996697187423706], [-0.6370285153388977, 0.42187565565109253], [-0.41865062713623047, 0.18452030420303345], [-0.2768336534500122, 0.11738007515668869], [-0.40176236629486084, 0.14035238325595856], [-0.4727930724620819, 0.26904475688934326], [0.21266967058181763, -0.15171797573566437], [0.4262111783027649, -0.41551145911216736], [0.3985675573348999, -0.3891240954399109], [-0.39478451013565063, 0.23873326182365417], [0.03416995704174042, -0.21516047418117523], [-0.27896150946617126, 0.2005624622106552], [0.3054206073284149, -0.23104630410671234], [-0.20749559998512268, -0.009914598427712917], [-0.27260735630989075, 0.3178096115589142], [-0.4380340576171875, 0.2301173061132431], [-0.4119703471660614, 0.18806341290473938], [-0.07361200451850891, -0.11952541023492813], [-0.5868836045265198, 0.33375558257102966]], [[-0.18678928911685944, -0.014196808449923992], [-0.21418370306491852, 0.02469244971871376], [-0.5007643103599548, 0.3840523958206177], [0.20496387779712677, -0.32729974389076233], [-0.16205061972141266, 0.11139697581529617], [0.02707727998495102, -0.04390110448002815], [0.10047343373298645, -0.27367594838142395], [-0.504319429397583, 0.2279481291770935], [-0.5757918357849121, 0.3902595043182373], [0.22362057864665985, -0.27301833033561707], [-0.02641995996236801, -0.08735564351081848], [-0.2419356107711792, 0.15552370250225067], [-0.7469640374183655, 0.48057809472084045], [0.37759459018707275, -0.4170161783695221], [-0.02538168430328369, -0.13681560754776], [0.5514528155326843, -0.3703848421573639], [-0.029664091765880585, -0.0054206280037760735], [0.04369237273931503, -0.232408806681633], [0.32255327701568604, -0.3219930827617645], [-0.051258452236652374, -0.08836203813552856], [-0.46550509333610535, 0.2644151747226715], [0.3427800238132477, -0.31125298142433167], [-0.3343517780303955, 0.06696996837854385], [-0.2588118314743042, 0.16575799882411957], [-0.10548612475395203, -0.03498135507106781], [0.563900351524353, -0.3286770284175873], [-0.3547334372997284, 0.23646588623523712], [-0.41746455430984497, 0.3214742839336395], [0.0772024542093277, -0.2861330509185791], [-0.2855386435985565, 0.10762601345777512], [-0.3357000946998596, 0.23653443157672882], [-0.3047848045825958, 0.10283786803483963]], [[-0.5554748177528381, 0.34409627318382263], [-0.10200891643762589, -0.042773112654685974], [0.041135430335998535, -0.15523909032344818], [-0.20320425927639008, -0.007206629030406475], [0.19964556396007538, -0.3222157657146454], [-0.6642155647277832, 0.3773415982723236], [-0.2628389596939087, 0.15835519134998322], [-0.4972444474697113, 0.2701558768749237], [0.02003706991672516, -0.19725839793682098], [0.17834410071372986, -0.26723554730415344], [-0.2981106638908386, 0.1365894079208374], [-0.5235342383384705, 0.3614027202129364], [-0.08525348454713821, -0.05140237137675285], [-0.14880530536174774, 0.03054226189851761], [0.15973035991191864, -0.3045400083065033], [0.04535996913909912, -0.2871733009815216], [0.5173808932304382, -0.41052839159965515], [0.05055858939886093, -0.1705561727285385], [-0.4999096691608429, 0.33717772364616394], [-0.16054114699363708, 0.0823027715086937], [-0.15422619879245758, 0.1049196869134903], [-0.40879061818122864, 0.1916392594575882], [0.5286012291908264, -0.3908981680870056], [-0.257018119096756, 0.19697527587413788], [-0.025464847683906555, -0.09609608352184296], [-0.08660295605659485, -0.05611266568303108], [-0.5194145441055298, 0.374556303024292], [-0.0441146045923233, -0.14927098155021667], [-0.42866191267967224, 0.26494506001472473], [-0.17031799256801605, -0.00968389492481947], [-0.5480480194091797, 0.4662885367870331], [-0.3907815217971802, 0.15749947726726532]], [[-0.07315570116043091, -0.05605598911643028], [0.15519766509532928, -0.29146549105644226], [-0.03680185228586197, -0.20139069855213165], [-0.6132742762565613, 0.4179854691028595], [-0.49619048833847046, 0.29803651571273804], [0.05101434886455536, -0.22197994589805603], [-0.38973283767700195, 0.12745516002178192], [-0.6502693891525269, 0.3485648036003113], [-0.36227506399154663, 0.19971804320812225], [-0.07264118641614914, 0.029270876199007034], [-0.14367836713790894, 0.10461129248142242], [0.006955988239496946, -0.19406035542488098], [0.1379544734954834, -0.28860196471214294], [-0.4786438047885895, 0.38569071888923645], [0.21009357273578644, -0.24157102406024933], [0.26310884952545166, -0.30517271161079407], [0.12243077903985977, -0.3203536868095398], [-0.00595043646171689, -0.1177278608083725], [-0.3734416663646698, 0.2786344885826111], [0.03913995623588562, -0.04877940192818642], [-0.4133380353450775, 0.3463806211948395], [-0.30774131417274475, 0.1112288311123848], [0.23097313940525055, -0.3770049810409546], [-0.24909457564353943, 0.010269594378769398], [-0.1690090000629425, 0.0028399499133229256], [-0.371037095785141, 0.27167102694511414], [0.31485724449157715, -0.3876756727695465], [-0.13197804987430573, -0.02784818224608898], [-0.6688290238380432, 0.49172475934028625], [0.10316326469182968, -0.15885008871555328], [-0.6415680646896362, 0.5607201457023621], [-0.2919448912143707, 0.01415280718356371]], [[-0.05513571947813034, -0.2149166315793991], [-0.5077716708183289, 0.25787851214408875], [-0.0901140570640564, -0.03268156573176384], [0.3796292543411255, -0.3676256835460663], [-0.4921656548976898, 0.4110458493232727], [-0.5132946372032166, 0.25284263491630554], [0.2143688201904297, -0.3605581223964691], [-0.706355094909668, 0.4550238847732544], [-0.47985899448394775, 0.30084317922592163], [0.15814678370952606, -0.22258764505386353], [0.04015916585922241, -0.27552270889282227], [0.05635813623666763, -0.2995437681674957], [-0.15776914358139038, -0.0683596134185791], [-0.6193479299545288, 0.42253759503364563], [-0.5634071230888367, 0.3156760036945343], [-0.42933711409568787, 0.3785432279109955], [-0.6684535145759583, 0.450704425573349], [-0.7041786313056946, 0.46426281332969666], [-0.532592236995697, 0.26032400131225586], [-0.5346665978431702, 0.33748823404312134], [-0.5533313751220703, 0.3665821850299835], [0.01944417506456375, -0.16336041688919067], [0.15775689482688904, -0.30991071462631226], [-0.07425609976053238, -0.10127422213554382], [-0.7233512997627258, 0.4781356155872345], [-0.4327661097049713, 0.3130955398082733], [-0.5557100176811218, 0.41629913449287415], [-0.40456023812294006, 0.07390391081571579], [-0.3648533821105957, 0.25282835960388184], [-0.4768907129764557, 0.4028873145580292], [0.1181497722864151, 0.03543438762426376], [-0.05138421058654785, -0.07645648717880249]], [[-0.10599920898675919, 0.001957901753485203], [-0.28205299377441406, 0.17153768241405487], [-0.09852174669504166, -0.08647101372480392], [-0.20480039715766907, 0.09817683696746826], [-0.41653427481651306, 0.41091135144233704], [-0.2605455815792084, 0.1221117377281189], [-0.45991525053977966, 0.3042422831058502], [0.2943725287914276, -0.3259165287017822], [-0.696761429309845, 0.4495769143104553], [-0.7573626041412354, 0.5083127617835999], [-0.596653938293457, 0.4233734905719757], [-0.5677560567855835, 0.3776514232158661], [-0.3243609070777893, 0.16999273002147675], [-0.5486927032470703, 0.39738789200782776], [-0.39393743872642517, 0.19723942875862122], [-0.5696427822113037, 0.4035783112049103], [-0.49079257249832153, 0.2916547358036041], [-0.6271176338195801, 0.42575803399086], [-0.4387989044189453, 0.19476447999477386], [-0.32763683795928955, 0.11522088199853897], [0.306456595659256, -0.32494476437568665], [-0.6076521277427673, 0.37219735980033875], [-0.40745216608047485, 0.17221097648143768], [-0.37595778703689575, 0.2467631846666336], [0.5343886613845825, -0.3533969223499298], [-0.28666743636131287, 0.15403296053409576], [-0.5653908848762512, 0.38694170117378235], [0.052808649837970734, -0.140232115983963], [0.08955476433038712, -0.2872786223888397], [0.2009478658437729, -0.3219420611858368], [0.05097249895334244, -0.023513473570346832], [0.13785596191883087, -0.2393939197063446]], [[-0.047880567610263824, -0.05352254584431648], [-0.4647414982318878, 0.3555988073348999], [-0.6818342804908752, 0.431031733751297], [0.3741714060306549, -0.36675602197647095], [0.1266777664422989, -0.16560325026512146], [-0.27523380517959595, 0.15992474555969238], [-0.30354419350624084, 0.11644777655601501], [-0.31921467185020447, 0.154096320271492], [-0.2834484577178955, 0.14282265305519104], [-0.47050952911376953, 0.30487239360809326], [-0.21707144379615784, 0.012201414443552494], [-0.241096630692482, -0.022801905870437622], [-0.7101432681083679, 0.40871718525886536], [0.08402357250452042, -0.2571221888065338], [-0.11793843656778336, -0.10174963623285294], [-0.030758343636989594, -0.10120438784360886], [-0.6207467913627625, 0.3804152011871338], [-0.6726685166358948, 0.4374088943004608], [-0.515062153339386, 0.2746227979660034], [-0.5890634059906006, 0.3668719530105591], [0.16161710023880005, -0.2895224988460541], [-0.6693924069404602, 0.47144702076911926], [-0.49938568472862244, 0.34855392575263977], [-0.7936007380485535, 0.5243785977363586], [-0.3467165231704712, 0.19611971080303192], [0.2130211442708969, -0.2765759825706482], [0.4063621759414673, -0.432961642742157], [-0.6742177605628967, 0.4973582327365875], [0.1063605323433876, -0.2544019818305969], [0.2791842520236969, -0.2862057387828827], [-0.1608315110206604, -0.04207050800323486], [-0.08406084775924683, -0.07273221015930176]], [[-0.3361373841762543, 0.12615172564983368], [0.12093932181596756, -0.35945233702659607], [0.03221049904823303, -0.3116823136806488], [0.07853498309850693, -0.1556330770254135], [0.30182915925979614, -0.36684614419937134], [-0.3845438063144684, 0.12339719384908676], [0.0976732149720192, -0.15909002721309662], [-0.45962536334991455, 0.20784687995910645], [-0.10050195455551147, -0.08345162123441696], [-0.7543185353279114, 0.5567747950553894], [0.27978938817977905, -0.33706769347190857], [-0.011117146350443363, -0.16021941602230072], [0.3017162084579468, -0.34801486134529114], [0.4978187382221222, -0.4013000428676605], [-0.07579076290130615, -0.1073661595582962], [-0.056199103593826294, -0.11388926208019257], [-0.048350200057029724, -0.2078980654478073], [-0.7183248400688171, 0.5556842684745789], [-0.2980664074420929, 0.14359404146671295], [-0.6847514510154724, 0.5146238803863525], [0.2673358619213104, -0.39411577582359314], [-0.35299113392829895, 0.1603352576494217], [-0.21640415489673615, -0.027562249451875687], [0.35916221141815186, -0.441382497549057], [-0.5424341559410095, 0.32989734411239624], [-0.6810793876647949, 0.4424452483654022], [-0.38950231671333313, 0.16606873273849487], [-0.28481197357177734, 0.12292062491178513], [-0.4871615469455719, 0.32094547152519226], [-0.2128346562385559, 0.01362565252929926], [-0.601374089717865, 0.449461430311203], [-0.7036001086235046, 0.42608144879341125]], [[-0.5803301930427551, 0.5078535079956055], [-0.7403602600097656, 0.563551127910614], [0.1768629252910614, -0.2390541285276413], [-0.2011300027370453, 0.030541468411684036], [-0.12659728527069092, -0.07297717779874802], [-0.4161086976528168, 0.2507617175579071], [-0.08752170205116272, -0.03778984770178795], [0.05672682076692581, -0.15726743638515472], [-0.5810884237289429, 0.47898954153060913], [-0.7005254030227661, 0.4928168058395386], [0.2600255608558655, -0.3441825807094574], [-0.7367795705795288, 0.5295971632003784], [0.1422869712114334, -0.25272247195243835], [-0.41554024815559387, 0.2193881720304489], [-0.3413086235523224, 0.1618778556585312], [-0.034906309098005295, -0.10589377582073212], [0.1787639558315277, -0.34466317296028137], [-0.6277614831924438, 0.41313934326171875], [-0.6251383423805237, 0.39801061153411865], [-0.02148006111383438, -0.1382424682378769], [-0.47805851697921753, 0.24233593046665192], [-0.6679669618606567, 0.4762231707572937], [-0.5844115614891052, 0.4195201098918915], [-0.6710880398750305, 0.5001474618911743], [0.184292733669281, -0.25242888927459717], [-0.29198065400123596, 0.1453426629304886], [-0.15763477981090546, -0.025433380156755447], [0.38240954279899597, -0.3390069007873535], [-0.5916768908500671, 0.44994667172431946], [0.21728475391864777, -0.38226553797721863], [0.21759788691997528, -0.37195685505867004], [0.5511641502380371, -0.47100070118904114]], [[-0.08495103567838669, -0.17734746634960175], [-0.38144317269325256, 0.15993233025074005], [0.20840850472450256, -0.3491762578487396], [0.28872400522232056, -0.4003315269947052], [-0.09127313643693924, -0.1182444840669632], [0.15221618115901947, -0.25288814306259155], [0.3106171488761902, -0.45552536845207214], [-0.7179251313209534, 0.40427398681640625], [0.22754566371440887, -0.27667751908302307], [-0.1277051419019699, -0.08653619885444641], [0.2983565628528595, -0.39407452940940857], [-0.4877622425556183, 0.23805983364582062], [-0.3420087397098541, 0.20025454461574554], [-0.668184220790863, 0.4770672023296356], [-0.3120746314525604, 0.12250301241874695], [0.23820975422859192, -0.31500086188316345], [-0.03104519098997116, -0.07954157888889313], [-0.5896672606468201, 0.381803959608078], [-0.7804823517799377, 0.5586696863174438], [0.17605456709861755, -0.24892108142375946], [-0.10204634070396423, 0.06590713560581207], [-0.23103216290473938, 0.213246151804924], [-0.6137843728065491, 0.41993722319602966], [-0.7482241988182068, 0.49224814772605896], [-0.23379212617874146, 0.1505538672208786], [-0.6835761070251465, 0.5000359416007996], [-0.17148368060588837, -0.054633259773254395], [0.5691463947296143, -0.41967132687568665], [-0.6847930550575256, 0.5527905821800232], [0.12751294672489166, -0.17100556194782257], [0.18331606686115265, -0.3574121296405792], [-0.536743700504303, 0.3320561349391937]], [[0.5056005716323853, -0.4060019254684448], [0.19142483174800873, -0.2719169855117798], [-0.2767361104488373, 0.13525165617465973], [0.2672286629676819, -0.4116179049015045], [0.20893548429012299, -0.3191640079021454], [0.2781873643398285, -0.3051971197128296], [-0.7434813976287842, 0.5848096013069153], [-0.39635169506073, 0.24377848207950592], [0.1871480494737625, -0.328980952501297], [-0.6281684637069702, 0.4942983388900757], [0.1824263036251068, -0.3352888822555542], [-0.7974417805671692, 0.5610558986663818], [0.07010728865861893, -0.23834197223186493], [0.25547751784324646, -0.34857210516929626], [0.05097029358148575, -0.20184729993343353], [-0.6777135729789734, 0.4627169668674469], [-0.6136873960494995, 0.4432950019836426], [-0.7101790308952332, 0.47368085384368896], [-0.3929808735847473, 0.2676059603691101], [-0.35806921124458313, 0.2540658414363861], [-0.04168032109737396, -0.09446423500776291], [-0.4949258863925934, 0.23109866678714752], [-0.7621157765388489, 0.5136934518814087], [-0.5667988061904907, 0.34262970089912415], [-0.4731470048427582, 0.2562316954135895], [-0.5143226385116577, 0.2685335874557495], [0.11063092201948166, -0.2979527413845062], [0.5178886651992798, -0.34470850229263306], [-0.7012773156166077, 0.505460262298584], [0.07506795972585678, -0.23347195982933044], [-0.1745264083147049, -0.028400767594575882], [0.3139485716819763, -0.4070502519607544]], [[-0.48705583810806274, 0.28810915350914], [0.22381627559661865, -0.2005268782377243], [-0.5901813507080078, 0.4542366564273834], [0.22641019523143768, -0.41530874371528625], [-0.3362278640270233, 0.19170333445072174], [0.33274370431900024, -0.2254234403371811], [0.334132581949234, -0.3302042782306671], [-0.26542899012565613, -0.03908446058630943], [-0.7598458528518677, 0.4818713366985321], [-0.4013582468032837, 0.18729038536548615], [-0.31101831793785095, 0.12604458630084991], [0.3764585256576538, -0.39087238907814026], [-0.4906330704689026, 0.2444799691438675], [0.42128825187683105, -0.46788474917411804], [-0.039791688323020935, -0.16936273872852325], [0.4175863265991211, -0.4137108623981476], [-0.5205796360969543, 0.37705597281455994], [0.42836982011795044, -0.4259577691555023], [0.23347632586956024, -0.40085047483444214], [-0.17413410544395447, 0.08585044741630554], [-0.4373062252998352, 0.31111404299736023], [-0.5009849071502686, 0.32781559228897095], [-0.7349482774734497, 0.43777093291282654], [-0.5627482533454895, 0.4073878526687622], [0.05697954446077347, -0.1770084947347641], [0.017751134932041168, -0.17375361919403076], [-0.02061498910188675, -0.13912557065486908], [-0.16981343924999237, 0.08519970625638962], [-0.0708080381155014, -0.024210181087255478], [0.2664317786693573, -0.16826070845127106], [0.4184369146823883, -0.29506978392601013], [-0.06917817145586014, 0.0495329387485981]], [[-0.021373189985752106, -0.07392686605453491], [-0.18806564807891846, -0.03236251696944237], [0.25817933678627014, -0.40259382128715515], [-0.7156276106834412, 0.4209175705909729], [-0.2522507607936859, 0.06095770373940468], [0.28681913018226624, -0.3787190914154053], [-0.0961492732167244, 0.04799601808190346], [-0.076840840280056, -0.16682668030261993], [0.015017575584352016, -0.14194154739379883], [-0.44126012921333313, 0.18565493822097778], [-0.5350658297538757, 0.42089101672172546], [-0.7292017340660095, 0.552482545375824], [-0.2839588522911072, 0.15647335350513458], [0.05934176594018936, -0.16202163696289062], [-0.5573382377624512, 0.4540213346481323], [-0.15058128535747528, -0.11563768237829208], [-0.16526176035404205, 0.0478813536465168], [-0.010699317790567875, 0.004100442864000797], [-0.5985089540481567, 0.40237393975257874], [-0.22155149281024933, -0.054745547473430634], [-0.14221644401550293, 0.03048008307814598], [0.0684799998998642, -0.21387888491153717], [-0.6619943976402283, 0.4311316907405853], [0.38887014985084534, -0.42861253023147583], [0.17972587049007416, -0.2546549439430237], [-0.3516499102115631, 0.11548836529254913], [-0.6033161282539368, 0.34319865703582764], [-0.4040174186229706, 0.318416029214859], [0.03353637456893921, -0.08580297231674194], [0.3158302307128906, -0.36527857184410095], [-0.7736876606941223, 0.5073286890983582], [-0.20461587607860565, 0.0789501741528511]], [[-0.6126665472984314, 0.4050719738006592], [-0.5915963053703308, 0.4057683050632477], [-0.6504077315330505, 0.4145158529281616], [-0.15081585943698883, -0.06773464381694794], [-0.35109710693359375, 0.12353463470935822], [-0.4650079309940338, 0.3525378108024597], [-0.18426521122455597, -0.009603473357856274], [-0.0861889198422432, -0.10478685796260834], [-0.22014345228672028, 0.09814249724149704], [0.09941311180591583, -0.24172401428222656], [-0.18295851349830627, -0.060262855142354965], [0.2555321455001831, -0.37336069345474243], [-0.5223256945610046, 0.3166634142398834], [-0.2237587571144104, 0.08993392437696457], [-0.13520286977291107, 0.01176407653838396], [-0.02024349570274353, -0.12552370131015778], [-0.4746547043323517, 0.22871802747249603], [-0.6669880747795105, 0.4107584059238434], [-0.281176894903183, 0.20093287527561188], [0.2832832634449005, -0.377595454454422], [0.004174239467829466, -0.20198780298233032], [-0.586411714553833, 0.34232714772224426], [-0.14611473679542542, -0.06662791967391968], [0.00987809058278799, -0.19332286715507507], [-0.6991539597511292, 0.4893326461315155], [-0.7092252373695374, 0.5193898677825928], [-0.0561390295624733, -0.06971260905265808], [0.3182608187198639, -0.3620709776878357], [-0.13693560659885406, -0.05415596812963486], [0.25971290469169617, -0.3439435660839081], [0.049767546355724335, -0.16029837727546692], [-0.1813545972108841, -0.0005807905690744519]], [[-0.2912992835044861, 0.1374584436416626], [0.06200706213712692, -0.16373701393604279], [-0.4147860109806061, 0.26371511816978455], [-0.45321860909461975, 0.3236370086669922], [-0.47988155484199524, 0.2686783969402313], [-0.07686176151037216, -0.04234271124005318], [-0.5274996161460876, 0.2883518934249878], [0.3597196936607361, -0.38624951243400574], [-0.6918314099311829, 0.4788685142993927], [-0.5717148184776306, 0.36178314685821533], [0.5002708435058594, -0.3880373537540436], [0.17847546935081482, -0.28507354855537415], [-0.24347861111164093, 0.1149265244603157], [0.02516084909439087, -0.013749129138886929], [-0.16270221769809723, -0.03218421712517738], [-0.46189194917678833, 0.35117456316947937], [-0.1163601204752922, 0.06866174936294556], [-0.3414818346500397, 0.2098294049501419], [0.3605211675167084, -0.39539071917533875], [0.4167592525482178, -0.344378262758255], [-0.1386808604001999, 0.012527589686214924], [-0.2029905766248703, 0.12476887553930283], [-0.14641223847866058, -0.11917416006326675], [-0.4423771798610687, 0.36864638328552246], [-0.5276404023170471, 0.479679673910141], [-0.45101144909858704, 0.21190626919269562], [0.04231902211904526, -0.17853859066963196], [-0.6829962134361267, 0.5037996768951416], [-0.023858539760112762, -0.07030089944601059], [-0.506646990776062, 0.4140101373195648], [-0.11826028674840927, 0.07617587596178055], [-0.4168720543384552, 0.1998690813779831]], [[-0.2289382815361023, 0.11472796648740768], [-0.42012515664100647, 0.27577105164527893], [-0.013783798553049564, -0.1245383471250534], [-0.3727838099002838, 0.1322498917579651], [-0.6130486130714417, 0.3862264156341553], [-0.504102885723114, 0.26744574308395386], [-0.06721845269203186, -0.14535115659236908], [-0.7945932149887085, 0.5229931473731995], [0.39704281091690063, -0.41123637557029724], [0.40874776244163513, -0.34435972571372986], [0.28483816981315613, -0.37286171317100525], [-0.35332730412483215, 0.15085019171237946], [-0.3644842207431793, 0.13666334748268127], [-0.1696496307849884, -0.0340578593313694], [-0.6092897057533264, 0.36581525206565857], [-0.6519426703453064, 0.4581804573535919], [-0.1215321496129036, -0.0941910445690155], [-0.689313530921936, 0.4641575217247009], [0.013029216788709164, -0.14038366079330444], [-0.464316725730896, 0.2414533793926239], [-0.6566939949989319, 0.4764917194843292], [-0.733482301235199, 0.499512642621994], [-0.30914971232414246, 0.16219277679920197], [-0.5184535980224609, 0.24446596205234528], [-0.160456120967865, 0.0242655910551548], [-0.43663251399993896, 0.2754566967487335], [-0.12659864127635956, -0.020080186426639557], [-0.27826616168022156, 0.033377889543771744], [-0.010319569148123264, -0.14238427579402924], [-0.13300727307796478, -0.007624003104865551], [-0.6953686475753784, 0.5289392471313477], [-0.6527314782142639, 0.4894881248474121]], [[-0.13131718337535858, 0.005449437536299229], [-0.620350182056427, 0.47151586413383484], [0.11938223987817764, -0.23737771809101105], [-0.3490351438522339, 0.14236561954021454], [0.08250101655721664, -0.22255538403987885], [-0.6303288340568542, 0.4068208634853363], [-0.17774194478988647, -0.016250018030405045], [-0.1672191321849823, 0.082304447889328], [-0.30141961574554443, 0.07718672603368759], [-0.12863695621490479, -0.06437985599040985], [-0.13708631694316864, -0.02662508562207222], [-0.19011352956295013, 0.013274342752993107], [0.1858263462781906, -0.24766755104064941], [0.27951815724372864, -0.3761502206325531], [-0.7302103638648987, 0.5196380019187927], [-0.44528791308403015, 0.3570576310157776], [-0.3456282913684845, 0.2129138559103012], [0.012127055786550045, -0.1405014842748642], [-0.172413632273674, -0.0010027914540842175], [-0.3538718819618225, 0.08583246916532516], [-0.021030187606811523, -0.23318074643611908], [-0.0754237100481987, -0.08107279241085052], [-0.5308133363723755, 0.3447224199771881], [0.022822842001914978, -0.22050833702087402], [-0.16967405378818512, -0.029271386563777924], [-0.5666828751564026, 0.371860533952713], [-0.5110254883766174, 0.2838214337825775], [0.0828234851360321, -0.21731460094451904], [-0.5752541422843933, 0.3099246323108673], [-0.5522382855415344, 0.27999651432037354], [-0.20126847922801971, 0.041889313608407974], [0.007035076152533293, 0.005191297270357609]], [[0.38233861327171326, -0.37362366914749146], [-0.38540247082710266, 0.21119439601898193], [0.1549481898546219, -0.3659057915210724], [-0.2815355062484741, 0.0526886023581028], [-0.7588334679603577, 0.5228292942047119], [-0.5434190034866333, 0.2720613181591034], [-0.29031383991241455, 0.14321181178092957], [-0.5349267721176147, 0.26451924443244934], [-0.3278580605983734, 0.18470193445682526], [-0.14313717186450958, -0.056531939655542374], [-0.6900700926780701, 0.49122005701065063], [-0.4774046838283539, 0.3066372871398926], [-0.3952508568763733, 0.24895071983337402], [-0.5956932902336121, 0.4207485020160675], [-0.26547810435295105, -0.03876044973731041], [-0.08738240599632263, -0.0714300200343132], [-0.34437936544418335, 0.040719158947467804], [-0.5475466847419739, 0.2710117697715759], [-0.5060250759124756, 0.3315121829509735], [-0.4305884540081024, 0.36687126755714417], [-0.45699700713157654, 0.3413357138633728], [-0.2305968701839447, 0.1352912038564682], [0.3244889974594116, -0.4618397355079651], [-0.5588801503181458, 0.4067070186138153], [-0.6586490273475647, 0.4847433269023895], [0.078284852206707, -0.17719577252864838], [0.21030424535274506, -0.29496535658836365], [-0.4466414749622345, 0.24904300272464752], [0.1635759174823761, -0.3252331018447876], [-0.4569648206233978, 0.22317154705524445], [-0.30312955379486084, 0.194630965590477], [-0.41488638520240784, 0.2994706630706787]], [[-0.21374502778053284, 0.16419826447963715], [0.2053546905517578, -0.37958768010139465], [0.17544662952423096, -0.23944039642810822], [-0.3950886130332947, 0.2886371612548828], [-0.39441826939582825, 0.3340601921081543], [-0.611035943031311, 0.43444177508354187], [-0.26958397030830383, 0.0745738297700882], [-0.2565721571445465, 0.05562250316143036], [-0.07283447682857513, -0.10212938487529755], [-0.46295982599258423, 0.26500430703163147], [-0.0424695760011673, -0.03116641566157341], [-0.07535877823829651, -0.01803477481007576], [-0.3603645861148834, 0.1699114888906479], [-0.40762898325920105, 0.3792335093021393], [0.09976071119308472, -0.19306613504886627], [0.4923723638057709, -0.4789784550666809], [-0.42605865001678467, 0.2528715431690216], [-0.32607293128967285, 0.17580418288707733], [-0.6115278601646423, 0.35268768668174744], [-0.16874901950359344, 0.05395275354385376], [-0.044999562203884125, -0.062320370227098465], [-0.5920225977897644, 0.4179454445838928], [-0.13728025555610657, -0.024013135582208633], [-0.28984829783439636, 0.17234112322330475], [0.1899786740541458, -0.3185707926750183], [-0.10391650348901749, -0.12102437019348145], [0.44185909628868103, -0.4188338816165924], [-0.5658254027366638, 0.34924688935279846], [-0.5194571614265442, 0.25938552618026733], [0.006845309864729643, -0.049516964703798294], [-0.29248422384262085, 0.22002717852592468], [-0.3788383901119232, 0.27429401874542236]], [[-0.04429762065410614, -0.20150937139987946], [-0.4389183223247528, 0.3096749484539032], [-0.44576147198677063, 0.2947147786617279], [-0.12391982227563858, -0.06960886716842651], [-0.09831025451421738, -0.05459531769156456], [-0.4828339219093323, 0.37324535846710205], [-0.6027392148971558, 0.34717342257499695], [0.032982975244522095, -0.23604227602481842], [-0.10302300751209259, -0.058068323880434036], [-0.44509267807006836, 0.17840512096881866], [-0.2832569479942322, 0.15101008117198944], [-0.6950738430023193, 0.4486391842365265], [-0.15699602663516998, -0.03958598151803017], [-0.34115132689476013, 0.10066892951726913], [-0.32059502601623535, 0.1674536019563675], [-0.7614795565605164, 0.5248087644577026]]]\n",
            "True_labels:  [[0, 1, 0, 0, 1, 1, 0, 1, 1, 0, 0, 1, 1, 1, 1, 0, 1, 0, 1, 0, 0, 1, 0, 1, 1, 1, 0, 1, 0, 1, 1, 1], [0, 1, 1, 1, 0, 0, 0, 0, 0, 1, 0, 1, 0, 0, 0, 1, 1, 1, 0, 1, 1, 0, 1, 0, 1, 0, 1, 0, 0, 0, 1, 0], [0, 1, 0, 1, 0, 0, 1, 0, 1, 1, 1, 1, 1, 1, 1, 0, 1, 1, 0, 0, 1, 1, 1, 0, 1, 0, 0, 1, 1, 0, 1, 0], [1, 1, 0, 0, 1, 1, 0, 0, 1, 0, 1, 0, 1, 1, 1, 0, 1, 1, 1, 1, 1, 0, 0, 0, 1, 0, 0, 1, 0, 1, 1, 0], [1, 0, 1, 1, 0, 1, 1, 1, 0, 1, 1, 1, 1, 1, 0, 1, 0, 1, 1, 0, 1, 0, 1, 0, 1, 1, 0, 1, 0, 1, 1, 1], [1, 1, 0, 1, 1, 0, 0, 1, 1, 0, 1, 1, 1, 1, 1, 0, 0, 1, 0, 0, 0, 1, 0, 1, 0, 1, 0, 1, 1, 1, 0, 0], [0, 1, 0, 1, 1, 0, 1, 0, 1, 0, 1, 0, 1, 0, 0, 1, 0, 1, 0, 1, 1, 0, 1, 0, 1, 0, 1, 1, 1, 0, 0, 0], [1, 1, 1, 0, 0, 1, 0, 1, 0, 0, 0, 0, 1, 1, 0, 0, 1, 0, 1, 1, 0, 0, 0, 1, 1, 1, 0, 0, 1, 1, 0, 0], [1, 1, 0, 0, 0, 1, 0, 0, 1, 1, 1, 0, 0, 1, 1, 0, 0, 1, 0, 0, 1, 1, 0, 1, 1, 0, 0, 0, 1, 0, 0, 0], [1, 1, 1, 0, 0, 1, 1, 1, 1, 1, 0, 0, 1, 0, 1, 0, 1, 0, 1, 1, 1, 1, 1, 0, 1, 0, 1, 0, 1, 1, 0, 0], [0, 1, 0, 0, 1, 0, 0, 0, 1, 1, 1, 1, 0, 1, 0, 1, 0, 1, 1, 1, 0, 0, 1, 1, 1, 0, 0, 0, 0, 0, 1, 1], [1, 0, 1, 1, 0, 0, 1, 0, 1, 1, 0, 0, 1, 0, 0, 1, 0, 0, 0, 0, 0, 0, 1, 0, 1, 1, 1, 1, 1, 0, 1, 0], [0, 0, 1, 0, 1, 0, 1, 1, 0, 1, 0, 0, 1, 1, 1, 0, 0, 0, 1, 0, 1, 0, 0, 0, 0, 1, 0, 1, 0, 1, 0, 0], [0, 1, 0, 1, 1, 1, 0, 1, 0, 1, 0, 0, 1, 1, 1, 1, 1, 0, 0, 0, 0, 0, 1, 0, 1, 0, 1, 1, 1, 0, 0, 0], [0, 1, 0, 1, 0, 1, 1, 0, 0, 1, 0, 1, 1, 1, 0, 0, 1, 0, 1, 0, 1, 1, 1, 0, 1, 0, 0, 0, 1, 1, 1, 1], [0, 0, 1, 0, 0, 1, 0, 1, 1, 0, 0, 1, 0, 0, 0, 1, 1, 0, 0, 1, 0, 0, 1, 1, 0, 0, 1, 0, 0, 1, 1, 1], [0, 0, 1, 0, 1, 1, 0, 0, 0, 1, 1, 0, 1, 0, 0, 1, 0, 1, 1, 1, 0, 1, 1, 0, 1, 1, 0, 1, 0, 0, 0, 1], [0, 0, 0, 0, 1, 0, 0, 0, 0, 1, 1, 1, 1, 0, 1, 0, 0, 1, 0, 1, 1, 0, 1, 0, 1, 1, 0, 0, 1, 1, 1, 0], [0, 1, 0, 0, 0, 0, 1, 1, 1, 1, 0, 0, 1, 0, 1, 1, 1, 0, 0, 1, 1, 0, 1, 0, 1, 1, 0, 1, 0, 1, 0, 0], [0, 1, 1, 0, 1, 1, 0, 1, 0, 1, 1, 0, 1, 1, 0, 1, 1, 1, 0, 1, 1, 1, 0, 0, 1, 1, 1, 1, 1, 0, 1, 1], [1, 0, 1, 0, 1, 0, 1, 1, 1, 0, 1, 1, 0, 1, 0, 1, 1, 0, 1, 0, 0, 1, 1, 1, 0, 1, 0, 1, 1, 1, 0, 1], [1, 1, 0, 0, 1, 0, 0, 1, 1, 0, 0, 0, 1, 1, 1, 0, 1, 1, 1, 0, 1, 1, 0, 1, 1, 1, 0, 0, 0, 1, 1, 1], [0, 1, 0, 1, 1, 0, 0, 0, 1, 0, 0, 1, 0, 1, 1, 0, 1, 0, 1, 0, 1, 0, 0, 1, 0, 1, 0, 1, 1, 0, 1, 0], [0, 0, 0, 0, 0, 0, 1, 0, 1, 0, 1, 0, 1, 0, 0, 1, 0, 0, 0, 1, 1, 1, 0, 1, 0, 1, 0, 1, 1, 0, 1, 0], [0, 1, 0, 1, 1, 1, 1, 1, 1, 0, 1, 1, 0, 0, 1, 1, 0, 1, 1, 0, 0, 1, 0, 0, 1, 1, 1, 0, 0, 0, 1, 0], [1, 1, 0, 1, 1, 1, 0, 1, 1, 0, 1, 0, 1, 1, 0, 1, 0, 0, 1, 0, 1, 1, 1, 0, 0, 0, 1, 0, 1, 0, 1, 0], [0, 0, 0, 1, 1, 1, 1, 1, 0, 1, 0, 1, 1, 0, 1, 1, 0, 0, 1, 0, 1, 1, 0, 1, 0, 1, 0, 0, 0, 1, 0, 1], [1, 0, 0, 1, 0, 0, 1, 0, 0, 1, 1, 0, 0, 0, 1, 1, 0, 1, 0, 1, 0, 0, 0, 0, 0, 1, 1, 1, 0, 1, 1, 0], [1, 0, 1, 1, 0, 1, 1, 1, 0, 1, 0, 1, 0, 0, 0, 1, 0, 1, 0, 0, 1, 1, 1, 0, 0, 0, 0, 1, 1, 1, 1, 0], [1, 1, 0, 0, 1, 0, 0, 1, 1, 1, 1, 1, 1, 1, 1, 0, 1, 0, 1, 1, 0, 0, 0, 1, 1, 1, 0, 0, 0, 1, 0, 1], [0, 1, 0, 1, 0, 0, 1, 1, 0, 1, 0, 1, 1, 0, 1, 1, 0, 1, 1, 1, 1, 1, 1, 0, 0, 0, 0, 1, 1, 0, 1, 0], [1, 1, 0, 1, 1, 0, 1, 0, 1, 1, 0, 1, 1, 0, 1, 0, 1, 1, 0, 0, 0, 0, 1, 0, 1, 0, 1, 1, 0, 1, 0, 1], [0, 0, 0, 1, 0, 1, 1, 0, 1, 1, 0, 1, 0, 1, 1, 1, 1, 0, 1, 0, 1, 0, 0, 0, 1, 0, 1, 1, 0, 1, 0, 1], [1, 1, 1, 0, 0, 0, 1, 1, 1, 1, 1, 1, 0, 0, 0, 1, 0, 1, 0, 0, 0, 0, 0, 1, 1, 0, 1, 1, 0, 1, 0, 1], [0, 1, 1, 1, 1, 0, 0, 1, 1, 0, 1, 0, 1, 1, 0, 1, 0, 0, 1, 1, 1, 1, 0, 1, 1, 0, 1, 0, 0, 0, 0, 0], [1, 1, 1, 0, 0, 0, 1, 0, 0, 1, 0, 1, 1, 0, 1, 1, 1, 0, 0, 0, 0, 0, 1, 0, 1, 1, 0, 1, 0, 1, 1, 0], [0, 1, 0, 1, 1, 0, 1, 1, 0, 1, 0, 0, 0, 1, 0, 0, 1, 1, 0, 0, 0, 1, 1, 1, 0, 0, 1, 1, 1, 0, 1, 1], [0, 1, 0, 1, 0, 1, 0, 1, 0, 0, 0, 1, 1, 0, 1, 0, 1, 0, 1, 1, 0, 1, 1, 0, 1, 0, 1, 1, 0, 0, 0, 1], [0, 1, 0, 1, 0, 1, 0, 1, 0, 1, 0, 0, 0, 0, 1, 1, 1, 0, 0, 1, 1, 0, 1, 1, 1, 0, 1, 1, 1, 1, 0, 1], [1, 1, 0, 1, 0, 0, 0, 1, 1, 0, 0, 1, 0, 0, 0, 1, 1, 0, 1, 0, 0, 1, 0, 1, 0, 1, 0, 0, 1, 0, 0, 1], [1, 0, 0, 1, 1, 1, 1, 0, 1, 0, 1, 1, 0, 1, 0, 0, 1, 0, 1, 1, 0, 1, 1, 0, 1, 0, 1, 1, 1, 1, 1, 1], [1, 0, 1, 0, 1, 1, 1, 1, 1, 0, 1, 1, 1, 0, 1, 1, 0, 0, 0, 1, 1, 1, 0, 1, 0, 1, 1, 0, 1, 0, 1, 1], [1, 1, 1, 0, 1, 0, 1, 0, 1, 0, 0, 1, 0, 0, 0, 1, 1, 1, 1, 0, 0, 1, 1, 1, 0, 1, 1, 0, 1, 0, 1, 0], [0, 1, 0, 0, 1, 1, 1, 1, 1, 1, 1, 0, 1, 1, 1, 1, 0, 1, 0, 0, 0, 1, 1, 0, 1, 0, 1, 0, 0, 1, 0, 0], [0, 0, 1, 0, 0, 1, 0, 0, 1, 0, 1, 0, 1, 1, 1, 1, 1, 0, 1, 0, 0, 0, 1, 0, 1, 1, 0, 1, 0, 1, 0, 0], [0, 1, 0, 0, 1, 0, 0, 1, 0, 0, 0, 1, 0, 0, 1, 0, 0, 0, 0, 1, 1, 1, 0, 1, 0, 0, 1, 0, 1, 1, 1, 1], [0, 1, 1, 0, 0, 1, 0, 1, 1, 0, 1, 1, 0, 1, 1, 0, 0, 0, 1, 0, 1, 0, 0, 1, 1, 1, 1, 1, 1, 1, 1, 1], [0, 0, 0, 1, 0, 0, 1, 1, 0, 0, 1, 1, 1, 1, 0, 1, 1, 0, 0, 0, 1, 1, 0, 0, 1, 1, 1, 1, 1, 0, 0, 0], [0, 1, 1, 0, 1, 1, 0, 1, 1, 1, 0, 1, 1, 0, 1, 0, 0, 1, 0, 0, 1, 1, 0, 1, 1, 0, 1, 1, 1, 0, 0, 0], [1, 0, 0, 0, 1, 0, 1, 1, 0, 1, 0, 1, 0, 1, 1, 1, 0, 1, 0, 0, 0, 1, 0, 1, 0, 0, 1, 0, 0, 0, 1, 1], [0, 1, 1, 0, 1, 0, 0, 1, 0, 1, 0, 0, 1, 0, 1, 1, 0, 1, 0, 1, 0, 1, 0, 1, 1, 1, 1, 1, 0, 0, 1, 0], [1, 0, 1, 0, 0, 1, 0, 0, 0, 1, 0, 0, 0, 0, 0, 1, 0, 1, 0, 0, 0, 0, 1, 0, 0, 1, 0, 0, 1, 0, 1, 1], [0, 1, 1, 1, 0, 1, 0, 0, 0, 1, 0, 1, 1, 0, 0, 0, 0, 1, 1, 0, 0, 1, 1, 1, 0, 1, 0, 1, 1, 0, 0, 1], [0, 1, 0, 1, 1, 1, 0, 1, 1, 0, 1, 0, 1, 1, 1, 0, 1, 1, 0, 1, 0, 1, 0, 1, 1, 1, 0, 1, 1, 1, 0, 1], [1, 0, 0, 0, 0, 0, 1, 1, 0, 1, 0, 1, 1, 0, 1, 0, 0, 1, 0, 1, 0, 0, 1, 0, 0, 1, 0, 0, 1, 0, 1, 0], [1, 0, 1, 0, 1, 0, 0, 0, 1, 0, 1, 0, 1, 0, 1, 0, 1, 0, 1, 1, 1, 0, 1, 1, 1, 0, 1, 0, 1, 0, 0, 1], [0, 1, 0, 1, 0, 1, 0, 1, 0, 1, 1, 0, 0, 0, 1, 1, 0, 1, 1, 1, 1, 1, 1, 0, 1, 0, 1, 1, 1, 0, 1, 0], [1, 0, 1, 0, 1, 0, 1, 0, 1, 0, 1, 0, 1, 0, 0, 1, 1, 1, 0, 0, 1, 1, 1, 0, 0, 1, 1, 1, 0, 0, 1, 0], [1, 0, 1, 0, 1, 0, 0, 1, 1, 1, 0, 0, 1, 1, 1, 0, 0, 1, 0, 0, 1, 1, 1, 0, 1, 0, 1, 1, 1, 1, 0, 0], [0, 1, 0, 1, 0, 1, 0, 1, 0, 0, 0, 0, 1, 0, 1, 1, 0, 1, 1, 0, 1, 1, 0, 1, 1, 1, 0, 1, 0, 0, 1, 1], [1, 1, 0, 0, 0, 0, 0, 0, 1, 1, 0, 0, 0, 0, 1, 1, 1, 0, 1, 0, 0, 0, 1, 1, 0, 0, 0, 1, 1, 0, 1, 1], [0, 1, 0, 1, 0, 1, 1, 0, 0, 1, 1, 0, 0, 1, 0, 1, 0, 1, 0, 1, 1, 0, 0, 0, 1, 0, 0, 1, 0, 1, 1, 0], [0, 0, 0, 0, 1, 0, 0, 1, 0, 1, 0, 1, 1, 1, 0, 0, 1, 0, 1, 1, 0, 1, 1, 0, 0, 1, 1, 1, 1, 1, 0, 1], [0, 0, 1, 0, 1, 1, 1, 0, 1, 0, 1, 1, 1, 0, 1, 0]]\n",
            "    DONE.\n"
          ]
        }
      ],
      "source": [
        "# Prediction on dev set\n",
        "\n",
        "print('Predicting labels for {:,} dev sentences...'.format(len(input_ids_dev)))\n",
        "\n",
        "# Put model in evaluation mode\n",
        "model.eval()\n",
        "\n",
        "# Tracking variables\n",
        "predictions , true_labels = [], []\n",
        "\n",
        "# Predict\n",
        "for batch in prediction_dataloader:\n",
        "  # Add batch to GPU\n",
        "  batch = tuple(t.to(device) for t in batch)\n",
        "\n",
        "  # Unpack the inputs from our dataloader\n",
        "  b_input_ids, b_input_mask, b_labels = batch\n",
        "\n",
        "  # Telling the model not to compute or store gradients, saving memory and\n",
        "  # speeding up prediction\n",
        "  with torch.no_grad():\n",
        "      # Forward pass, calculate logit predictions\n",
        "      outputs = model(b_input_ids,\n",
        "                      token_type_ids=None,\n",
        "                      attention_mask=b_input_mask)\n",
        "\n",
        "  dev_logits = outputs[0]\n",
        "\n",
        "  # Move logits and labels to CPU\n",
        "  dev_logits = dev_logits.to('cpu').numpy()\n",
        "  label_ids = b_labels.to('cpu').numpy().astype(np.int64)\n",
        "  dev_logits = dev_logits.tolist()\n",
        "  label_ids = label_ids.tolist()\n",
        "\n",
        "  # Store predictions and true labels\n",
        "  predictions.append(dev_logits)\n",
        "  true_labels.append(label_ids)\n",
        "\n",
        "\n",
        "print(\"Predictions: \", predictions)\n",
        "print(\"True_labels: \", true_labels)\n",
        "\n",
        "print('    DONE.')"
      ]
    },
    {
      "cell_type": "code",
      "execution_count": null,
      "metadata": {
        "colab": {
          "base_uri": "https://localhost:8080/"
        },
        "id": "5HbgazjIlhGd",
        "outputId": "fbef6bed-cabd-4001-b2cc-e88d44b5cb78"
      },
      "outputs": [
        {
          "name": "stdout",
          "output_type": "stream",
          "text": [
            "Positive samples: 1071 of 2032 (52.71%)\n"
          ]
        }
      ],
      "source": [
        "print('Positive samples: %d of %d (%.2f%%)' % (labels_dev.sum(), len(labels_dev), (labels_dev.sum() / len(labels_dev) * 100.0)))"
      ]
    },
    {
      "cell_type": "markdown",
      "metadata": {
        "id": "Sih-AzOncEbX"
      },
      "source": [
        "## To Test model with test dataset"
      ]
    },
    {
      "cell_type": "code",
      "execution_count": null,
      "metadata": {
        "scrolled": true,
        "id": "sKIlkHBtcEbX",
        "outputId": "dacdc560-211f-4a88-dce5-b068d72c2e81"
      },
      "outputs": [
        {
          "name": "stdout",
          "output_type": "stream",
          "text": [
            "Requirement already satisfied: scikit-learn in /opt/anaconda3/envs/LLM_gramKo/lib/python3.12/site-packages (1.5.0)\n",
            "Requirement already satisfied: numpy>=1.19.5 in /opt/anaconda3/envs/LLM_gramKo/lib/python3.12/site-packages (from scikit-learn) (1.26.4)\n",
            "Requirement already satisfied: scipy>=1.6.0 in /opt/anaconda3/envs/LLM_gramKo/lib/python3.12/site-packages (from scikit-learn) (1.13.1)\n",
            "Requirement already satisfied: joblib>=1.2.0 in /opt/anaconda3/envs/LLM_gramKo/lib/python3.12/site-packages (from scikit-learn) (1.4.2)\n",
            "Requirement already satisfied: threadpoolctl>=3.1.0 in /opt/anaconda3/envs/LLM_gramKo/lib/python3.12/site-packages (from scikit-learn) (3.5.0)\n",
            "Note: you may need to restart the kernel to use updated packages.\n"
          ]
        }
      ],
      "source": [
        "pip install scikit-learn"
      ]
    },
    {
      "cell_type": "code",
      "execution_count": null,
      "metadata": {
        "colab": {
          "base_uri": "https://localhost:8080/"
        },
        "id": "ANhZEk7irYQY",
        "outputId": "485e9ce0-21e5-4d14-f15a-5ceb33c87320"
      },
      "outputs": [
        {
          "name": "stdout",
          "output_type": "stream",
          "text": [
            "Calculating Matthews Corr. Coef. for each batch...\n",
            "Len_true_labels:  64\n",
            "[1 1 0 1 1 0 0 1 1 0 1 1 1 1 1 0 1 1 1 0 1 0 1 1 0 1 1 1 0 1 1 0]\n",
            "[0 1 1 1 1 1 1 1 1 0 1 1 1 0 0 0 1 1 0 1 0 0 1 0 1 1 1 1 1 1 1 1]\n",
            "[0 1 1 1 1 0 0 1 1 1 1 1 0 1 1 1 1 1 0 0 0 1 1 0 0 1 0 1 1 0 0 0]\n",
            "[0 1 0 1 1 1 1 0 1 1 1 0 1 0 1 1 1 1 0 1 0 1 1 1 1 0 0 0 0 1 1 1]\n",
            "[1 1 1 0 0 1 0 1 1 0 0 0 1 1 1 1 1 1 1 1 1 0 0 0 1 1 0 1 0 1 1 1]\n",
            "[0 0 1 1 1 1 1 0 1 0 1 0 0 1 1 1 0 1 0 1 1 1 1 1 1 1 0 0 1 1 1 1]\n",
            "[0 1 1 1 1 1 1 1 1 1 1 1 1 1 0 1 0 1 1 1 1 0 1 0 1 1 1 0 1 1 1 0]\n",
            "[1 1 1 0 0 0 0 0 1 1 1 1 0 0 1 1 1 0 1 1 1 0 1 1 1 1 0 0 1 0 1 1]\n",
            "[1 1 1 1 1 1 0 1 1 1 1 1 1 0 1 1 1 1 1 0 1 1 1 1 1 1 0 1 0 0 1 0]\n",
            "[1 1 1 0 1 1 1 1 1 1 1 0 1 0 0 1 0 0 1 1 1 1 1 1 1 0 1 0 1 0 0 1]\n",
            "[1 1 1 1 1 0 1 1 1 1 1 1 1 1 0 1 1 1 1 1 1 0 1 1 1 1 1 0 0 0 1 1]\n",
            "[1 0 1 1 1 0 1 1 1 1 1 1 1 1 0 0 1 1 0 1 0 1 1 0 1 1 1 1 1 1 1 0]\n",
            "[1 1 1 0 1 0 1 1 1 1 1 0 1 1 1 1 1 0 1 0 1 0 1 1 0 1 1 1 1 1 0 0]\n",
            "[0 1 1 1 1 1 1 1 0 1 1 1 1 1 1 0 1 0 1 0 0 1 0 1 0 1 0 1 1 1 0 1]\n",
            "[0 0 1 1 1 1 1 1 0 1 0 1 1 1 1 1 1 0 1 1 0 1 1 0 0 1 0 1 0 1 1 1]\n",
            "[0 1 1 1 1 1 1 1 1 0 1 1 1 0 1 1 0 0 1 1 0 1 1 1 0 1 1 1 0 1 0 1]\n",
            "[1 0 1 1 1 0 1 1 0 1 1 1 1 0 1 1 1 1 1 1 1 1 1 1 1 1 1 1 0 1 1 0]\n",
            "[1 1 1 0 0 1 1 1 1 1 1 1 1 0 1 0 1 1 1 1 1 1 1 0 1 1 1 1 1 1 1 0]\n",
            "[0 1 1 1 0 1 1 1 1 1 1 1 1 0 1 1 1 0 1 1 1 0 1 1 1 1 0 1 1 1 0 1]\n",
            "[1 1 1 0 0 1 1 1 0 1 1 1 1 1 1 1 1 1 1 1 1 1 1 0 1 1 1 1 1 0 1 1]\n",
            "[0 1 1 0 1 1 1 1 1 1 1 1 1 1 0 1 1 1 1 1 1 1 1 1 1 1 0 0 1 1 0 0]\n",
            "[1 1 0 0 1 1 1 0 1 0 1 1 1 1 1 0 1 0 1 0 1 1 0 1 0 1 1 1 0 0 1 1]\n",
            "[1 1 0 1 1 1 1 1 1 1 1 1 0 1 1 1 1 1 1 1 1 1 1 1 1 1 0 1 1 1 1 1]\n",
            "[1 1 0 1 0 0 0 1 1 1 1 1 0 1 0 1 1 0 0 1 0 1 0 0 0 1 0 1 0 1 1 0]\n",
            "[1 1 0 1 1 1 1 0 1 1 1 0 1 0 1 1 0 1 0 1 1 1 0 0 1 1 1 1 1 0 0 1]\n",
            "[1 1 1 1 1 1 0 1 1 0 1 1 1 1 1 1 1 1 1 1 1 1 0 0 0 0 1 0 0 0 0 0]\n",
            "[0 1 0 1 0 1 0 1 0 1 1 1 1 1 1 1 1 0 1 1 0 1 0 0 0 1 1 0 0 1 1 1]\n",
            "[1 0 1 1 0 1 0 1 1 1 1 1 0 0 1 1 0 1 0 1 1 1 0 1 0 0 1 0 1 1 1 1]\n",
            "[0 1 1 0 1 1 1 1 1 1 0 1 0 1 1 1 1 1 1 1 1 1 0 0 1 0 1 0 1 1 0 1]\n",
            "[1 1 1 0 1 0 0 0 0 1 1 1 1 1 1 0 1 1 1 1 1 0 1 1 1 1 0 1 1 1 1 1]\n",
            "[1 1 1 1 1 1 0 1 1 1 1 1 1 0 1 1 1 1 0 1 1 1 1 1 0 0 1 1 1 1 1 1]\n",
            "[0 1 1 1 1 0 1 0 0 0 1 1 1 1 1 0 1 0 1 0 1 0 1 1 0 1 1 0 1 0 1 1]\n",
            "[0 0 0 1 1 1 1 1 1 1 1 1 0 1 1 1 1 0 1 1 1 1 1 1 1 0 1 0 1 1 0 1]\n",
            "[1 1 1 1 1 1 1 1 1 1 1 0 0 0 1 1 1 1 1 0 1 1 1 1 1 0 0 1 1 0 1 1]\n",
            "[1 0 1 1 0 1 1 0 1 1 1 0 1 0 1 1 1 1 1 0 1 1 0 1 1 1 0 1 0 0 0 0]\n",
            "[0 1 1 1 1 1 1 0 0 1 1 1 1 1 0 0 0 0 0 0 0 0 1 1 1 1 1 1 0 1 1 0]\n",
            "[1 1 1 0 1 0 1 1 1 1 1 0 1 1 0 0 0 1 1 1 0 1 1 0 1 0 0 0 1 0 1 1]\n",
            "[1 1 1 0 0 0 1 1 1 0 0 0 0 0 0 0 1 1 1 1 0 1 1 0 0 1 1 1 1 0 0 1]\n",
            "[1 1 1 0 0 1 1 1 1 1 0 1 1 0 1 0 1 1 1 1 0 0 1 1 1 1 1 1 1 0 1 0]\n",
            "[0 1 1 0 0 1 1 1 1 1 0 1 0 1 0 1 1 0 1 0 0 1 0 0 1 1 0 1 0 1 1 0]\n",
            "[1 1 1 1 1 0 0 1 1 0 1 0 0 0 1 1 1 0 1 1 0 0 1 1 1 1 1 1 1 1 0 1]\n",
            "[0 0 0 1 1 1 1 1 0 0 0 1 1 1 1 1 1 0 1 1 1 1 0 1 0 1 1 1 1 1 0 1]\n",
            "[0 0 1 0 1 1 1 1 1 1 0 0 0 0 0 1 0 1 1 0 0 1 1 1 0 1 1 0 0 0 0 0]\n",
            "[1 1 1 1 0 1 1 1 1 1 0 0 1 0 0 1 0 1 0 0 0 0 1 1 1 0 0 1 0 1 0 1]\n",
            "[1 0 1 0 1 1 0 0 0 0 1 1 0 0 1 1 1 1 1 0 0 0 1 0 1 0 1 1 1 1 0 1]\n",
            "[1 1 1 0 1 0 0 1 1 0 0 1 1 0 0 0 1 0 0 0 1 0 1 1 1 0 1 1 0 1 1 1]\n",
            "[1 1 0 1 0 1 1 1 0 0 1 1 1 1 0 0 0 0 1 1 1 1 0 1 0 1 1 0 1 1 1 1]\n",
            "[1 0 0 1 1 0 1 1 1 1 1 0 0 1 0 0 0 0 1 0 1 1 0 1 1 1 0 1 1 0 1 1]\n",
            "[0 1 1 0 1 1 0 1 1 0 0 0 1 1 1 1 1 1 1 1 1 0 0 0 1 1 1 1 1 1 0 0]\n",
            "[1 1 1 1 1 1 1 0 1 1 1 1 1 1 1 1 1 1 1 1 0 1 1 1 0 1 1 0 0 0 0 0]\n",
            "[0 1 1 0 0 1 1 1 1 1 1 1 1 0 1 0 1 1 1 1 0 1 1 1 1 0 0 1 0 0 1 1]\n",
            "[1 0 0 0 0 1 0 1 1 1 0 0 0 0 0 0 0 1 1 1 0 1 1 0 1 1 1 1 1 1 1 1]\n",
            "[1 1 0 1 1 1 1 0 1 1 0 1 0 1 1 0 0 1 1 0 1 1 1 1 0 1 1 0 1 0 0 0]\n",
            "[0 1 0 0 0 0 0 1 0 1 0 1 1 1 1 0 0 1 1 0 1 1 1 1 1 1 1 0 1 0 0 1]\n",
            "[0 0 1 0 0 0 1 1 0 1 0 1 0 0 0 1 1 1 1 1 0 1 1 1 1 1 0 0 1 0 1 0]\n",
            "[1 0 1 0 1 0 0 1 1 1 1 0 1 0 0 0 1 0 0 1 1 1 1 1 0 0 0 1 1 0 0 1]\n",
            "[0 1 0 1 1 0 1 0 0 1 1 1 1 0 1 1 1 1 1 1 1 0 1 0 0 1 1 1 0 0 1 1]\n",
            "[1 1 1 1 1 1 1 0 1 0 1 0 1 1 1 0 1 1 1 0 0 1 1 0 1 1 0 0 1 0 0 1]\n",
            "[1 0 1 1 1 1 1 0 1 1 0 0 1 0 1 1 1 1 0 0 1 1 1 1 1 1 0 1 0 1 1 1]\n",
            "[1 1 0 1 1 1 0 1 0 0 0 1 1 1 1 1 1 1 0 1 1 1 1 1 1 1 1 1 0 1 1 1]\n",
            "[1 1 0 1 0 1 1 1 1 1 1 1 0 0 1 1 1 0 1 1 0 0 1 0 1 1 1 0 1 1 1 0]\n",
            "[0 1 0 1 1 1 1 1 1 1 1 1 1 1 1 1 1 1 1 1 1 1 0 1 1 0 0 1 0 1 1 1]\n",
            "[1 0 0 1 1 1 1 1 0 1 1 1 1 1 0 0 1 1 1 1 0 1 1 1 0 0 0 1 1 0 1 1]\n",
            "[0 1 1 1 1 1 1 0 1 1 1 1 1 1 1 1]\n"
          ]
        }
      ],
      "source": [
        "from sklearn.metrics import matthews_corrcoef\n",
        "from sklearn.metrics import accuracy_score\n",
        "\n",
        "matthews_set = []\n",
        "\n",
        "# Evaluate each dev batch using Matthew's correlation coefficient\n",
        "print('Calculating Matthews Corr. Coef. for each batch...')\n",
        "print(\"Len_true_labels: \", len(true_labels))\n",
        "\n",
        "# For each input batch...\n",
        "for i in range(len(true_labels)):\n",
        "\n",
        "  # The predictions for this batch are a 2-column ndarray (one column for \"0\"\n",
        "  # and one column for \"1\"). Pick the label with the highest value and turn this\n",
        "  # in to a list of 0s and 1s.\n",
        "  pred_labels_i = np.argmax(predictions[i], axis=1).flatten()\n",
        "  print(pred_labels_i)\n",
        "\n",
        "  # Calculate and store the coef for this batch.\n",
        "  matthews = matthews_corrcoef(true_labels[i], pred_labels_i)\n",
        "  matthews_set.append(matthews)"
      ]
    },
    {
      "cell_type": "code",
      "execution_count": null,
      "metadata": {
        "colab": {
          "base_uri": "https://localhost:8080/",
          "height": 685
        },
        "id": "_qTU9WjBt6fD",
        "outputId": "e55b1a17-6003-427b-af27-6b6bbf86bdd2"
      },
      "outputs": [
        {
          "name": "stderr",
          "output_type": "stream",
          "text": [
            "/var/folders/b2/zwc3jd5d6wn09h5jtpfzqcqc0000gn/T/ipykernel_2087/1778854154.py:2: FutureWarning: \n",
            "\n",
            "The `ci` parameter is deprecated. Use `errorbar=None` for the same effect.\n",
            "\n",
            "  ax = sns.barplot(x=list(range(len(matthews_set))), y=matthews_set, ci=None)\n"
          ]
        },
        {
          "data": {
            "image/png": "[encoded data removed]",
            "text/plain": [
              "<Figure size 1200x600 with 1 Axes>"
            ]
          },
          "metadata": {},
          "output_type": "display_data"
        }
      ],
      "source": [
        "# Create a barplot showing the MCC score for each batch of test samples.\n",
        "ax = sns.barplot(x=list(range(len(matthews_set))), y=matthews_set, ci=None)\n",
        "\n",
        "plt.title('MCC Score per Batch')\n",
        "plt.ylabel('MCC Score (-1 to +1)')\n",
        "plt.xlabel('Batch #')\n",
        "\n",
        "plt.xticks(fontsize=8)\n",
        "plt.yticks(fontsize=8)\n",
        "\n",
        "plt.show()"
      ]
    },
    {
      "cell_type": "code",
      "execution_count": null,
      "metadata": {
        "colab": {
          "base_uri": "https://localhost:8080/"
        },
        "id": "fTX81rJ2t7M5",
        "outputId": "23106d8a-eab7-450b-db82-c562edaa6f4f"
      },
      "outputs": [
        {
          "name": "stdout",
          "output_type": "stream",
          "text": [
            "First predictions [[-0.31669405  0.08650479]\n",
            " [-0.52298146  0.42066643]\n",
            " [ 0.37742588 -0.27868882]\n",
            " ...\n",
            " [-0.34115133  0.10066893]\n",
            " [-0.32059503  0.1674536 ]\n",
            " [-0.76147956  0.52480876]]\n",
            "Second predictions [1 1 0 ... 1 1 1]\n",
            "Total MCC: 0.242\n"
          ]
        }
      ],
      "source": [
        "# Combine the results across all batches.\n",
        "flat_predictions = np.concatenate(predictions, axis=0)\n",
        "print(f\"First predictions {flat_predictions}\")\n",
        "\n",
        "# For each sample, pick the label (0 or 1) with the higher score.\n",
        "flat_predictions = np.argmax(flat_predictions, axis=1).flatten()\n",
        "print(f\"Second predictions {flat_predictions}\")\n",
        "\n",
        "# Combine the correct labels for each batch into a single list.\n",
        "flat_true_labels = np.concatenate(true_labels, axis=0)\n",
        "\n",
        "# Calculate the MCC\n",
        "mcc = matthews_corrcoef(flat_true_labels, flat_predictions)\n",
        "\n",
        "print('Total MCC: %.3f' % mcc)"
      ]
    },
    {
      "cell_type": "markdown",
      "metadata": {
        "id": "caeKvWU1cEbY"
      },
      "source": [
        "## To save my own model"
      ]
    },
    {
      "cell_type": "code",
      "execution_count": null,
      "metadata": {
        "colab": {
          "base_uri": "https://localhost:8080/"
        },
        "id": "bR9UiX5furIV",
        "outputId": "2e26a2b0-952c-4a51-8b60-3213a83195b9"
      },
      "outputs": [
        {
          "name": "stdout",
          "output_type": "stream",
          "text": [
            "Saving model to /opt/anaconda3/envs/LLM_gramKo/model_save/\n"
          ]
        },
        {
          "data": {
            "text/plain": [
              "('/opt/anaconda3/envs/LLM_gramKo/model_save/tokenizer_config.json',\n",
              " '/opt/anaconda3/envs/LLM_gramKo/model_save/special_tokens_map.json',\n",
              " '/opt/anaconda3/envs/LLM_gramKo/model_save/spiece.model',\n",
              " '/opt/anaconda3/envs/LLM_gramKo/model_save/added_tokens.json')"
            ]
          },
          "execution_count": 34,
          "metadata": {},
          "output_type": "execute_result"
        }
      ],
      "source": [
        "import os\n",
        "\n",
        "# Saving best-practices: if you use defaults names for the model, you can reload it using from_pretrained()\n",
        "\n",
        "output_dir = './model_save/'\n",
        "\n",
        "# Create output directory if needed\n",
        "if not os.path.exists(output_dir):\n",
        "    os.makedirs(output_dir)\n",
        "\n",
        "print(\"Saving model to %s\" % output_dir)\n",
        "\n",
        "# Save a trained model, configuration and tokenizer using `save_pretrained()`.\n",
        "# They can then be reloaded using `from_pretrained()`\n",
        "model_to_save = model.module if hasattr(model, 'module') else model  # Take care of distributed/parallel training\n",
        "model_to_save.save_pretrained(output_dir)\n",
        "tokenizer.save_pretrained(output_dir)\n",
        "\n",
        "# Good practice: save your training arguments together with the trained model\n",
        "# torch.save(args, os.path.join(output_dir, 'training_args.bin'))\n"
      ]
    },
    {
      "cell_type": "code",
      "execution_count": null,
      "metadata": {
        "id": "_nDOjqKDcEbY",
        "outputId": "ec26eb31-7c3c-4167-b0d4-92a24abc0c3d"
      },
      "outputs": [
        {
          "name": "stdout",
          "output_type": "stream",
          "text": [
            "Requirement already satisfied: transformers in /opt/anaconda3/envs/LLM_gramKo/lib/python3.12/site-packages (4.41.2)\n",
            "Requirement already satisfied: filelock in /opt/anaconda3/envs/LLM_gramKo/lib/python3.12/site-packages (from transformers) (3.14.0)\n",
            "Requirement already satisfied: huggingface-hub<1.0,>=0.23.0 in /opt/anaconda3/envs/LLM_gramKo/lib/python3.12/site-packages (from transformers) (0.23.3)\n",
            "Requirement already satisfied: numpy>=1.17 in /opt/anaconda3/envs/LLM_gramKo/lib/python3.12/site-packages (from transformers) (1.26.4)\n",
            "Requirement already satisfied: packaging>=20.0 in /opt/anaconda3/envs/LLM_gramKo/lib/python3.12/site-packages (from transformers) (24.1)\n",
            "Requirement already satisfied: pyyaml>=5.1 in /opt/anaconda3/envs/LLM_gramKo/lib/python3.12/site-packages (from transformers) (6.0.1)\n",
            "Requirement already satisfied: regex!=2019.12.17 in /opt/anaconda3/envs/LLM_gramKo/lib/python3.12/site-packages (from transformers) (2024.5.15)\n",
            "Requirement already satisfied: requests in /opt/anaconda3/envs/LLM_gramKo/lib/python3.12/site-packages (from transformers) (2.32.3)\n",
            "Requirement already satisfied: tokenizers<0.20,>=0.19 in /opt/anaconda3/envs/LLM_gramKo/lib/python3.12/site-packages (from transformers) (0.19.1)\n",
            "Requirement already satisfied: safetensors>=0.4.1 in /opt/anaconda3/envs/LLM_gramKo/lib/python3.12/site-packages (from transformers) (0.4.3)\n",
            "Requirement already satisfied: tqdm>=4.27 in /opt/anaconda3/envs/LLM_gramKo/lib/python3.12/site-packages (from transformers) (4.66.4)\n",
            "Requirement already satisfied: fsspec>=2023.5.0 in /opt/anaconda3/envs/LLM_gramKo/lib/python3.12/site-packages (from huggingface-hub<1.0,>=0.23.0->transformers) (2024.6.0)\n",
            "Requirement already satisfied: typing-extensions>=3.7.4.3 in /opt/anaconda3/envs/LLM_gramKo/lib/python3.12/site-packages (from huggingface-hub<1.0,>=0.23.0->transformers) (4.12.2)\n",
            "Requirement already satisfied: charset-normalizer<4,>=2 in /opt/anaconda3/envs/LLM_gramKo/lib/python3.12/site-packages (from requests->transformers) (3.3.2)\n",
            "Requirement already satisfied: idna<4,>=2.5 in /opt/anaconda3/envs/LLM_gramKo/lib/python3.12/site-packages (from requests->transformers) (3.7)\n",
            "Requirement already satisfied: urllib3<3,>=1.21.1 in /opt/anaconda3/envs/LLM_gramKo/lib/python3.12/site-packages (from requests->transformers) (2.2.1)\n",
            "Requirement already satisfied: certifi>=2017.4.17 in /opt/anaconda3/envs/LLM_gramKo/lib/python3.12/site-packages (from requests->transformers) (2024.6.2)\n",
            "Note: you may need to restart the kernel to use updated packages.\n"
          ]
        }
      ],
      "source": [
        "pip install transformers"
      ]
    },
    {
      "cell_type": "markdown",
      "metadata": {
        "id": "Iv_FaG6GcEbY"
      },
      "source": [
        "## Import my own Model"
      ]
    },
    {
      "cell_type": "code",
      "execution_count": null,
      "metadata": {
        "colab": {
          "base_uri": "https://localhost:8080/"
        },
        "id": "X4W9SsIpqIKE",
        "outputId": "d30cc4df-b75f-46f3-af92-468eb4eaaee0"
      },
      "outputs": [
        {
          "name": "stdout",
          "output_type": "stream",
          "text": [
            "/opt/anaconda3/envs/LLM_gramKo/model_save/\n"
          ]
        }
      ],
      "source": [
        "# Step to use my own fine-tuned model\n",
        "output_dir = './model_save/'\n",
        "print(output_dir)"
      ]
    },
    {
      "cell_type": "code",
      "execution_count": null,
      "metadata": {
        "colab": {
          "base_uri": "https://localhost:8080/"
        },
        "id": "4xfZW4WbqTIT",
        "outputId": "325b7108-2698-49e1-e5de-9e1ee303fa4e"
      },
      "outputs": [
        {
          "name": "stdout",
          "output_type": "stream",
          "text": [
            "KoBERTTokenizer(name_or_path='/opt/anaconda3/envs/LLM_gramKo/model_save/', vocab_size=8002, model_max_length=1000000000000000019884624838656, is_fast=False, padding_side='right', truncation_side='right', special_tokens={'bos_token': '[CLS]', 'eos_token': '[SEP]', 'unk_token': '[UNK]', 'sep_token': '[SEP]', 'pad_token': '[PAD]', 'cls_token': '[CLS]', 'mask_token': '[MASK]'}, clean_up_tokenization_spaces=True),  added_tokens_decoder={\n",
            "\t0: AddedToken(\"[UNK]\", rstrip=False, lstrip=False, single_word=False, normalized=False, special=True),\n",
            "\t1: AddedToken(\"[PAD]\", rstrip=False, lstrip=False, single_word=False, normalized=False, special=True),\n",
            "\t2: AddedToken(\"[CLS]\", rstrip=False, lstrip=False, single_word=False, normalized=False, special=True),\n",
            "\t3: AddedToken(\"[SEP]\", rstrip=False, lstrip=False, single_word=False, normalized=False, special=True),\n",
            "\t4: AddedToken(\"[MASK]\", rstrip=False, lstrip=True, single_word=False, normalized=True, special=True),\n",
            "}\n",
            "BertForSequenceClassification(\n",
            "  (bert): BertModel(\n",
            "    (embeddings): BertEmbeddings(\n",
            "      (word_embeddings): Embedding(8002, 768, padding_idx=1)\n",
            "      (position_embeddings): Embedding(512, 768)\n",
            "      (token_type_embeddings): Embedding(2, 768)\n",
            "      (LayerNorm): LayerNorm((768,), eps=1e-12, elementwise_affine=True)\n",
            "      (dropout): Dropout(p=0.1, inplace=False)\n",
            "    )\n",
            "    (encoder): BertEncoder(\n",
            "      (layer): ModuleList(\n",
            "        (0-11): 12 x BertLayer(\n",
            "          (attention): BertAttention(\n",
            "            (self): BertSdpaSelfAttention(\n",
            "              (query): Linear(in_features=768, out_features=768, bias=True)\n",
            "              (key): Linear(in_features=768, out_features=768, bias=True)\n",
            "              (value): Linear(in_features=768, out_features=768, bias=True)\n",
            "              (dropout): Dropout(p=0.1, inplace=False)\n",
            "            )\n",
            "            (output): BertSelfOutput(\n",
            "              (dense): Linear(in_features=768, out_features=768, bias=True)\n",
            "              (LayerNorm): LayerNorm((768,), eps=1e-12, elementwise_affine=True)\n",
            "              (dropout): Dropout(p=0.1, inplace=False)\n",
            "            )\n",
            "          )\n",
            "          (intermediate): BertIntermediate(\n",
            "            (dense): Linear(in_features=768, out_features=3072, bias=True)\n",
            "            (intermediate_act_fn): GELUActivation()\n",
            "          )\n",
            "          (output): BertOutput(\n",
            "            (dense): Linear(in_features=3072, out_features=768, bias=True)\n",
            "            (LayerNorm): LayerNorm((768,), eps=1e-12, elementwise_affine=True)\n",
            "            (dropout): Dropout(p=0.1, inplace=False)\n",
            "          )\n",
            "        )\n",
            "      )\n",
            "    )\n",
            "    (pooler): BertPooler(\n",
            "      (dense): Linear(in_features=768, out_features=768, bias=True)\n",
            "      (activation): Tanh()\n",
            "    )\n",
            "  )\n",
            "  (dropout): Dropout(p=0.1, inplace=False)\n",
            "  (classifier): Linear(in_features=768, out_features=2, bias=True)\n",
            ")\n"
          ]
        }
      ],
      "source": [
        "tokenizer = KoBERTTokenizer.from_pretrained(output_dir)\n",
        "model_loaded = BertForSequenceClassification.from_pretrained(output_dir)\n",
        "print(tokenizer)\n",
        "print(model_loaded)"
      ]
    },
    {
      "cell_type": "markdown",
      "metadata": {
        "id": "o3KVCBLPcEbY"
      },
      "source": [
        "### Encode Test dataset"
      ]
    },
    {
      "cell_type": "code",
      "execution_count": null,
      "metadata": {
        "colab": {
          "base_uri": "https://localhost:8080/"
        },
        "id": "4iMllmU9tcJw",
        "outputId": "6177a91f-ecd8-4f4e-b89b-4bd2886e49ff"
      },
      "outputs": [
        {
          "name": "stdout",
          "output_type": "stream",
          "text": [
            "sentences_test: ['나는 철수에게 공을 던져다 주었다.' '먹은 것을 다 소화시켜야 한다.' '그가 노래를 부르고는 내가 피아노를 쳤다.' ...\n",
            " '그는 나를 바보 여긴다.' '수호는 모든 일에 전혀 무감각하다.' '나는 할아버지가 제일 무서우시다.']\n",
            "Input_id_test:  tensor([[   2, 1375, 4473,  ...,    1,    1,    1],\n",
            "        [   2, 2010, 7086,  ...,    1,    1,    1],\n",
            "        [   2, 1186, 1479,  ...,    1,    1,    1],\n",
            "        ...,\n",
            "        [   2, 1191, 1370,  ...,    1,    1,    1],\n",
            "        [   2, 2872, 7926,  ...,    1,    1,    1],\n",
            "        [   2, 1375, 4977,  ...,    1,    1,    1]])\n",
            "Attention_mask_test:  tensor([[1, 1, 1,  ..., 0, 0, 0],\n",
            "        [1, 1, 1,  ..., 0, 0, 0],\n",
            "        [1, 1, 1,  ..., 0, 0, 0],\n",
            "        ...,\n",
            "        [1, 1, 1,  ..., 0, 0, 0],\n",
            "        [1, 1, 1,  ..., 0, 0, 0],\n",
            "        [1, 1, 1,  ..., 0, 0, 0]])\n",
            "Index_test:  tensor([   1,    2,    3,  ..., 1058, 1059, 1060])\n"
          ]
        }
      ],
      "source": [
        "input_ids_test = []\n",
        "attention_masks_test = []\n",
        "\n",
        "print(\"sentences_test:\", sentences_test)\n",
        "\n",
        "for sent in sentences_test:\n",
        "    encoded_dict = tokenizer.encode_plus(\n",
        "                        sent,\n",
        "                        add_special_tokens = True,\n",
        "                        max_length = 64,\n",
        "                        padding = 'max_length',\n",
        "                        truncation = True,\n",
        "                        return_attention_mask = True,\n",
        "                        return_tensors = 'pt',\n",
        "                   )\n",
        "\n",
        "    # 인코딩된 문장들 List[input_ids_test]에 넣기 but input_ids_test은 이미\n",
        "    input_ids_test.append(encoded_dict['input_ids'])\n",
        "    attention_masks_test.append(encoded_dict['attention_mask'])\n",
        "\n",
        "input_ids_test = torch.cat(input_ids_test, dim=0)\n",
        "attention_masks_test = torch.cat(attention_masks_test, dim=0)\n",
        "index_test = torch.tensor(index_test)\n",
        "\n",
        "print(\"Input_id_test: \", input_ids_test)\n",
        "print(\"Attention_mask_test: \", attention_masks_test)\n",
        "print(\"Index_test: \", index_test)"
      ]
    },
    {
      "cell_type": "code",
      "execution_count": null,
      "metadata": {
        "id": "h8YtZxpMsmrf"
      },
      "outputs": [],
      "source": [
        "model_loaded = model_loaded.to(device)\n",
        "input_ids_test = input_ids_test.to(device)\n",
        "attention_masks_test = attention_masks_test.to(device)"
      ]
    },
    {
      "cell_type": "code",
      "execution_count": null,
      "metadata": {
        "colab": {
          "base_uri": "https://localhost:8080/"
        },
        "id": "lBltg1k_tBfz",
        "outputId": "c428025a-0c80-4297-f186-37007dcd9510"
      },
      "outputs": [
        {
          "name": "stdout",
          "output_type": "stream",
          "text": [
            "[1, 1, 0, 1, 0, 1, 1, 1, 0, 0, 1, 0, 1, 1, 1, 1, 0, 0, 1, 1, 1, 1, 1, 1, 1, 1, 0, 0, 0, 1, 1, 1, 0, 0, 0, 1, 1, 1, 1, 1, 1, 1, 1, 1, 1, 0, 0, 0, 0, 1, 1, 0, 1, 1, 1, 1, 1, 1, 0, 1, 1, 1, 1, 1, 1, 0, 1, 1, 1, 1, 1, 0, 1, 0, 1, 1, 0, 1, 0, 0, 1, 1, 0, 1, 1, 1, 1, 0, 0, 0, 0, 1, 0, 0, 1, 1, 1, 1, 1, 1, 1, 1, 1, 0, 1, 0, 1, 1, 0, 1, 1, 0, 1, 1, 1, 1, 1, 1, 1, 0, 0, 0, 1, 1, 0, 0, 0, 0, 0, 0, 1, 1, 1, 1, 0, 1, 0, 1, 0, 0, 0, 0, 1, 1, 1, 1, 0, 1, 0, 1, 1, 1, 1, 1, 1, 1, 1, 1, 1, 0, 1, 0, 0, 0, 0, 1, 1, 1, 0, 0, 1, 0, 1, 1, 1, 1, 0, 0, 0, 1, 1, 1, 1, 1, 0, 1, 0, 1, 0, 1, 0, 1, 0, 1, 1, 0, 0, 1, 1, 0, 0, 0, 1, 0, 1, 0, 1, 1, 1, 1, 0, 1, 1, 1, 0, 1, 1, 1, 1, 1, 1, 1, 1, 0, 1, 1, 1, 1, 1, 1, 1, 1, 1, 1, 1, 1, 1, 1, 0, 0, 0, 1, 1, 0, 0, 1, 0, 1, 0, 1, 1, 1, 1, 1, 0, 1, 1, 1, 1, 1, 1, 1, 1, 1, 1, 1, 1, 1, 0, 0, 1, 0, 0, 1, 1, 1, 1, 0, 1, 1, 0, 1, 1, 1, 0, 1, 1, 1, 1, 1, 1, 1, 1, 0, 1, 1, 1, 0, 1, 1, 1, 1, 0, 0, 1, 0, 0, 1, 1, 1, 1, 1, 0, 0, 0, 1, 1, 1, 1, 0, 1, 1, 0, 1, 1, 1, 1, 1, 0, 1, 1, 1, 1, 1, 1, 1, 1, 1, 1, 0, 1, 1, 1, 1, 1, 1, 1, 1, 0, 1, 0, 0, 1, 0, 0, 0, 1, 0, 1, 0, 1, 1, 1, 1, 1, 1, 1, 1, 1, 1, 1, 1, 0, 1, 1, 1, 1, 1, 1, 1, 0, 1, 0, 0, 1, 1, 1, 1, 1, 0, 1, 1, 0, 1, 1, 1, 1, 1, 0, 1, 1, 1, 1, 0, 1, 0, 1, 1, 1, 1, 1, 1, 1, 0, 0, 1, 1, 1, 1, 0, 1, 1, 1, 1, 1, 0, 1, 1, 1, 1, 1, 1, 0, 1, 1, 1, 1, 0, 0, 1, 1, 0, 1, 0, 1, 0, 1, 1, 1, 1, 1, 1, 1, 1, 0, 1, 1, 1, 1, 1, 1, 1, 1, 1, 1, 1, 1, 1, 1, 1, 1, 1, 0, 1, 1, 1, 1, 0, 1, 0, 1, 1, 1, 1, 0, 1, 1, 0, 1, 1, 0, 1, 1, 0, 0, 1, 1, 0, 1, 1, 1, 1, 1, 0, 0, 0, 1, 1, 0, 1, 1, 0, 1, 0, 1, 1, 1, 1, 1, 1, 1, 1, 1, 1, 1, 1, 1, 1, 0, 1, 0, 1, 1, 1, 0, 1, 1, 1, 0, 1, 1, 1, 1, 1, 1, 1, 0, 1, 0, 1, 1, 0, 0, 0, 1, 1, 0, 0, 1, 1, 0, 0, 1, 1, 0, 0, 1, 1, 1, 1, 1, 1, 1, 1, 0, 1, 0, 0, 1, 1, 1, 1, 0, 0, 0, 1, 0, 1, 0, 0, 1, 1, 0, 0, 1, 0, 1, 0, 1, 0, 1, 1, 0, 1, 1, 0, 0, 1, 0, 1, 0, 1, 1, 0, 0, 1, 1, 1, 0, 1, 0, 1, 1, 1, 0, 0, 1, 0, 0, 1, 1, 0, 1, 1, 1, 0, 0, 1, 1, 1, 1, 0, 1, 0, 1, 0, 1, 1, 1, 0, 1, 1, 0, 1, 1, 1, 0, 1, 0, 0, 1, 0, 0, 1, 1, 0, 0, 1, 1, 1, 1, 1, 1, 1, 0, 1, 1, 0, 1, 1, 0, 1, 1, 1, 1, 1, 1, 0, 1, 0, 1, 1, 1, 1, 1, 1, 0, 0, 0, 0, 0, 1, 1, 0, 1, 1, 1, 1, 1, 1, 0, 1, 0, 1, 0, 1, 1, 0, 1, 1, 0, 1, 0, 1, 1, 1, 1, 1, 1, 1, 0, 0, 0, 0, 0, 0, 1, 1, 1, 1, 1, 0, 0, 1, 0, 1, 1, 1, 0, 1, 1, 0, 1, 1, 1, 0, 1, 1, 0, 1, 0, 1, 1, 1, 1, 1, 1, 0, 0, 0, 1, 0, 1, 0, 0, 1, 1, 1, 1, 0, 0, 1, 0, 0, 1, 1, 1, 1, 0, 1, 0, 0, 1, 1, 1, 0, 1, 1, 0, 0, 0, 1, 1, 0, 1, 1, 0, 1, 0, 1, 0, 1, 0, 1, 1, 1, 1, 1, 1, 1, 1, 1, 1, 0, 0, 1, 1, 0, 1, 1, 1, 1, 1, 1, 1, 0, 0, 1, 0, 0, 1, 1, 1, 1, 0, 0, 1, 1, 1, 1, 0, 0, 1, 0, 1, 1, 0, 0, 1, 1, 1, 1, 1, 0, 1, 1, 0, 1, 1, 1, 0, 1, 0, 1, 1, 0, 1, 0, 1, 1, 0, 0, 1, 1, 1, 1, 1, 1, 1, 0, 1, 1, 1, 0, 0, 1, 0, 1, 0, 0, 0, 0, 0, 1, 1, 0, 0, 1, 0, 0, 1, 1, 0, 1, 1, 1, 1, 1, 0, 0, 1, 1, 1, 0, 1, 0, 0, 0, 1, 0, 1, 0, 0, 0, 0, 0, 0, 0, 0, 0, 0, 1, 0, 0, 1, 1, 1, 1, 0, 1, 1, 0, 0, 1, 1, 0, 0, 1, 0, 1, 0, 1, 0, 1, 0, 1, 1, 0, 1, 1, 0, 1, 1, 1, 1, 0, 1, 0, 1, 1, 0, 1, 1, 0, 1, 1, 0, 1, 1, 1, 1, 1, 1, 1, 0, 1, 0, 0, 1, 1, 1, 1, 1, 1, 1, 0, 1, 1, 1, 1, 1, 1, 1, 0, 1, 1, 1, 1, 1, 1, 1, 1, 1, 1, 0, 1, 1, 1, 0, 1, 0, 0, 1, 0, 0, 1, 0, 1, 1, 1, 0, 0, 1, 0, 0, 0, 1, 1, 0, 0, 1, 0, 1, 1, 1, 0, 0, 1, 1, 1]\n"
          ]
        }
      ],
      "source": [
        "with torch.no_grad():\n",
        "  # Forward pass, calculate logit predictions\n",
        "  outputs = model_loaded(input_ids_test, token_type_ids=None, attention_mask=attention_masks_test)\n",
        "\n",
        "test_logits = outputs[0]\n",
        "test_logits = test_logits.detach().cpu().numpy()\n",
        "test_logits = np.argmax(test_logits, axis=1).flatten()\n",
        "labels_test = []\n",
        "for i in range(len(test_logits)):\n",
        "    index = test_logits[i]\n",
        "    if index == 1:\n",
        "      labels_test.append(1)\n",
        "      # print(\"1(True)\")\n",
        "    else:\n",
        "      labels_test.append(0)\n",
        "      # print(\"0(False)\")\n",
        "result = labels_test\n",
        "print(result)"
      ]
    },
    {
      "cell_type": "markdown",
      "source": [
        "## To Convert result to contest format"
      ],
      "metadata": {
        "id": "9S_MVv2mcN0g"
      }
    },
    {
      "cell_type": "code",
      "source": [
        "import json\n",
        "\n",
        "dict_result = [{\"idx\" : idx, \"label\" : data} for idx, data in enumerate(result)]\n",
        "with open(\"./dataset/COLA_Test.json\", \"w\") as json_file:\n",
        "    json_result = {\"cola\" : dict_result}\n",
        "    json.dump(json_result, json_file)"
      ],
      "metadata": {
        "id": "B_HOr0DNcH_R"
      },
      "execution_count": null,
      "outputs": []
    },
    {
      "cell_type": "code",
      "source": [
        "with open('./dataset/COLA_Test.json') as json_file:\n",
        "    COLA = json.load(json_file)\n",
        "    print(COLA)"
      ],
      "metadata": {
        "id": "e-oMQyQ0cKxD"
      },
      "execution_count": null,
      "outputs": []
    }
  ],
  "metadata": {
    "accelerator": "GPU",
    "colab": {
      "gpuType": "T4",
      "provenance": [],
      "include_colab_link": true
    },
    "kernelspec": {
      "display_name": "LLM_gramKo",
      "language": "python",
      "name": "llm_gramko"
    },
    "language_info": {
      "codemirror_mode": {
        "name": "ipython",
        "version": 3
      },
      "file_extension": ".py",
      "mimetype": "text/x-python",
      "name": "python",
      "nbconvert_exporter": "python",
      "pygments_lexer": "ipython3",
      "version": "3.12.3"
    },
    "widgets": {
      "application/vnd.jupyter.widget-state+json": {
        "05ad143ff1524cb7b1d3915a9b166c80": {
          "model_module": "@jupyter-widgets/base",
          "model_module_version": "1.2.0",
          "model_name": "LayoutModel",
          "state": {
            "_model_module": "@jupyter-widgets/base",
            "_model_module_version": "1.2.0",
            "_model_name": "LayoutModel",
            "_view_count": null,
            "_view_module": "@jupyter-widgets/base",
            "_view_module_version": "1.2.0",
            "_view_name": "LayoutView",
            "align_content": null,
            "align_items": null,
            "align_self": null,
            "border": null,
            "bottom": null,
            "display": null,
            "flex": null,
            "flex_flow": null,
            "grid_area": null,
            "grid_auto_columns": null,
            "grid_auto_flow": null,
            "grid_auto_rows": null,
            "grid_column": null,
            "grid_gap": null,
            "grid_row": null,
            "grid_template_areas": null,
            "grid_template_columns": null,
            "grid_template_rows": null,
            "height": null,
            "justify_content": null,
            "justify_items": null,
            "left": null,
            "margin": null,
            "max_height": null,
            "max_width": null,
            "min_height": null,
            "min_width": null,
            "object_fit": null,
            "object_position": null,
            "order": null,
            "overflow": null,
            "overflow_x": null,
            "overflow_y": null,
            "padding": null,
            "right": null,
            "top": null,
            "visibility": null,
            "width": null
          }
        },
        "1047bc68c0a64d9e80d8432cfda5f1f5": {
          "model_module": "@jupyter-widgets/base",
          "model_module_version": "1.2.0",
          "model_name": "LayoutModel",
          "state": {
            "_model_module": "@jupyter-widgets/base",
            "_model_module_version": "1.2.0",
            "_model_name": "LayoutModel",
            "_view_count": null,
            "_view_module": "@jupyter-widgets/base",
            "_view_module_version": "1.2.0",
            "_view_name": "LayoutView",
            "align_content": null,
            "align_items": null,
            "align_self": null,
            "border": null,
            "bottom": null,
            "display": null,
            "flex": null,
            "flex_flow": null,
            "grid_area": null,
            "grid_auto_columns": null,
            "grid_auto_flow": null,
            "grid_auto_rows": null,
            "grid_column": null,
            "grid_gap": null,
            "grid_row": null,
            "grid_template_areas": null,
            "grid_template_columns": null,
            "grid_template_rows": null,
            "height": null,
            "justify_content": null,
            "justify_items": null,
            "left": null,
            "margin": null,
            "max_height": null,
            "max_width": null,
            "min_height": null,
            "min_width": null,
            "object_fit": null,
            "object_position": null,
            "order": null,
            "overflow": null,
            "overflow_x": null,
            "overflow_y": null,
            "padding": null,
            "right": null,
            "top": null,
            "visibility": null,
            "width": null
          }
        },
        "24715661b79147a590ecfd414b8a762a": {
          "model_module": "@jupyter-widgets/controls",
          "model_module_version": "1.5.0",
          "model_name": "HTMLModel",
          "state": {
            "_dom_classes": [],
            "_model_module": "@jupyter-widgets/controls",
            "_model_module_version": "1.5.0",
            "_model_name": "HTMLModel",
            "_view_count": null,
            "_view_module": "@jupyter-widgets/controls",
            "_view_module_version": "1.5.0",
            "_view_name": "HTMLView",
            "description": "",
            "description_tooltip": null,
            "layout": "IPY_MODEL_2518889e828f4961bc144e37697e906d",
            "placeholder": "​",
            "style": "IPY_MODEL_721010663e474bb98dd8a15352a37658",
            "value": " 244/244 [00:00&lt;00:00, 18.5kB/s]"
          }
        },
        "2518889e828f4961bc144e37697e906d": {
          "model_module": "@jupyter-widgets/base",
          "model_module_version": "1.2.0",
          "model_name": "LayoutModel",
          "state": {
            "_model_module": "@jupyter-widgets/base",
            "_model_module_version": "1.2.0",
            "_model_name": "LayoutModel",
            "_view_count": null,
            "_view_module": "@jupyter-widgets/base",
            "_view_module_version": "1.2.0",
            "_view_name": "LayoutView",
            "align_content": null,
            "align_items": null,
            "align_self": null,
            "border": null,
            "bottom": null,
            "display": null,
            "flex": null,
            "flex_flow": null,
            "grid_area": null,
            "grid_auto_columns": null,
            "grid_auto_flow": null,
            "grid_auto_rows": null,
            "grid_column": null,
            "grid_gap": null,
            "grid_row": null,
            "grid_template_areas": null,
            "grid_template_columns": null,
            "grid_template_rows": null,
            "height": null,
            "justify_content": null,
            "justify_items": null,
            "left": null,
            "margin": null,
            "max_height": null,
            "max_width": null,
            "min_height": null,
            "min_width": null,
            "object_fit": null,
            "object_position": null,
            "order": null,
            "overflow": null,
            "overflow_x": null,
            "overflow_y": null,
            "padding": null,
            "right": null,
            "top": null,
            "visibility": null,
            "width": null
          }
        },
        "35f0018a9209431babd53176ff2291fc": {
          "model_module": "@jupyter-widgets/base",
          "model_module_version": "1.2.0",
          "model_name": "LayoutModel",
          "state": {
            "_model_module": "@jupyter-widgets/base",
            "_model_module_version": "1.2.0",
            "_model_name": "LayoutModel",
            "_view_count": null,
            "_view_module": "@jupyter-widgets/base",
            "_view_module_version": "1.2.0",
            "_view_name": "LayoutView",
            "align_content": null,
            "align_items": null,
            "align_self": null,
            "border": null,
            "bottom": null,
            "display": null,
            "flex": null,
            "flex_flow": null,
            "grid_area": null,
            "grid_auto_columns": null,
            "grid_auto_flow": null,
            "grid_auto_rows": null,
            "grid_column": null,
            "grid_gap": null,
            "grid_row": null,
            "grid_template_areas": null,
            "grid_template_columns": null,
            "grid_template_rows": null,
            "height": null,
            "justify_content": null,
            "justify_items": null,
            "left": null,
            "margin": null,
            "max_height": null,
            "max_width": null,
            "min_height": null,
            "min_width": null,
            "object_fit": null,
            "object_position": null,
            "order": null,
            "overflow": null,
            "overflow_x": null,
            "overflow_y": null,
            "padding": null,
            "right": null,
            "top": null,
            "visibility": null,
            "width": null
          }
        },
        "3d8a017813674ca5a98eb48fb7ab3302": {
          "model_module": "@jupyter-widgets/base",
          "model_module_version": "1.2.0",
          "model_name": "LayoutModel",
          "state": {
            "_model_module": "@jupyter-widgets/base",
            "_model_module_version": "1.2.0",
            "_model_name": "LayoutModel",
            "_view_count": null,
            "_view_module": "@jupyter-widgets/base",
            "_view_module_version": "1.2.0",
            "_view_name": "LayoutView",
            "align_content": null,
            "align_items": null,
            "align_self": null,
            "border": null,
            "bottom": null,
            "display": null,
            "flex": null,
            "flex_flow": null,
            "grid_area": null,
            "grid_auto_columns": null,
            "grid_auto_flow": null,
            "grid_auto_rows": null,
            "grid_column": null,
            "grid_gap": null,
            "grid_row": null,
            "grid_template_areas": null,
            "grid_template_columns": null,
            "grid_template_rows": null,
            "height": null,
            "justify_content": null,
            "justify_items": null,
            "left": null,
            "margin": null,
            "max_height": null,
            "max_width": null,
            "min_height": null,
            "min_width": null,
            "object_fit": null,
            "object_position": null,
            "order": null,
            "overflow": null,
            "overflow_x": null,
            "overflow_y": null,
            "padding": null,
            "right": null,
            "top": null,
            "visibility": null,
            "width": null
          }
        },
        "40e3b9d01ec34c0e948c4b53462aa434": {
          "model_module": "@jupyter-widgets/controls",
          "model_module_version": "1.5.0",
          "model_name": "DescriptionStyleModel",
          "state": {
            "_model_module": "@jupyter-widgets/controls",
            "_model_module_version": "1.5.0",
            "_model_name": "DescriptionStyleModel",
            "_view_count": null,
            "_view_module": "@jupyter-widgets/base",
            "_view_module_version": "1.2.0",
            "_view_name": "StyleView",
            "description_width": ""
          }
        },
        "412246406f844bca9f3769c59af50ac4": {
          "model_module": "@jupyter-widgets/controls",
          "model_module_version": "1.5.0",
          "model_name": "HTMLModel",
          "state": {
            "_dom_classes": [],
            "_model_module": "@jupyter-widgets/controls",
            "_model_module_version": "1.5.0",
            "_model_name": "HTMLModel",
            "_view_count": null,
            "_view_module": "@jupyter-widgets/controls",
            "_view_module_version": "1.5.0",
            "_view_name": "HTMLView",
            "description": "",
            "description_tooltip": null,
            "layout": "IPY_MODEL_05ad143ff1524cb7b1d3915a9b166c80",
            "placeholder": "​",
            "style": "IPY_MODEL_c0fa8544d60d486b9d01667a1c4607a3",
            "value": "pytorch_model.bin: 100%"
          }
        },
        "491762f1bbf944b4a9d9a47634e81e35": {
          "model_module": "@jupyter-widgets/controls",
          "model_module_version": "1.5.0",
          "model_name": "HTMLModel",
          "state": {
            "_dom_classes": [],
            "_model_module": "@jupyter-widgets/controls",
            "_model_module_version": "1.5.0",
            "_model_name": "HTMLModel",
            "_view_count": null,
            "_view_module": "@jupyter-widgets/controls",
            "_view_module_version": "1.5.0",
            "_view_name": "HTMLView",
            "description": "",
            "description_tooltip": null,
            "layout": "IPY_MODEL_5375ba7fe9f84f7483a39f6ae98df236",
            "placeholder": "​",
            "style": "IPY_MODEL_c7c3c89973664906acdbf19ab1ef347e",
            "value": "spiece.model: 100%"
          }
        },
        "52e5b406cdc64d07a3c29c7d7c1b639b": {
          "model_module": "@jupyter-widgets/base",
          "model_module_version": "1.2.0",
          "model_name": "LayoutModel",
          "state": {
            "_model_module": "@jupyter-widgets/base",
            "_model_module_version": "1.2.0",
            "_model_name": "LayoutModel",
            "_view_count": null,
            "_view_module": "@jupyter-widgets/base",
            "_view_module_version": "1.2.0",
            "_view_name": "LayoutView",
            "align_content": null,
            "align_items": null,
            "align_self": null,
            "border": null,
            "bottom": null,
            "display": null,
            "flex": null,
            "flex_flow": null,
            "grid_area": null,
            "grid_auto_columns": null,
            "grid_auto_flow": null,
            "grid_auto_rows": null,
            "grid_column": null,
            "grid_gap": null,
            "grid_row": null,
            "grid_template_areas": null,
            "grid_template_columns": null,
            "grid_template_rows": null,
            "height": null,
            "justify_content": null,
            "justify_items": null,
            "left": null,
            "margin": null,
            "max_height": null,
            "max_width": null,
            "min_height": null,
            "min_width": null,
            "object_fit": null,
            "object_position": null,
            "order": null,
            "overflow": null,
            "overflow_x": null,
            "overflow_y": null,
            "padding": null,
            "right": null,
            "top": null,
            "visibility": null,
            "width": null
          }
        },
        "5375ba7fe9f84f7483a39f6ae98df236": {
          "model_module": "@jupyter-widgets/base",
          "model_module_version": "1.2.0",
          "model_name": "LayoutModel",
          "state": {
            "_model_module": "@jupyter-widgets/base",
            "_model_module_version": "1.2.0",
            "_model_name": "LayoutModel",
            "_view_count": null,
            "_view_module": "@jupyter-widgets/base",
            "_view_module_version": "1.2.0",
            "_view_name": "LayoutView",
            "align_content": null,
            "align_items": null,
            "align_self": null,
            "border": null,
            "bottom": null,
            "display": null,
            "flex": null,
            "flex_flow": null,
            "grid_area": null,
            "grid_auto_columns": null,
            "grid_auto_flow": null,
            "grid_auto_rows": null,
            "grid_column": null,
            "grid_gap": null,
            "grid_row": null,
            "grid_template_areas": null,
            "grid_template_columns": null,
            "grid_template_rows": null,
            "height": null,
            "justify_content": null,
            "justify_items": null,
            "left": null,
            "margin": null,
            "max_height": null,
            "max_width": null,
            "min_height": null,
            "min_width": null,
            "object_fit": null,
            "object_position": null,
            "order": null,
            "overflow": null,
            "overflow_x": null,
            "overflow_y": null,
            "padding": null,
            "right": null,
            "top": null,
            "visibility": null,
            "width": null
          }
        },
        "54b7b87faa534a9d813d1fba7085e845": {
          "model_module": "@jupyter-widgets/controls",
          "model_module_version": "1.5.0",
          "model_name": "ProgressStyleModel",
          "state": {
            "_model_module": "@jupyter-widgets/controls",
            "_model_module_version": "1.5.0",
            "_model_name": "ProgressStyleModel",
            "_view_count": null,
            "_view_module": "@jupyter-widgets/base",
            "_view_module_version": "1.2.0",
            "_view_name": "StyleView",
            "bar_color": null,
            "description_width": ""
          }
        },
        "55f86abc02024991a396fe22c54b20e7": {
          "model_module": "@jupyter-widgets/controls",
          "model_module_version": "1.5.0",
          "model_name": "HTMLModel",
          "state": {
            "_dom_classes": [],
            "_model_module": "@jupyter-widgets/controls",
            "_model_module_version": "1.5.0",
            "_model_name": "HTMLModel",
            "_view_count": null,
            "_view_module": "@jupyter-widgets/controls",
            "_view_module_version": "1.5.0",
            "_view_name": "HTMLView",
            "description": "",
            "description_tooltip": null,
            "layout": "IPY_MODEL_88da8733cb2646f4b8c2f4d45f78a4dd",
            "placeholder": "​",
            "style": "IPY_MODEL_e6eb58fd023b4876b9cff3408a93b14c",
            "value": " 371k/371k [00:00&lt;00:00, 5.10MB/s]"
          }
        },
        "588f2378386c4b2cbd6707f021054a68": {
          "model_module": "@jupyter-widgets/controls",
          "model_module_version": "1.5.0",
          "model_name": "HTMLModel",
          "state": {
            "_dom_classes": [],
            "_model_module": "@jupyter-widgets/controls",
            "_model_module_version": "1.5.0",
            "_model_name": "HTMLModel",
            "_view_count": null,
            "_view_module": "@jupyter-widgets/controls",
            "_view_module_version": "1.5.0",
            "_view_name": "HTMLView",
            "description": "",
            "description_tooltip": null,
            "layout": "IPY_MODEL_75f1e3b8961b41bbb8ae2eb68c59d655",
            "placeholder": "​",
            "style": "IPY_MODEL_5d9487d65d404ad6a8796f448e4cd9fe",
            "value": "special_tokens_map.json: 100%"
          }
        },
        "5bdaa19b85684e5390697e294cd9190a": {
          "model_module": "@jupyter-widgets/base",
          "model_module_version": "1.2.0",
          "model_name": "LayoutModel",
          "state": {
            "_model_module": "@jupyter-widgets/base",
            "_model_module_version": "1.2.0",
            "_model_name": "LayoutModel",
            "_view_count": null,
            "_view_module": "@jupyter-widgets/base",
            "_view_module_version": "1.2.0",
            "_view_name": "LayoutView",
            "align_content": null,
            "align_items": null,
            "align_self": null,
            "border": null,
            "bottom": null,
            "display": null,
            "flex": null,
            "flex_flow": null,
            "grid_area": null,
            "grid_auto_columns": null,
            "grid_auto_flow": null,
            "grid_auto_rows": null,
            "grid_column": null,
            "grid_gap": null,
            "grid_row": null,
            "grid_template_areas": null,
            "grid_template_columns": null,
            "grid_template_rows": null,
            "height": null,
            "justify_content": null,
            "justify_items": null,
            "left": null,
            "margin": null,
            "max_height": null,
            "max_width": null,
            "min_height": null,
            "min_width": null,
            "object_fit": null,
            "object_position": null,
            "order": null,
            "overflow": null,
            "overflow_x": null,
            "overflow_y": null,
            "padding": null,
            "right": null,
            "top": null,
            "visibility": null,
            "width": null
          }
        },
        "5d9487d65d404ad6a8796f448e4cd9fe": {
          "model_module": "@jupyter-widgets/controls",
          "model_module_version": "1.5.0",
          "model_name": "DescriptionStyleModel",
          "state": {
            "_model_module": "@jupyter-widgets/controls",
            "_model_module_version": "1.5.0",
            "_model_name": "DescriptionStyleModel",
            "_view_count": null,
            "_view_module": "@jupyter-widgets/base",
            "_view_module_version": "1.2.0",
            "_view_name": "StyleView",
            "description_width": ""
          }
        },
        "5dba152fe157488bb0d59bea43c1d4f3": {
          "model_module": "@jupyter-widgets/controls",
          "model_module_version": "1.5.0",
          "model_name": "HTMLModel",
          "state": {
            "_dom_classes": [],
            "_model_module": "@jupyter-widgets/controls",
            "_model_module_version": "1.5.0",
            "_model_name": "HTMLModel",
            "_view_count": null,
            "_view_module": "@jupyter-widgets/controls",
            "_view_module_version": "1.5.0",
            "_view_name": "HTMLView",
            "description": "",
            "description_tooltip": null,
            "layout": "IPY_MODEL_3d8a017813674ca5a98eb48fb7ab3302",
            "placeholder": "​",
            "style": "IPY_MODEL_40e3b9d01ec34c0e948c4b53462aa434",
            "value": " 369M/369M [00:03&lt;00:00, 113MB/s]"
          }
        },
        "67b1436054ca472dabc989012a7a289e": {
          "model_module": "@jupyter-widgets/controls",
          "model_module_version": "1.5.0",
          "model_name": "FloatProgressModel",
          "state": {
            "_dom_classes": [],
            "_model_module": "@jupyter-widgets/controls",
            "_model_module_version": "1.5.0",
            "_model_name": "FloatProgressModel",
            "_view_count": null,
            "_view_module": "@jupyter-widgets/controls",
            "_view_module_version": "1.5.0",
            "_view_name": "ProgressView",
            "bar_style": "success",
            "description": "",
            "description_tooltip": null,
            "layout": "IPY_MODEL_5bdaa19b85684e5390697e294cd9190a",
            "max": 244,
            "min": 0,
            "orientation": "horizontal",
            "style": "IPY_MODEL_69c26f52927b44b691e87b9034ca8a9d",
            "value": 244
          }
        },
        "69c26f52927b44b691e87b9034ca8a9d": {
          "model_module": "@jupyter-widgets/controls",
          "model_module_version": "1.5.0",
          "model_name": "ProgressStyleModel",
          "state": {
            "_model_module": "@jupyter-widgets/controls",
            "_model_module_version": "1.5.0",
            "_model_name": "ProgressStyleModel",
            "_view_count": null,
            "_view_module": "@jupyter-widgets/base",
            "_view_module_version": "1.2.0",
            "_view_name": "StyleView",
            "bar_color": null,
            "description_width": ""
          }
        },
        "69f77a4c4c894d7fbbfdf5f186950459": {
          "model_module": "@jupyter-widgets/controls",
          "model_module_version": "1.5.0",
          "model_name": "DescriptionStyleModel",
          "state": {
            "_model_module": "@jupyter-widgets/controls",
            "_model_module_version": "1.5.0",
            "_model_name": "DescriptionStyleModel",
            "_view_count": null,
            "_view_module": "@jupyter-widgets/base",
            "_view_module_version": "1.2.0",
            "_view_name": "StyleView",
            "description_width": ""
          }
        },
        "721010663e474bb98dd8a15352a37658": {
          "model_module": "@jupyter-widgets/controls",
          "model_module_version": "1.5.0",
          "model_name": "DescriptionStyleModel",
          "state": {
            "_model_module": "@jupyter-widgets/controls",
            "_model_module_version": "1.5.0",
            "_model_name": "DescriptionStyleModel",
            "_view_count": null,
            "_view_module": "@jupyter-widgets/base",
            "_view_module_version": "1.2.0",
            "_view_name": "StyleView",
            "description_width": ""
          }
        },
        "75f1e3b8961b41bbb8ae2eb68c59d655": {
          "model_module": "@jupyter-widgets/base",
          "model_module_version": "1.2.0",
          "model_name": "LayoutModel",
          "state": {
            "_model_module": "@jupyter-widgets/base",
            "_model_module_version": "1.2.0",
            "_model_name": "LayoutModel",
            "_view_count": null,
            "_view_module": "@jupyter-widgets/base",
            "_view_module_version": "1.2.0",
            "_view_name": "LayoutView",
            "align_content": null,
            "align_items": null,
            "align_self": null,
            "border": null,
            "bottom": null,
            "display": null,
            "flex": null,
            "flex_flow": null,
            "grid_area": null,
            "grid_auto_columns": null,
            "grid_auto_flow": null,
            "grid_auto_rows": null,
            "grid_column": null,
            "grid_gap": null,
            "grid_row": null,
            "grid_template_areas": null,
            "grid_template_columns": null,
            "grid_template_rows": null,
            "height": null,
            "justify_content": null,
            "justify_items": null,
            "left": null,
            "margin": null,
            "max_height": null,
            "max_width": null,
            "min_height": null,
            "min_width": null,
            "object_fit": null,
            "object_position": null,
            "order": null,
            "overflow": null,
            "overflow_x": null,
            "overflow_y": null,
            "padding": null,
            "right": null,
            "top": null,
            "visibility": null,
            "width": null
          }
        },
        "7fa6d08c73ab4087b24881a457c3ad02": {
          "model_module": "@jupyter-widgets/controls",
          "model_module_version": "1.5.0",
          "model_name": "FloatProgressModel",
          "state": {
            "_dom_classes": [],
            "_model_module": "@jupyter-widgets/controls",
            "_model_module_version": "1.5.0",
            "_model_name": "FloatProgressModel",
            "_view_count": null,
            "_view_module": "@jupyter-widgets/controls",
            "_view_module_version": "1.5.0",
            "_view_name": "ProgressView",
            "bar_style": "success",
            "description": "",
            "description_tooltip": null,
            "layout": "IPY_MODEL_fcba43b635ed43d199806c911f360a8f",
            "max": 535,
            "min": 0,
            "orientation": "horizontal",
            "style": "IPY_MODEL_54b7b87faa534a9d813d1fba7085e845",
            "value": 535
          }
        },
        "8782fb3c22c148778731aab0c7ec8a6f": {
          "model_module": "@jupyter-widgets/base",
          "model_module_version": "1.2.0",
          "model_name": "LayoutModel",
          "state": {
            "_model_module": "@jupyter-widgets/base",
            "_model_module_version": "1.2.0",
            "_model_name": "LayoutModel",
            "_view_count": null,
            "_view_module": "@jupyter-widgets/base",
            "_view_module_version": "1.2.0",
            "_view_name": "LayoutView",
            "align_content": null,
            "align_items": null,
            "align_self": null,
            "border": null,
            "bottom": null,
            "display": null,
            "flex": null,
            "flex_flow": null,
            "grid_area": null,
            "grid_auto_columns": null,
            "grid_auto_flow": null,
            "grid_auto_rows": null,
            "grid_column": null,
            "grid_gap": null,
            "grid_row": null,
            "grid_template_areas": null,
            "grid_template_columns": null,
            "grid_template_rows": null,
            "height": null,
            "justify_content": null,
            "justify_items": null,
            "left": null,
            "margin": null,
            "max_height": null,
            "max_width": null,
            "min_height": null,
            "min_width": null,
            "object_fit": null,
            "object_position": null,
            "order": null,
            "overflow": null,
            "overflow_x": null,
            "overflow_y": null,
            "padding": null,
            "right": null,
            "top": null,
            "visibility": null,
            "width": null
          }
        },
        "88da8733cb2646f4b8c2f4d45f78a4dd": {
          "model_module": "@jupyter-widgets/base",
          "model_module_version": "1.2.0",
          "model_name": "LayoutModel",
          "state": {
            "_model_module": "@jupyter-widgets/base",
            "_model_module_version": "1.2.0",
            "_model_name": "LayoutModel",
            "_view_count": null,
            "_view_module": "@jupyter-widgets/base",
            "_view_module_version": "1.2.0",
            "_view_name": "LayoutView",
            "align_content": null,
            "align_items": null,
            "align_self": null,
            "border": null,
            "bottom": null,
            "display": null,
            "flex": null,
            "flex_flow": null,
            "grid_area": null,
            "grid_auto_columns": null,
            "grid_auto_flow": null,
            "grid_auto_rows": null,
            "grid_column": null,
            "grid_gap": null,
            "grid_row": null,
            "grid_template_areas": null,
            "grid_template_columns": null,
            "grid_template_rows": null,
            "height": null,
            "justify_content": null,
            "justify_items": null,
            "left": null,
            "margin": null,
            "max_height": null,
            "max_width": null,
            "min_height": null,
            "min_width": null,
            "object_fit": null,
            "object_position": null,
            "order": null,
            "overflow": null,
            "overflow_x": null,
            "overflow_y": null,
            "padding": null,
            "right": null,
            "top": null,
            "visibility": null,
            "width": null
          }
        },
        "8ca87fd3b49b4321ac8131a847027c59": {
          "model_module": "@jupyter-widgets/controls",
          "model_module_version": "1.5.0",
          "model_name": "HBoxModel",
          "state": {
            "_dom_classes": [],
            "_model_module": "@jupyter-widgets/controls",
            "_model_module_version": "1.5.0",
            "_model_name": "HBoxModel",
            "_view_count": null,
            "_view_module": "@jupyter-widgets/controls",
            "_view_module_version": "1.5.0",
            "_view_name": "HBoxView",
            "box_style": "",
            "children": [
              "IPY_MODEL_b315c23d5cf347738515d65bca666b3a",
              "IPY_MODEL_7fa6d08c73ab4087b24881a457c3ad02",
              "IPY_MODEL_b322954fb4f348ce993e7dd18f297a55"
            ],
            "layout": "IPY_MODEL_ce3b6917fa99489488c56efaeb01f5a7"
          }
        },
        "914d3e71ced64e34a1bb9c2171dff3dd": {
          "model_module": "@jupyter-widgets/controls",
          "model_module_version": "1.5.0",
          "model_name": "DescriptionStyleModel",
          "state": {
            "_model_module": "@jupyter-widgets/controls",
            "_model_module_version": "1.5.0",
            "_model_name": "DescriptionStyleModel",
            "_view_count": null,
            "_view_module": "@jupyter-widgets/base",
            "_view_module_version": "1.2.0",
            "_view_name": "StyleView",
            "description_width": ""
          }
        },
        "92fc3abf2667454fb0fc97b5c14fca02": {
          "model_module": "@jupyter-widgets/controls",
          "model_module_version": "1.5.0",
          "model_name": "ProgressStyleModel",
          "state": {
            "_model_module": "@jupyter-widgets/controls",
            "_model_module_version": "1.5.0",
            "_model_name": "ProgressStyleModel",
            "_view_count": null,
            "_view_module": "@jupyter-widgets/base",
            "_view_module_version": "1.2.0",
            "_view_name": "StyleView",
            "bar_color": null,
            "description_width": ""
          }
        },
        "97a3ba1cb7124a37836a19ac5ec6b5fd": {
          "model_module": "@jupyter-widgets/controls",
          "model_module_version": "1.5.0",
          "model_name": "ProgressStyleModel",
          "state": {
            "_model_module": "@jupyter-widgets/controls",
            "_model_module_version": "1.5.0",
            "_model_name": "ProgressStyleModel",
            "_view_count": null,
            "_view_module": "@jupyter-widgets/base",
            "_view_module_version": "1.2.0",
            "_view_name": "StyleView",
            "bar_color": null,
            "description_width": ""
          }
        },
        "a82ecb19fa5b4d4895301e4bbbfa49a4": {
          "model_module": "@jupyter-widgets/base",
          "model_module_version": "1.2.0",
          "model_name": "LayoutModel",
          "state": {
            "_model_module": "@jupyter-widgets/base",
            "_model_module_version": "1.2.0",
            "_model_name": "LayoutModel",
            "_view_count": null,
            "_view_module": "@jupyter-widgets/base",
            "_view_module_version": "1.2.0",
            "_view_name": "LayoutView",
            "align_content": null,
            "align_items": null,
            "align_self": null,
            "border": null,
            "bottom": null,
            "display": null,
            "flex": null,
            "flex_flow": null,
            "grid_area": null,
            "grid_auto_columns": null,
            "grid_auto_flow": null,
            "grid_auto_rows": null,
            "grid_column": null,
            "grid_gap": null,
            "grid_row": null,
            "grid_template_areas": null,
            "grid_template_columns": null,
            "grid_template_rows": null,
            "height": null,
            "justify_content": null,
            "justify_items": null,
            "left": null,
            "margin": null,
            "max_height": null,
            "max_width": null,
            "min_height": null,
            "min_width": null,
            "object_fit": null,
            "object_position": null,
            "order": null,
            "overflow": null,
            "overflow_x": null,
            "overflow_y": null,
            "padding": null,
            "right": null,
            "top": null,
            "visibility": null,
            "width": null
          }
        },
        "a89357411fc347699827b23e54e5c9a2": {
          "model_module": "@jupyter-widgets/base",
          "model_module_version": "1.2.0",
          "model_name": "LayoutModel",
          "state": {
            "_model_module": "@jupyter-widgets/base",
            "_model_module_version": "1.2.0",
            "_model_name": "LayoutModel",
            "_view_count": null,
            "_view_module": "@jupyter-widgets/base",
            "_view_module_version": "1.2.0",
            "_view_name": "LayoutView",
            "align_content": null,
            "align_items": null,
            "align_self": null,
            "border": null,
            "bottom": null,
            "display": null,
            "flex": null,
            "flex_flow": null,
            "grid_area": null,
            "grid_auto_columns": null,
            "grid_auto_flow": null,
            "grid_auto_rows": null,
            "grid_column": null,
            "grid_gap": null,
            "grid_row": null,
            "grid_template_areas": null,
            "grid_template_columns": null,
            "grid_template_rows": null,
            "height": null,
            "justify_content": null,
            "justify_items": null,
            "left": null,
            "margin": null,
            "max_height": null,
            "max_width": null,
            "min_height": null,
            "min_width": null,
            "object_fit": null,
            "object_position": null,
            "order": null,
            "overflow": null,
            "overflow_x": null,
            "overflow_y": null,
            "padding": null,
            "right": null,
            "top": null,
            "visibility": null,
            "width": null
          }
        },
        "b16889af7490482f937d62c7bb1a8dc1": {
          "model_module": "@jupyter-widgets/controls",
          "model_module_version": "1.5.0",
          "model_name": "HBoxModel",
          "state": {
            "_dom_classes": [],
            "_model_module": "@jupyter-widgets/controls",
            "_model_module_version": "1.5.0",
            "_model_name": "HBoxModel",
            "_view_count": null,
            "_view_module": "@jupyter-widgets/controls",
            "_view_module_version": "1.5.0",
            "_view_name": "HBoxView",
            "box_style": "",
            "children": [
              "IPY_MODEL_c4e2ed038804421a8388d38c3f09ca0d",
              "IPY_MODEL_b7802262fd3d4c40b6c4ab2ba23fe325",
              "IPY_MODEL_eec978a1d682412b93be1bc8c3212307"
            ],
            "layout": "IPY_MODEL_e981d6de3b0a481f8c9cdcd681615b75"
          }
        },
        "b315c23d5cf347738515d65bca666b3a": {
          "model_module": "@jupyter-widgets/controls",
          "model_module_version": "1.5.0",
          "model_name": "HTMLModel",
          "state": {
            "_dom_classes": [],
            "_model_module": "@jupyter-widgets/controls",
            "_model_module_version": "1.5.0",
            "_model_name": "HTMLModel",
            "_view_count": null,
            "_view_module": "@jupyter-widgets/controls",
            "_view_module_version": "1.5.0",
            "_view_name": "HTMLView",
            "description": "",
            "description_tooltip": null,
            "layout": "IPY_MODEL_e09b40c556d5411e8d757685124b184c",
            "placeholder": "​",
            "style": "IPY_MODEL_f97f548963ba4bf8a39da3e7847c7843",
            "value": "config.json: 100%"
          }
        },
        "b322954fb4f348ce993e7dd18f297a55": {
          "model_module": "@jupyter-widgets/controls",
          "model_module_version": "1.5.0",
          "model_name": "HTMLModel",
          "state": {
            "_dom_classes": [],
            "_model_module": "@jupyter-widgets/controls",
            "_model_module_version": "1.5.0",
            "_model_name": "HTMLModel",
            "_view_count": null,
            "_view_module": "@jupyter-widgets/controls",
            "_view_module_version": "1.5.0",
            "_view_name": "HTMLView",
            "description": "",
            "description_tooltip": null,
            "layout": "IPY_MODEL_35f0018a9209431babd53176ff2291fc",
            "placeholder": "​",
            "style": "IPY_MODEL_69f77a4c4c894d7fbbfdf5f186950459",
            "value": " 535/535 [00:00&lt;00:00, 22.0kB/s]"
          }
        },
        "b7802262fd3d4c40b6c4ab2ba23fe325": {
          "model_module": "@jupyter-widgets/controls",
          "model_module_version": "1.5.0",
          "model_name": "FloatProgressModel",
          "state": {
            "_dom_classes": [],
            "_model_module": "@jupyter-widgets/controls",
            "_model_module_version": "1.5.0",
            "_model_name": "FloatProgressModel",
            "_view_count": null,
            "_view_module": "@jupyter-widgets/controls",
            "_view_module_version": "1.5.0",
            "_view_name": "ProgressView",
            "bar_style": "success",
            "description": "",
            "description_tooltip": null,
            "layout": "IPY_MODEL_1047bc68c0a64d9e80d8432cfda5f1f5",
            "max": 432,
            "min": 0,
            "orientation": "horizontal",
            "style": "IPY_MODEL_92fc3abf2667454fb0fc97b5c14fca02",
            "value": 432
          }
        },
        "bd36dc05480e488f81f1567378f0a7f5": {
          "model_module": "@jupyter-widgets/controls",
          "model_module_version": "1.5.0",
          "model_name": "HBoxModel",
          "state": {
            "_dom_classes": [],
            "_model_module": "@jupyter-widgets/controls",
            "_model_module_version": "1.5.0",
            "_model_name": "HBoxModel",
            "_view_count": null,
            "_view_module": "@jupyter-widgets/controls",
            "_view_module_version": "1.5.0",
            "_view_name": "HBoxView",
            "box_style": "",
            "children": [
              "IPY_MODEL_588f2378386c4b2cbd6707f021054a68",
              "IPY_MODEL_67b1436054ca472dabc989012a7a289e",
              "IPY_MODEL_24715661b79147a590ecfd414b8a762a"
            ],
            "layout": "IPY_MODEL_a89357411fc347699827b23e54e5c9a2"
          }
        },
        "c0fa8544d60d486b9d01667a1c4607a3": {
          "model_module": "@jupyter-widgets/controls",
          "model_module_version": "1.5.0",
          "model_name": "DescriptionStyleModel",
          "state": {
            "_model_module": "@jupyter-widgets/controls",
            "_model_module_version": "1.5.0",
            "_model_name": "DescriptionStyleModel",
            "_view_count": null,
            "_view_module": "@jupyter-widgets/base",
            "_view_module_version": "1.2.0",
            "_view_name": "StyleView",
            "description_width": ""
          }
        },
        "c4e2ed038804421a8388d38c3f09ca0d": {
          "model_module": "@jupyter-widgets/controls",
          "model_module_version": "1.5.0",
          "model_name": "HTMLModel",
          "state": {
            "_dom_classes": [],
            "_model_module": "@jupyter-widgets/controls",
            "_model_module_version": "1.5.0",
            "_model_name": "HTMLModel",
            "_view_count": null,
            "_view_module": "@jupyter-widgets/controls",
            "_view_module_version": "1.5.0",
            "_view_name": "HTMLView",
            "description": "",
            "description_tooltip": null,
            "layout": "IPY_MODEL_ce0234ebcdaf47b3bababf2d3c8c7cf6",
            "placeholder": "​",
            "style": "IPY_MODEL_914d3e71ced64e34a1bb9c2171dff3dd",
            "value": "tokenizer_config.json: 100%"
          }
        },
        "c7c3c89973664906acdbf19ab1ef347e": {
          "model_module": "@jupyter-widgets/controls",
          "model_module_version": "1.5.0",
          "model_name": "DescriptionStyleModel",
          "state": {
            "_model_module": "@jupyter-widgets/controls",
            "_model_module_version": "1.5.0",
            "_model_name": "DescriptionStyleModel",
            "_view_count": null,
            "_view_module": "@jupyter-widgets/base",
            "_view_module_version": "1.2.0",
            "_view_name": "StyleView",
            "description_width": ""
          }
        },
        "c874fd15911f492ab8507d6abcca3252": {
          "model_module": "@jupyter-widgets/controls",
          "model_module_version": "1.5.0",
          "model_name": "FloatProgressModel",
          "state": {
            "_dom_classes": [],
            "_model_module": "@jupyter-widgets/controls",
            "_model_module_version": "1.5.0",
            "_model_name": "FloatProgressModel",
            "_view_count": null,
            "_view_module": "@jupyter-widgets/controls",
            "_view_module_version": "1.5.0",
            "_view_name": "ProgressView",
            "bar_style": "success",
            "description": "",
            "description_tooltip": null,
            "layout": "IPY_MODEL_52e5b406cdc64d07a3c29c7d7c1b639b",
            "max": 368792544,
            "min": 0,
            "orientation": "horizontal",
            "style": "IPY_MODEL_97a3ba1cb7124a37836a19ac5ec6b5fd",
            "value": 368792544
          }
        },
        "ce0234ebcdaf47b3bababf2d3c8c7cf6": {
          "model_module": "@jupyter-widgets/base",
          "model_module_version": "1.2.0",
          "model_name": "LayoutModel",
          "state": {
            "_model_module": "@jupyter-widgets/base",
            "_model_module_version": "1.2.0",
            "_model_name": "LayoutModel",
            "_view_count": null,
            "_view_module": "@jupyter-widgets/base",
            "_view_module_version": "1.2.0",
            "_view_name": "LayoutView",
            "align_content": null,
            "align_items": null,
            "align_self": null,
            "border": null,
            "bottom": null,
            "display": null,
            "flex": null,
            "flex_flow": null,
            "grid_area": null,
            "grid_auto_columns": null,
            "grid_auto_flow": null,
            "grid_auto_rows": null,
            "grid_column": null,
            "grid_gap": null,
            "grid_row": null,
            "grid_template_areas": null,
            "grid_template_columns": null,
            "grid_template_rows": null,
            "height": null,
            "justify_content": null,
            "justify_items": null,
            "left": null,
            "margin": null,
            "max_height": null,
            "max_width": null,
            "min_height": null,
            "min_width": null,
            "object_fit": null,
            "object_position": null,
            "order": null,
            "overflow": null,
            "overflow_x": null,
            "overflow_y": null,
            "padding": null,
            "right": null,
            "top": null,
            "visibility": null,
            "width": null
          }
        },
        "ce3b6917fa99489488c56efaeb01f5a7": {
          "model_module": "@jupyter-widgets/base",
          "model_module_version": "1.2.0",
          "model_name": "LayoutModel",
          "state": {
            "_model_module": "@jupyter-widgets/base",
            "_model_module_version": "1.2.0",
            "_model_name": "LayoutModel",
            "_view_count": null,
            "_view_module": "@jupyter-widgets/base",
            "_view_module_version": "1.2.0",
            "_view_name": "LayoutView",
            "align_content": null,
            "align_items": null,
            "align_self": null,
            "border": null,
            "bottom": null,
            "display": null,
            "flex": null,
            "flex_flow": null,
            "grid_area": null,
            "grid_auto_columns": null,
            "grid_auto_flow": null,
            "grid_auto_rows": null,
            "grid_column": null,
            "grid_gap": null,
            "grid_row": null,
            "grid_template_areas": null,
            "grid_template_columns": null,
            "grid_template_rows": null,
            "height": null,
            "justify_content": null,
            "justify_items": null,
            "left": null,
            "margin": null,
            "max_height": null,
            "max_width": null,
            "min_height": null,
            "min_width": null,
            "object_fit": null,
            "object_position": null,
            "order": null,
            "overflow": null,
            "overflow_x": null,
            "overflow_y": null,
            "padding": null,
            "right": null,
            "top": null,
            "visibility": null,
            "width": null
          }
        },
        "d8d098d39b7040dfaa2e9168e842c25e": {
          "model_module": "@jupyter-widgets/controls",
          "model_module_version": "1.5.0",
          "model_name": "HBoxModel",
          "state": {
            "_dom_classes": [],
            "_model_module": "@jupyter-widgets/controls",
            "_model_module_version": "1.5.0",
            "_model_name": "HBoxModel",
            "_view_count": null,
            "_view_module": "@jupyter-widgets/controls",
            "_view_module_version": "1.5.0",
            "_view_name": "HBoxView",
            "box_style": "",
            "children": [
              "IPY_MODEL_491762f1bbf944b4a9d9a47634e81e35",
              "IPY_MODEL_e44b5cdc0ed141cab04300e745b38905",
              "IPY_MODEL_55f86abc02024991a396fe22c54b20e7"
            ],
            "layout": "IPY_MODEL_e9331df2463e4e949c90758dc7bbf421"
          }
        },
        "e09b40c556d5411e8d757685124b184c": {
          "model_module": "@jupyter-widgets/base",
          "model_module_version": "1.2.0",
          "model_name": "LayoutModel",
          "state": {
            "_model_module": "@jupyter-widgets/base",
            "_model_module_version": "1.2.0",
            "_model_name": "LayoutModel",
            "_view_count": null,
            "_view_module": "@jupyter-widgets/base",
            "_view_module_version": "1.2.0",
            "_view_name": "LayoutView",
            "align_content": null,
            "align_items": null,
            "align_self": null,
            "border": null,
            "bottom": null,
            "display": null,
            "flex": null,
            "flex_flow": null,
            "grid_area": null,
            "grid_auto_columns": null,
            "grid_auto_flow": null,
            "grid_auto_rows": null,
            "grid_column": null,
            "grid_gap": null,
            "grid_row": null,
            "grid_template_areas": null,
            "grid_template_columns": null,
            "grid_template_rows": null,
            "height": null,
            "justify_content": null,
            "justify_items": null,
            "left": null,
            "margin": null,
            "max_height": null,
            "max_width": null,
            "min_height": null,
            "min_width": null,
            "object_fit": null,
            "object_position": null,
            "order": null,
            "overflow": null,
            "overflow_x": null,
            "overflow_y": null,
            "padding": null,
            "right": null,
            "top": null,
            "visibility": null,
            "width": null
          }
        },
        "e1e85c09be594fd9bc8b046affc04223": {
          "model_module": "@jupyter-widgets/controls",
          "model_module_version": "1.5.0",
          "model_name": "DescriptionStyleModel",
          "state": {
            "_model_module": "@jupyter-widgets/controls",
            "_model_module_version": "1.5.0",
            "_model_name": "DescriptionStyleModel",
            "_view_count": null,
            "_view_module": "@jupyter-widgets/base",
            "_view_module_version": "1.2.0",
            "_view_name": "StyleView",
            "description_width": ""
          }
        },
        "e44b5cdc0ed141cab04300e745b38905": {
          "model_module": "@jupyter-widgets/controls",
          "model_module_version": "1.5.0",
          "model_name": "FloatProgressModel",
          "state": {
            "_dom_classes": [],
            "_model_module": "@jupyter-widgets/controls",
            "_model_module_version": "1.5.0",
            "_model_name": "FloatProgressModel",
            "_view_count": null,
            "_view_module": "@jupyter-widgets/controls",
            "_view_module_version": "1.5.0",
            "_view_name": "ProgressView",
            "bar_style": "success",
            "description": "",
            "description_tooltip": null,
            "layout": "IPY_MODEL_a82ecb19fa5b4d4895301e4bbbfa49a4",
            "max": 371427,
            "min": 0,
            "orientation": "horizontal",
            "style": "IPY_MODEL_e78c6a4c61b9409288d7d4a22a5abd55",
            "value": 371427
          }
        },
        "e6eb58fd023b4876b9cff3408a93b14c": {
          "model_module": "@jupyter-widgets/controls",
          "model_module_version": "1.5.0",
          "model_name": "DescriptionStyleModel",
          "state": {
            "_model_module": "@jupyter-widgets/controls",
            "_model_module_version": "1.5.0",
            "_model_name": "DescriptionStyleModel",
            "_view_count": null,
            "_view_module": "@jupyter-widgets/base",
            "_view_module_version": "1.2.0",
            "_view_name": "StyleView",
            "description_width": ""
          }
        },
        "e78c6a4c61b9409288d7d4a22a5abd55": {
          "model_module": "@jupyter-widgets/controls",
          "model_module_version": "1.5.0",
          "model_name": "ProgressStyleModel",
          "state": {
            "_model_module": "@jupyter-widgets/controls",
            "_model_module_version": "1.5.0",
            "_model_name": "ProgressStyleModel",
            "_view_count": null,
            "_view_module": "@jupyter-widgets/base",
            "_view_module_version": "1.2.0",
            "_view_name": "StyleView",
            "bar_color": null,
            "description_width": ""
          }
        },
        "e9331df2463e4e949c90758dc7bbf421": {
          "model_module": "@jupyter-widgets/base",
          "model_module_version": "1.2.0",
          "model_name": "LayoutModel",
          "state": {
            "_model_module": "@jupyter-widgets/base",
            "_model_module_version": "1.2.0",
            "_model_name": "LayoutModel",
            "_view_count": null,
            "_view_module": "@jupyter-widgets/base",
            "_view_module_version": "1.2.0",
            "_view_name": "LayoutView",
            "align_content": null,
            "align_items": null,
            "align_self": null,
            "border": null,
            "bottom": null,
            "display": null,
            "flex": null,
            "flex_flow": null,
            "grid_area": null,
            "grid_auto_columns": null,
            "grid_auto_flow": null,
            "grid_auto_rows": null,
            "grid_column": null,
            "grid_gap": null,
            "grid_row": null,
            "grid_template_areas": null,
            "grid_template_columns": null,
            "grid_template_rows": null,
            "height": null,
            "justify_content": null,
            "justify_items": null,
            "left": null,
            "margin": null,
            "max_height": null,
            "max_width": null,
            "min_height": null,
            "min_width": null,
            "object_fit": null,
            "object_position": null,
            "order": null,
            "overflow": null,
            "overflow_x": null,
            "overflow_y": null,
            "padding": null,
            "right": null,
            "top": null,
            "visibility": null,
            "width": null
          }
        },
        "e981d6de3b0a481f8c9cdcd681615b75": {
          "model_module": "@jupyter-widgets/base",
          "model_module_version": "1.2.0",
          "model_name": "LayoutModel",
          "state": {
            "_model_module": "@jupyter-widgets/base",
            "_model_module_version": "1.2.0",
            "_model_name": "LayoutModel",
            "_view_count": null,
            "_view_module": "@jupyter-widgets/base",
            "_view_module_version": "1.2.0",
            "_view_name": "LayoutView",
            "align_content": null,
            "align_items": null,
            "align_self": null,
            "border": null,
            "bottom": null,
            "display": null,
            "flex": null,
            "flex_flow": null,
            "grid_area": null,
            "grid_auto_columns": null,
            "grid_auto_flow": null,
            "grid_auto_rows": null,
            "grid_column": null,
            "grid_gap": null,
            "grid_row": null,
            "grid_template_areas": null,
            "grid_template_columns": null,
            "grid_template_rows": null,
            "height": null,
            "justify_content": null,
            "justify_items": null,
            "left": null,
            "margin": null,
            "max_height": null,
            "max_width": null,
            "min_height": null,
            "min_width": null,
            "object_fit": null,
            "object_position": null,
            "order": null,
            "overflow": null,
            "overflow_x": null,
            "overflow_y": null,
            "padding": null,
            "right": null,
            "top": null,
            "visibility": null,
            "width": null
          }
        },
        "eec978a1d682412b93be1bc8c3212307": {
          "model_module": "@jupyter-widgets/controls",
          "model_module_version": "1.5.0",
          "model_name": "HTMLModel",
          "state": {
            "_dom_classes": [],
            "_model_module": "@jupyter-widgets/controls",
            "_model_module_version": "1.5.0",
            "_model_name": "HTMLModel",
            "_view_count": null,
            "_view_module": "@jupyter-widgets/controls",
            "_view_module_version": "1.5.0",
            "_view_name": "HTMLView",
            "description": "",
            "description_tooltip": null,
            "layout": "IPY_MODEL_f90ab133bf6444a1b9448472ac4f32c5",
            "placeholder": "​",
            "style": "IPY_MODEL_e1e85c09be594fd9bc8b046affc04223",
            "value": " 432/432 [00:00&lt;00:00, 23.8kB/s]"
          }
        },
        "f90ab133bf6444a1b9448472ac4f32c5": {
          "model_module": "@jupyter-widgets/base",
          "model_module_version": "1.2.0",
          "model_name": "LayoutModel",
          "state": {
            "_model_module": "@jupyter-widgets/base",
            "_model_module_version": "1.2.0",
            "_model_name": "LayoutModel",
            "_view_count": null,
            "_view_module": "@jupyter-widgets/base",
            "_view_module_version": "1.2.0",
            "_view_name": "LayoutView",
            "align_content": null,
            "align_items": null,
            "align_self": null,
            "border": null,
            "bottom": null,
            "display": null,
            "flex": null,
            "flex_flow": null,
            "grid_area": null,
            "grid_auto_columns": null,
            "grid_auto_flow": null,
            "grid_auto_rows": null,
            "grid_column": null,
            "grid_gap": null,
            "grid_row": null,
            "grid_template_areas": null,
            "grid_template_columns": null,
            "grid_template_rows": null,
            "height": null,
            "justify_content": null,
            "justify_items": null,
            "left": null,
            "margin": null,
            "max_height": null,
            "max_width": null,
            "min_height": null,
            "min_width": null,
            "object_fit": null,
            "object_position": null,
            "order": null,
            "overflow": null,
            "overflow_x": null,
            "overflow_y": null,
            "padding": null,
            "right": null,
            "top": null,
            "visibility": null,
            "width": null
          }
        },
        "f97f548963ba4bf8a39da3e7847c7843": {
          "model_module": "@jupyter-widgets/controls",
          "model_module_version": "1.5.0",
          "model_name": "DescriptionStyleModel",
          "state": {
            "_model_module": "@jupyter-widgets/controls",
            "_model_module_version": "1.5.0",
            "_model_name": "DescriptionStyleModel",
            "_view_count": null,
            "_view_module": "@jupyter-widgets/base",
            "_view_module_version": "1.2.0",
            "_view_name": "StyleView",
            "description_width": ""
          }
        },
        "fc47d842670049a5affeffbbf6f8629f": {
          "model_module": "@jupyter-widgets/controls",
          "model_module_version": "1.5.0",
          "model_name": "HBoxModel",
          "state": {
            "_dom_classes": [],
            "_model_module": "@jupyter-widgets/controls",
            "_model_module_version": "1.5.0",
            "_model_name": "HBoxModel",
            "_view_count": null,
            "_view_module": "@jupyter-widgets/controls",
            "_view_module_version": "1.5.0",
            "_view_name": "HBoxView",
            "box_style": "",
            "children": [
              "IPY_MODEL_412246406f844bca9f3769c59af50ac4",
              "IPY_MODEL_c874fd15911f492ab8507d6abcca3252",
              "IPY_MODEL_5dba152fe157488bb0d59bea43c1d4f3"
            ],
            "layout": "IPY_MODEL_8782fb3c22c148778731aab0c7ec8a6f"
          }
        },
        "fcba43b635ed43d199806c911f360a8f": {
          "model_module": "@jupyter-widgets/base",
          "model_module_version": "1.2.0",
          "model_name": "LayoutModel",
          "state": {
            "_model_module": "@jupyter-widgets/base",
            "_model_module_version": "1.2.0",
            "_model_name": "LayoutModel",
            "_view_count": null,
            "_view_module": "@jupyter-widgets/base",
            "_view_module_version": "1.2.0",
            "_view_name": "LayoutView",
            "align_content": null,
            "align_items": null,
            "align_self": null,
            "border": null,
            "bottom": null,
            "display": null,
            "flex": null,
            "flex_flow": null,
            "grid_area": null,
            "grid_auto_columns": null,
            "grid_auto_flow": null,
            "grid_auto_rows": null,
            "grid_column": null,
            "grid_gap": null,
            "grid_row": null,
            "grid_template_areas": null,
            "grid_template_columns": null,
            "grid_template_rows": null,
            "height": null,
            "justify_content": null,
            "justify_items": null,
            "left": null,
            "margin": null,
            "max_height": null,
            "max_width": null,
            "min_height": null,
            "min_width": null,
            "object_fit": null,
            "object_position": null,
            "order": null,
            "overflow": null,
            "overflow_x": null,
            "overflow_y": null,
            "padding": null,
            "right": null,
            "top": null,
            "visibility": null,
            "width": null
          }
        }
      }
    }
  },
  "nbformat": 4,
  "nbformat_minor": 0
}